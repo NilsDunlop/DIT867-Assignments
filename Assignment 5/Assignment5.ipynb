{
 "cells": [
  {
   "cell_type": "markdown",
   "id": "e02c6b96b85df5a1",
   "metadata": {},
   "source": [
    "# Assignment 5\n",
    "## Group Members:\n",
    "### Nils Dunlop, e-mail: gusdunlni@student.gu.se\n",
    "### Francisco Alejandro Erazo Piza, e-mail: guserafr@student.gu.se\n",
    "### Chukwudumebi Ubogu, e-mail: gusuboch@student.gu.se\n",
    "***"
   ]
  },
  {
   "cell_type": "markdown",
   "id": "7d86d47ab6dab10b",
   "metadata": {},
   "source": [
    "### Task 1: A small linear regression example in PyTorch\n",
    "***"
   ]
  },
  {
   "cell_type": "markdown",
   "id": "c91ba3fee8f92ad9",
   "metadata": {},
   "source": [
    "#### Task 1 Discussion\n",
    "***\n",
    "Our model demonstrated substantial improvement over the training period, with the MSE reducing from an initial value of 0.7999 in epoch 1 to approximately 0.0094 by epoch 10. This progression indicates successful parameter optimization, aligning with the expected outcome of a correctly implemented linear regression model in PyTorch."
   ]
  },
  {
   "cell_type": "markdown",
   "id": "4539efc4250cf860",
   "metadata": {},
   "source": [
    "### Task 2: Implementing tensor arithmetics for forward computations\n",
    "***\n",
    "\n",
    "We decided to centralize tasks 2-4 in the next cell because we faced several challenges when trying to replicate and adjust the code across multiple cells for each task.  Initially, we copied the code from previous steps to incorporate these new requirements. But this strategy made it harder to keep track of changes and increased the likelihood of mistakes. "
   ]
  },
  {
   "cell_type": "markdown",
   "id": "ac7db0907890df63",
   "metadata": {},
   "source": [
    "### Task 4: Implementing the backward computations\n",
    "***"
   ]
  },
  {
   "cell_type": "markdown",
   "id": "e3fb06c52184da60",
   "metadata": {},
   "source": [
    "### Task 5: Optimizers to update the model parameters\n",
    "***"
   ]
  },
  {
   "cell_type": "markdown",
   "id": "61112bebd20cf885",
   "metadata": {},
   "source": [
    "### Task 6: Classifying raisins\n",
    "***"
   ]
  }
 ],
 "metadata": {
  "kernelspec": {
   "display_name": "Python 3 (ipykernel)",
   "language": "python",
   "name": "python3"
  },
  "language_info": {
   "codemirror_mode": {
    "name": "ipython",
    "version": 3
   },
   "file_extension": ".py",
   "mimetype": "text/x-python",
   "name": "python",
   "nbconvert_exporter": "python",
   "pygments_lexer": "ipython3",
   "version": "3.10.13"
  }
 },
 "nbformat": 4,
 "nbformat_minor": 5
}
