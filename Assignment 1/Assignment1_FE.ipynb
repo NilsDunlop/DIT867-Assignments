{
 "cells": [
  {
   "cell_type": "markdown",
   "metadata": {},
   "source": [
    "## Task 1: A classification example: fetal heart condition diagnosis\n",
    "***\n",
    "## Group Members:\n",
    "### Nils Dunlop, e-mail: gusdunlni@student.gu.se\n",
    "### Francisco Alejandro Erazo Piza, e-mail: guserafr@student.gu.se\n",
    "### Chukwudumebi Ubogu, e-mail: gusuboch@student.gu.se"
   ]
  },
  {
   "cell_type": "markdown",
   "metadata": {},
   "source": [
    "### Step 1. Reading the data"
   ]
  },
  {
   "cell_type": "code",
   "execution_count": 3,
   "metadata": {
    "ExecuteTime": {
     "end_time": "2024-01-19T09:10:52.632680Z",
     "start_time": "2024-01-19T09:10:52.585680600Z"
    }
   },
   "outputs": [],
   "source": [
    "import pandas as pd\n",
    "from sklearn.model_selection import train_test_split\n",
    "\n",
    "# Read the CSV file.\n",
    "data = pd.read_csv('CTG.csv', skiprows=1)\n",
    "\n",
    "# Select the relevant numerical columns.\n",
    "selected_cols = ['LB', 'AC', 'FM', 'UC', 'DL', 'DS', 'DP', 'ASTV', 'MSTV', 'ALTV',\n",
    "                 'MLTV', 'Width', 'Min', 'Max', 'Nmax', 'Nzeros', 'Mode', 'Mean',\n",
    "                 'Median', 'Variance', 'Tendency', 'NSP']\n",
    "data = data[selected_cols].dropna()\n",
    "\n",
    "# Shuffle the dataset.\n",
    "data_shuffled = data.sample(frac=1.0, random_state=0)\n",
    "\n",
    "# Split into input part X and output part Y.\n",
    "X = data_shuffled.drop('NSP', axis=1)\n",
    "\n",
    "# Map the diagnosis code to a human-readable label.\n",
    "def to_label(y):\n",
    "    return [None, 'normal', 'suspect', 'pathologic'][(int(y))]\n",
    "\n",
    "Y = data_shuffled['NSP'].apply(to_label)\n",
    "\n",
    "# Partition the data into training and test sets.\n",
    "Xtrain, Xtest, Ytrain, Ytest = train_test_split(X, Y, test_size=0.2, random_state=0)"
   ]
  },
  {
   "cell_type": "code",
   "execution_count": 4,
   "metadata": {
    "ExecuteTime": {
     "end_time": "2024-01-19T09:10:52.696675200Z",
     "start_time": "2024-01-19T09:10:52.634676900Z"
    }
   },
   "outputs": [
    {
     "data": {
      "text/plain": "         LB   AC   FM   UC   DL   DS   DP  ASTV  MSTV  ALTV  ...  Width  \\\n658   130.0  1.0  0.0  3.0  0.0  0.0  0.0  24.0   1.2  12.0  ...   35.0   \n1734  134.0  9.0  1.0  8.0  5.0  0.0  0.0  59.0   1.2   0.0  ...  109.0   \n1226  125.0  1.0  0.0  4.0  0.0  0.0  0.0  43.0   0.7  31.0  ...   21.0   \n1808  143.0  0.0  0.0  1.0  0.0  0.0  0.0  69.0   0.3   6.0  ...   27.0   \n825   152.0  0.0  0.0  4.0  0.0  0.0  0.0  62.0   0.4  59.0  ...   25.0   \n\n        Min    Max  Nmax  Nzeros   Mode   Mean  Median  Variance  Tendency  \n658   120.0  155.0   1.0     0.0  134.0  133.0   135.0       1.0       0.0  \n1734   80.0  189.0   6.0     0.0  150.0  146.0   150.0      33.0       0.0  \n1226  120.0  141.0   0.0     0.0  131.0  130.0   132.0       1.0       0.0  \n1808  132.0  159.0   1.0     0.0  145.0  144.0   146.0       1.0       0.0  \n825   136.0  161.0   0.0     0.0  159.0  156.0   158.0       1.0       1.0  \n\n[5 rows x 21 columns]",
      "text/html": "<div>\n<style scoped>\n    .dataframe tbody tr th:only-of-type {\n        vertical-align: middle;\n    }\n\n    .dataframe tbody tr th {\n        vertical-align: top;\n    }\n\n    .dataframe thead th {\n        text-align: right;\n    }\n</style>\n<table border=\"1\" class=\"dataframe\">\n  <thead>\n    <tr style=\"text-align: right;\">\n      <th></th>\n      <th>LB</th>\n      <th>AC</th>\n      <th>FM</th>\n      <th>UC</th>\n      <th>DL</th>\n      <th>DS</th>\n      <th>DP</th>\n      <th>ASTV</th>\n      <th>MSTV</th>\n      <th>ALTV</th>\n      <th>...</th>\n      <th>Width</th>\n      <th>Min</th>\n      <th>Max</th>\n      <th>Nmax</th>\n      <th>Nzeros</th>\n      <th>Mode</th>\n      <th>Mean</th>\n      <th>Median</th>\n      <th>Variance</th>\n      <th>Tendency</th>\n    </tr>\n  </thead>\n  <tbody>\n    <tr>\n      <th>658</th>\n      <td>130.0</td>\n      <td>1.0</td>\n      <td>0.0</td>\n      <td>3.0</td>\n      <td>0.0</td>\n      <td>0.0</td>\n      <td>0.0</td>\n      <td>24.0</td>\n      <td>1.2</td>\n      <td>12.0</td>\n      <td>...</td>\n      <td>35.0</td>\n      <td>120.0</td>\n      <td>155.0</td>\n      <td>1.0</td>\n      <td>0.0</td>\n      <td>134.0</td>\n      <td>133.0</td>\n      <td>135.0</td>\n      <td>1.0</td>\n      <td>0.0</td>\n    </tr>\n    <tr>\n      <th>1734</th>\n      <td>134.0</td>\n      <td>9.0</td>\n      <td>1.0</td>\n      <td>8.0</td>\n      <td>5.0</td>\n      <td>0.0</td>\n      <td>0.0</td>\n      <td>59.0</td>\n      <td>1.2</td>\n      <td>0.0</td>\n      <td>...</td>\n      <td>109.0</td>\n      <td>80.0</td>\n      <td>189.0</td>\n      <td>6.0</td>\n      <td>0.0</td>\n      <td>150.0</td>\n      <td>146.0</td>\n      <td>150.0</td>\n      <td>33.0</td>\n      <td>0.0</td>\n    </tr>\n    <tr>\n      <th>1226</th>\n      <td>125.0</td>\n      <td>1.0</td>\n      <td>0.0</td>\n      <td>4.0</td>\n      <td>0.0</td>\n      <td>0.0</td>\n      <td>0.0</td>\n      <td>43.0</td>\n      <td>0.7</td>\n      <td>31.0</td>\n      <td>...</td>\n      <td>21.0</td>\n      <td>120.0</td>\n      <td>141.0</td>\n      <td>0.0</td>\n      <td>0.0</td>\n      <td>131.0</td>\n      <td>130.0</td>\n      <td>132.0</td>\n      <td>1.0</td>\n      <td>0.0</td>\n    </tr>\n    <tr>\n      <th>1808</th>\n      <td>143.0</td>\n      <td>0.0</td>\n      <td>0.0</td>\n      <td>1.0</td>\n      <td>0.0</td>\n      <td>0.0</td>\n      <td>0.0</td>\n      <td>69.0</td>\n      <td>0.3</td>\n      <td>6.0</td>\n      <td>...</td>\n      <td>27.0</td>\n      <td>132.0</td>\n      <td>159.0</td>\n      <td>1.0</td>\n      <td>0.0</td>\n      <td>145.0</td>\n      <td>144.0</td>\n      <td>146.0</td>\n      <td>1.0</td>\n      <td>0.0</td>\n    </tr>\n    <tr>\n      <th>825</th>\n      <td>152.0</td>\n      <td>0.0</td>\n      <td>0.0</td>\n      <td>4.0</td>\n      <td>0.0</td>\n      <td>0.0</td>\n      <td>0.0</td>\n      <td>62.0</td>\n      <td>0.4</td>\n      <td>59.0</td>\n      <td>...</td>\n      <td>25.0</td>\n      <td>136.0</td>\n      <td>161.0</td>\n      <td>0.0</td>\n      <td>0.0</td>\n      <td>159.0</td>\n      <td>156.0</td>\n      <td>158.0</td>\n      <td>1.0</td>\n      <td>1.0</td>\n    </tr>\n  </tbody>\n</table>\n<p>5 rows × 21 columns</p>\n</div>"
     },
     "execution_count": 4,
     "metadata": {},
     "output_type": "execute_result"
    }
   ],
   "source": [
    "# Print the first few rows\n",
    "X.head()"
   ]
  },
  {
   "cell_type": "code",
   "execution_count": 5,
   "metadata": {
    "ExecuteTime": {
     "end_time": "2024-01-19T09:10:52.757670300Z",
     "start_time": "2024-01-19T09:10:52.683678300Z"
    }
   },
   "outputs": [
    {
     "data": {
      "text/plain": "(2126, 21)"
     },
     "execution_count": 5,
     "metadata": {},
     "output_type": "execute_result"
    }
   ],
   "source": [
    "# Print the shape of the input and output data.\n",
    "X.shape"
   ]
  },
  {
   "cell_type": "code",
   "execution_count": 6,
   "metadata": {
    "ExecuteTime": {
     "end_time": "2024-01-19T09:10:52.760675800Z",
     "start_time": "2024-01-19T09:10:52.700670900Z"
    }
   },
   "outputs": [
    {
     "data": {
      "text/plain": "normal        1655\nsuspect        295\npathologic     176\nName: NSP, dtype: int64"
     },
     "execution_count": 6,
     "metadata": {},
     "output_type": "execute_result"
    }
   ],
   "source": [
    "Y.value_counts()"
   ]
  },
  {
   "cell_type": "markdown",
   "metadata": {},
   "source": [
    "### Step 2. Training the baseline classifier"
   ]
  },
  {
   "cell_type": "code",
   "execution_count": 7,
   "metadata": {
    "ExecuteTime": {
     "end_time": "2024-01-19T09:10:52.848681900Z",
     "start_time": "2024-01-19T09:10:52.718672600Z"
    }
   },
   "outputs": [],
   "source": [
    "from sklearn.dummy import DummyClassifier\n",
    "\n",
    "clf = DummyClassifier(strategy='most_frequent')"
   ]
  },
  {
   "cell_type": "code",
   "execution_count": 8,
   "metadata": {
    "ExecuteTime": {
     "end_time": "2024-01-19T09:10:52.852672100Z",
     "start_time": "2024-01-19T09:10:52.731674100Z"
    }
   },
   "outputs": [
    {
     "name": "stdout",
     "output_type": "stream",
     "text": [
      "DummyClassifier Accuracy: 0.78 (+/- 0.00)\n"
     ]
    }
   ],
   "source": [
    "from sklearn.model_selection import cross_val_score\n",
    "\n",
    "scores = cross_val_score(clf, Xtrain, Ytrain)\n",
    "\n",
    "print(\"DummyClassifier Accuracy: %0.2f (+/- %0.2f)\" % (scores.mean(), scores.std() * 2))"
   ]
  },
  {
   "cell_type": "markdown",
   "metadata": {},
   "source": [
    "### Step 3. Trying out some different classifiers"
   ]
  },
  {
   "cell_type": "code",
   "execution_count": 9,
   "metadata": {
    "ExecuteTime": {
     "end_time": "2024-01-19T09:11:00.386868700Z",
     "start_time": "2024-01-19T09:10:52.766674700Z"
    }
   },
   "outputs": [
    {
     "name": "stdout",
     "output_type": "stream",
     "text": [
      "DecisionTreeClassifier Accuracy: 0.92 (+/- 0.03)\n",
      "RandomForestClassifier Accuracy: 0.94 (+/- 0.02)\n",
      "GradientBoostingClassifier Accuracy: 0.95 (+/- 0.02)\n"
     ]
    }
   ],
   "source": [
    "# Tree-based classifiers\n",
    "from sklearn.tree import DecisionTreeClassifier\n",
    "from sklearn.ensemble import RandomForestClassifier, GradientBoostingClassifier\n",
    "\n",
    "# Evaluate the performance of a classifier using cross-validation.\n",
    "def evaluate_tree_classifiers(Xtrain, Ytrain):\n",
    "    # Define a list of classifiers\n",
    "    classifiers = [\n",
    "        (\"DecisionTreeClassifier\", DecisionTreeClassifier()),\n",
    "        (\"RandomForestClassifier\", RandomForestClassifier()),\n",
    "        (\"GradientBoostingClassifier\", GradientBoostingClassifier())\n",
    "    ]\n",
    "\n",
    "    # Iterate over classifiers and perform cross-validation\n",
    "    for name, clf in classifiers:\n",
    "        scores = cross_val_score(clf, Xtrain, Ytrain)\n",
    "        print(f\"{name} Accuracy: %0.2f (+/- %0.2f)\" % (scores.mean(), scores.std() * 2))\n",
    "\n",
    "evaluate_tree_classifiers(Xtrain, Ytrain)"
   ]
  },
  {
   "cell_type": "code",
   "execution_count": 10,
   "metadata": {
    "ExecuteTime": {
     "end_time": "2024-01-19T09:11:00.508876100Z",
     "start_time": "2024-01-19T09:11:00.378855900Z"
    }
   },
   "outputs": [
    {
     "name": "stdout",
     "output_type": "stream",
     "text": [
      "Perceptron Accuracy: 0.83 (+/- 0.12)\n"
     ]
    }
   ],
   "source": [
    "# Linear classifiers: Perceptron\n",
    "from sklearn.linear_model import Perceptron\n",
    "\n",
    "clf = Perceptron()\n",
    "scores = cross_val_score(clf, Xtrain, Ytrain)\n",
    "print(\"Perceptron Accuracy: %0.2f (+/- %0.2f)\" % (scores.mean(), scores.std() * 2))"
   ]
  },
  {
   "cell_type": "code",
   "execution_count": 11,
   "metadata": {
    "ExecuteTime": {
     "end_time": "2024-01-19T09:11:03.903791300Z",
     "start_time": "2024-01-19T09:11:00.506874900Z"
    }
   },
   "outputs": [
    {
     "name": "stdout",
     "output_type": "stream",
     "text": [
      "LogisticRegression Accuracy: 0.89 (+/- 0.02)\n"
     ]
    }
   ],
   "source": [
    "# Linear classifiers: Logistic Regression\n",
    "from sklearn.linear_model import LogisticRegression\n",
    "\n",
    "clf = LogisticRegression(solver='newton-cg')\n",
    "scores = cross_val_score(clf, Xtrain, Ytrain)\n",
    "print(\"LogisticRegression Accuracy: %0.2f (+/- %0.2f)\" % (scores.mean(), scores.std() * 2))"
   ]
  },
  {
   "cell_type": "code",
   "execution_count": 12,
   "metadata": {
    "ExecuteTime": {
     "end_time": "2024-01-19T09:11:04.118933400Z",
     "start_time": "2024-01-19T09:11:03.909802500Z"
    }
   },
   "outputs": [
    {
     "name": "stdout",
     "output_type": "stream",
     "text": [
      "LinearSVC Accuracy: 0.90 (+/- 0.03)\n"
     ]
    }
   ],
   "source": [
    "# Lineear classifiers: LinearSVC\n",
    "from sklearn.svm import LinearSVC\n",
    "\n",
    "clf = LinearSVC(dual=False)\n",
    "scores = cross_val_score(clf, Xtrain, Ytrain)\n",
    "print(\"LinearSVC Accuracy: %0.2f (+/- %0.2f)\" % (scores.mean(), scores.std() * 2))"
   ]
  },
  {
   "cell_type": "code",
   "execution_count": 13,
   "metadata": {
    "ExecuteTime": {
     "end_time": "2024-01-19T09:11:06.212365700Z",
     "start_time": "2024-01-19T09:11:04.108936Z"
    }
   },
   "outputs": [
    {
     "name": "stdout",
     "output_type": "stream",
     "text": [
      "MLPClassifier Accuracy: 0.87 (+/- 0.04)\n"
     ]
    }
   ],
   "source": [
    "# Neural Network Classifier\n",
    "from sklearn.neural_network import MLPClassifier\n",
    "\n",
    "clf = MLPClassifier()\n",
    "scores = cross_val_score(clf, Xtrain, Ytrain)\n",
    "print(\"MLPClassifier Accuracy: %0.2f (+/- %0.2f)\" % (scores.mean(), scores.std() * 2))"
   ]
  },
  {
   "cell_type": "markdown",
   "metadata": {},
   "source": [
    "### Step 4. Final evaluation"
   ]
  },
  {
   "cell_type": "code",
   "execution_count": 14,
   "metadata": {
    "ExecuteTime": {
     "end_time": "2024-01-19T09:11:07.424868100Z",
     "start_time": "2024-01-19T09:11:06.218606Z"
    }
   },
   "outputs": [
    {
     "name": "stdout",
     "output_type": "stream",
     "text": [
      "GradientBoostingClassifier Accuracy: 0.93\n"
     ]
    }
   ],
   "source": [
    "from sklearn.metrics import accuracy_score\n",
    "# Train the classifier on the training set.\n",
    "clf = GradientBoostingClassifier()\n",
    "clf.fit(Xtrain, Ytrain)\n",
    "Yguess = clf.predict(Xtest)\n",
    "print(\"GradientBoostingClassifier Accuracy: %0.2f\" % accuracy_score(Ytest, Yguess))"
   ]
  },
  {
   "cell_type": "markdown",
   "metadata": {},
   "source": [
    "## Task 2: Decision trees for classification"
   ]
  },
  {
   "cell_type": "code",
   "execution_count": 14,
   "metadata": {
    "ExecuteTime": {
     "end_time": "2024-01-19T09:11:07.479250800Z",
     "start_time": "2024-01-19T09:11:07.424868100Z"
    }
   },
   "outputs": [],
   "source": []
  }
 ],
 "metadata": {
  "kernelspec": {
   "display_name": "general",
   "language": "python",
   "name": "python3"
  },
  "language_info": {
   "codemirror_mode": {
    "name": "ipython",
    "version": 3
   },
   "file_extension": ".py",
   "mimetype": "text/x-python",
   "name": "python",
   "nbconvert_exporter": "python",
   "pygments_lexer": "ipython3",
   "version": "3.11.5"
  }
 },
 "nbformat": 4,
 "nbformat_minor": 2
}
