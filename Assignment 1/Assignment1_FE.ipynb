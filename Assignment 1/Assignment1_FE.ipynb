{
 "cells": [
  {
   "cell_type": "markdown",
   "metadata": {},
   "source": [
    "## Task 1: A classification example: fetal heart condition diagnosis\n",
    "***\n",
    "## Group Members:\n",
    "### Nils Dunlop, e-mail: gusdunlni@student.gu.se\n",
    "### Francisco Alejandro Erazo Piza, e-mail: guserafr@student.gu.se\n",
    "### Chukwudumebi Ubogu, e-mail: gusuboch@student.gu.se"
   ]
  },
  {
   "cell_type": "markdown",
   "metadata": {},
   "source": [
    "### Step 1. Reading the data"
   ]
  },
  {
   "cell_type": "code",
   "execution_count": 149,
   "metadata": {
    "ExecuteTime": {
     "end_time": "2024-01-19T10:39:04.929501Z",
     "start_time": "2024-01-19T10:39:04.812351300Z"
    }
   },
   "outputs": [],
   "source": [
    "import pandas as pd\n",
    "from sklearn.model_selection import train_test_split\n",
    "\n",
    "# Read the CSV file.\n",
    "data = pd.read_csv('CTG.csv', skiprows=1)\n",
    "\n",
    "# Select the relevant numerical columns.\n",
    "selected_cols = ['LB', 'AC', 'FM', 'UC', 'DL', 'DS', 'DP', 'ASTV', 'MSTV', 'ALTV',\n",
    "                 'MLTV', 'Width', 'Min', 'Max', 'Nmax', 'Nzeros', 'Mode', 'Mean',\n",
    "                 'Median', 'Variance', 'Tendency', 'NSP']\n",
    "data = data[selected_cols].dropna()\n",
    "\n",
    "# Shuffle the dataset.\n",
    "data_shuffled = data.sample(frac=1.0, random_state=0)\n",
    "\n",
    "# Split into input part X and output part Y.\n",
    "X = data_shuffled.drop('NSP', axis=1)\n",
    "\n",
    "# Map the diagnosis code to a human-readable label.\n",
    "def to_label(y):\n",
    "    return [None, 'normal', 'suspect', 'pathologic'][(int(y))]\n",
    "\n",
    "Y = data_shuffled['NSP'].apply(to_label)\n",
    "\n",
    "# Partition the data into training and test sets.\n",
    "Xtrain, Xtest, Ytrain, Ytest = train_test_split(X, Y, test_size=0.2, random_state=0)"
   ]
  },
  {
   "cell_type": "code",
   "execution_count": 150,
   "metadata": {
    "ExecuteTime": {
     "end_time": "2024-01-19T10:39:05.014504100Z",
     "start_time": "2024-01-19T10:39:04.932096400Z"
    }
   },
   "outputs": [
    {
     "data": {
      "text/plain": "         LB   AC   FM   UC   DL   DS   DP  ASTV  MSTV  ALTV  ...  Width  \\\n658   130.0  1.0  0.0  3.0  0.0  0.0  0.0  24.0   1.2  12.0  ...   35.0   \n1734  134.0  9.0  1.0  8.0  5.0  0.0  0.0  59.0   1.2   0.0  ...  109.0   \n1226  125.0  1.0  0.0  4.0  0.0  0.0  0.0  43.0   0.7  31.0  ...   21.0   \n1808  143.0  0.0  0.0  1.0  0.0  0.0  0.0  69.0   0.3   6.0  ...   27.0   \n825   152.0  0.0  0.0  4.0  0.0  0.0  0.0  62.0   0.4  59.0  ...   25.0   \n\n        Min    Max  Nmax  Nzeros   Mode   Mean  Median  Variance  Tendency  \n658   120.0  155.0   1.0     0.0  134.0  133.0   135.0       1.0       0.0  \n1734   80.0  189.0   6.0     0.0  150.0  146.0   150.0      33.0       0.0  \n1226  120.0  141.0   0.0     0.0  131.0  130.0   132.0       1.0       0.0  \n1808  132.0  159.0   1.0     0.0  145.0  144.0   146.0       1.0       0.0  \n825   136.0  161.0   0.0     0.0  159.0  156.0   158.0       1.0       1.0  \n\n[5 rows x 21 columns]",
      "text/html": "<div>\n<style scoped>\n    .dataframe tbody tr th:only-of-type {\n        vertical-align: middle;\n    }\n\n    .dataframe tbody tr th {\n        vertical-align: top;\n    }\n\n    .dataframe thead th {\n        text-align: right;\n    }\n</style>\n<table border=\"1\" class=\"dataframe\">\n  <thead>\n    <tr style=\"text-align: right;\">\n      <th></th>\n      <th>LB</th>\n      <th>AC</th>\n      <th>FM</th>\n      <th>UC</th>\n      <th>DL</th>\n      <th>DS</th>\n      <th>DP</th>\n      <th>ASTV</th>\n      <th>MSTV</th>\n      <th>ALTV</th>\n      <th>...</th>\n      <th>Width</th>\n      <th>Min</th>\n      <th>Max</th>\n      <th>Nmax</th>\n      <th>Nzeros</th>\n      <th>Mode</th>\n      <th>Mean</th>\n      <th>Median</th>\n      <th>Variance</th>\n      <th>Tendency</th>\n    </tr>\n  </thead>\n  <tbody>\n    <tr>\n      <th>658</th>\n      <td>130.0</td>\n      <td>1.0</td>\n      <td>0.0</td>\n      <td>3.0</td>\n      <td>0.0</td>\n      <td>0.0</td>\n      <td>0.0</td>\n      <td>24.0</td>\n      <td>1.2</td>\n      <td>12.0</td>\n      <td>...</td>\n      <td>35.0</td>\n      <td>120.0</td>\n      <td>155.0</td>\n      <td>1.0</td>\n      <td>0.0</td>\n      <td>134.0</td>\n      <td>133.0</td>\n      <td>135.0</td>\n      <td>1.0</td>\n      <td>0.0</td>\n    </tr>\n    <tr>\n      <th>1734</th>\n      <td>134.0</td>\n      <td>9.0</td>\n      <td>1.0</td>\n      <td>8.0</td>\n      <td>5.0</td>\n      <td>0.0</td>\n      <td>0.0</td>\n      <td>59.0</td>\n      <td>1.2</td>\n      <td>0.0</td>\n      <td>...</td>\n      <td>109.0</td>\n      <td>80.0</td>\n      <td>189.0</td>\n      <td>6.0</td>\n      <td>0.0</td>\n      <td>150.0</td>\n      <td>146.0</td>\n      <td>150.0</td>\n      <td>33.0</td>\n      <td>0.0</td>\n    </tr>\n    <tr>\n      <th>1226</th>\n      <td>125.0</td>\n      <td>1.0</td>\n      <td>0.0</td>\n      <td>4.0</td>\n      <td>0.0</td>\n      <td>0.0</td>\n      <td>0.0</td>\n      <td>43.0</td>\n      <td>0.7</td>\n      <td>31.0</td>\n      <td>...</td>\n      <td>21.0</td>\n      <td>120.0</td>\n      <td>141.0</td>\n      <td>0.0</td>\n      <td>0.0</td>\n      <td>131.0</td>\n      <td>130.0</td>\n      <td>132.0</td>\n      <td>1.0</td>\n      <td>0.0</td>\n    </tr>\n    <tr>\n      <th>1808</th>\n      <td>143.0</td>\n      <td>0.0</td>\n      <td>0.0</td>\n      <td>1.0</td>\n      <td>0.0</td>\n      <td>0.0</td>\n      <td>0.0</td>\n      <td>69.0</td>\n      <td>0.3</td>\n      <td>6.0</td>\n      <td>...</td>\n      <td>27.0</td>\n      <td>132.0</td>\n      <td>159.0</td>\n      <td>1.0</td>\n      <td>0.0</td>\n      <td>145.0</td>\n      <td>144.0</td>\n      <td>146.0</td>\n      <td>1.0</td>\n      <td>0.0</td>\n    </tr>\n    <tr>\n      <th>825</th>\n      <td>152.0</td>\n      <td>0.0</td>\n      <td>0.0</td>\n      <td>4.0</td>\n      <td>0.0</td>\n      <td>0.0</td>\n      <td>0.0</td>\n      <td>62.0</td>\n      <td>0.4</td>\n      <td>59.0</td>\n      <td>...</td>\n      <td>25.0</td>\n      <td>136.0</td>\n      <td>161.0</td>\n      <td>0.0</td>\n      <td>0.0</td>\n      <td>159.0</td>\n      <td>156.0</td>\n      <td>158.0</td>\n      <td>1.0</td>\n      <td>1.0</td>\n    </tr>\n  </tbody>\n</table>\n<p>5 rows × 21 columns</p>\n</div>"
     },
     "execution_count": 150,
     "metadata": {},
     "output_type": "execute_result"
    }
   ],
   "source": [
    "# Print the first few rows\n",
    "X.head()"
   ]
  },
  {
   "cell_type": "code",
   "execution_count": 151,
   "metadata": {
    "ExecuteTime": {
     "end_time": "2024-01-19T10:39:05.027018100Z",
     "start_time": "2024-01-19T10:39:04.969143800Z"
    }
   },
   "outputs": [
    {
     "data": {
      "text/plain": "(2126, 21)"
     },
     "execution_count": 151,
     "metadata": {},
     "output_type": "execute_result"
    }
   ],
   "source": [
    "# Print the shape of the input and output data.\n",
    "X.shape"
   ]
  },
  {
   "cell_type": "code",
   "execution_count": 152,
   "metadata": {
    "ExecuteTime": {
     "end_time": "2024-01-19T10:39:05.084233100Z",
     "start_time": "2024-01-19T10:39:04.983691200Z"
    }
   },
   "outputs": [
    {
     "data": {
      "text/plain": "normal        1655\nsuspect        295\npathologic     176\nName: NSP, dtype: int64"
     },
     "execution_count": 152,
     "metadata": {},
     "output_type": "execute_result"
    }
   ],
   "source": [
    "Y.value_counts()"
   ]
  },
  {
   "cell_type": "markdown",
   "metadata": {},
   "source": [
    "### Step 2. Training the baseline classifier"
   ]
  },
  {
   "cell_type": "code",
   "execution_count": 153,
   "metadata": {
    "ExecuteTime": {
     "end_time": "2024-01-19T10:39:05.107307800Z",
     "start_time": "2024-01-19T10:39:05.000336600Z"
    }
   },
   "outputs": [],
   "source": [
    "from sklearn.dummy import DummyClassifier\n",
    "\n",
    "clf = DummyClassifier(strategy='most_frequent')"
   ]
  },
  {
   "cell_type": "code",
   "execution_count": 154,
   "metadata": {
    "ExecuteTime": {
     "end_time": "2024-01-19T10:39:05.140050900Z",
     "start_time": "2024-01-19T10:39:05.022015100Z"
    }
   },
   "outputs": [
    {
     "name": "stdout",
     "output_type": "stream",
     "text": [
      "DummyClassifier Accuracy: 0.78 (+/- 0.00)\n"
     ]
    }
   ],
   "source": [
    "from sklearn.model_selection import cross_val_score\n",
    "\n",
    "scores = cross_val_score(clf, Xtrain, Ytrain)\n",
    "\n",
    "print(\"DummyClassifier Accuracy: %0.2f (+/- %0.2f)\" % (scores.mean(), scores.std() * 2))"
   ]
  },
  {
   "cell_type": "markdown",
   "metadata": {},
   "source": [
    "### Step 3. Trying out some different classifiers"
   ]
  },
  {
   "cell_type": "code",
   "execution_count": 155,
   "metadata": {
    "ExecuteTime": {
     "end_time": "2024-01-19T10:39:11.993597700Z",
     "start_time": "2024-01-19T10:39:05.099764500Z"
    }
   },
   "outputs": [
    {
     "name": "stdout",
     "output_type": "stream",
     "text": [
      "DecisionTreeClassifier Accuracy: 0.92 (+/- 0.03)\n",
      "RandomForestClassifier Accuracy: 0.94 (+/- 0.02)\n",
      "GradientBoostingClassifier Accuracy: 0.95 (+/- 0.02)\n"
     ]
    }
   ],
   "source": [
    "# Tree-based classifiers\n",
    "from sklearn.tree import DecisionTreeClassifier\n",
    "from sklearn.ensemble import RandomForestClassifier, GradientBoostingClassifier\n",
    "\n",
    "# Evaluate the performance of a classifier using cross-validation.\n",
    "def evaluate_tree_classifiers(Xtrain, Ytrain):\n",
    "    # Define a list of classifiers\n",
    "    classifiers = [\n",
    "        (\"DecisionTreeClassifier\", DecisionTreeClassifier()),\n",
    "        (\"RandomForestClassifier\", RandomForestClassifier()),\n",
    "        (\"GradientBoostingClassifier\", GradientBoostingClassifier())\n",
    "    ]\n",
    "\n",
    "    # Iterate over classifiers and perform cross-validation\n",
    "    for name, clf in classifiers:\n",
    "        scores = cross_val_score(clf, Xtrain, Ytrain)\n",
    "        print(f\"{name} Accuracy: %0.2f (+/- %0.2f)\" % (scores.mean(), scores.std() * 2))\n",
    "\n",
    "evaluate_tree_classifiers(Xtrain, Ytrain)"
   ]
  },
  {
   "cell_type": "code",
   "execution_count": 156,
   "metadata": {
    "ExecuteTime": {
     "end_time": "2024-01-19T10:39:12.055499700Z",
     "start_time": "2024-01-19T10:39:11.996124700Z"
    }
   },
   "outputs": [
    {
     "name": "stdout",
     "output_type": "stream",
     "text": [
      "Perceptron Accuracy: 0.83 (+/- 0.12)\n"
     ]
    }
   ],
   "source": [
    "# Linear classifiers: Perceptron\n",
    "from sklearn.linear_model import Perceptron\n",
    "\n",
    "clf = Perceptron()\n",
    "scores = cross_val_score(clf, Xtrain, Ytrain)\n",
    "print(\"Perceptron Accuracy: %0.2f (+/- %0.2f)\" % (scores.mean(), scores.std() * 2))"
   ]
  },
  {
   "cell_type": "code",
   "execution_count": 157,
   "metadata": {
    "ExecuteTime": {
     "end_time": "2024-01-19T10:39:15.369234Z",
     "start_time": "2024-01-19T10:39:12.061042200Z"
    }
   },
   "outputs": [
    {
     "name": "stdout",
     "output_type": "stream",
     "text": [
      "LogisticRegression Accuracy: 0.89 (+/- 0.02)\n"
     ]
    }
   ],
   "source": [
    "# Linear classifiers: Logistic Regression\n",
    "from sklearn.linear_model import LogisticRegression\n",
    "\n",
    "clf = LogisticRegression(solver='newton-cg')\n",
    "scores = cross_val_score(clf, Xtrain, Ytrain)\n",
    "print(\"LogisticRegression Accuracy: %0.2f (+/- %0.2f)\" % (scores.mean(), scores.std() * 2))"
   ]
  },
  {
   "cell_type": "code",
   "execution_count": 158,
   "metadata": {
    "ExecuteTime": {
     "end_time": "2024-01-19T10:39:15.553808800Z",
     "start_time": "2024-01-19T10:39:15.369234Z"
    }
   },
   "outputs": [
    {
     "name": "stdout",
     "output_type": "stream",
     "text": [
      "LinearSVC Accuracy: 0.90 (+/- 0.03)\n"
     ]
    }
   ],
   "source": [
    "# Lineear classifiers: LinearSVC\n",
    "from sklearn.svm import LinearSVC\n",
    "\n",
    "clf = LinearSVC(dual=False)\n",
    "scores = cross_val_score(clf, Xtrain, Ytrain)\n",
    "print(\"LinearSVC Accuracy: %0.2f (+/- %0.2f)\" % (scores.mean(), scores.std() * 2))"
   ]
  },
  {
   "cell_type": "code",
   "execution_count": 159,
   "metadata": {
    "ExecuteTime": {
     "end_time": "2024-01-19T10:39:17.436478800Z",
     "start_time": "2024-01-19T10:39:15.555809300Z"
    }
   },
   "outputs": [
    {
     "name": "stdout",
     "output_type": "stream",
     "text": [
      "MLPClassifier Accuracy: 0.87 (+/- 0.03)\n"
     ]
    }
   ],
   "source": [
    "# Neural Network Classifier\n",
    "from sklearn.neural_network import MLPClassifier\n",
    "\n",
    "clf = MLPClassifier()\n",
    "scores = cross_val_score(clf, Xtrain, Ytrain)\n",
    "print(\"MLPClassifier Accuracy: %0.2f (+/- %0.2f)\" % (scores.mean(), scores.std() * 2))"
   ]
  },
  {
   "cell_type": "markdown",
   "metadata": {},
   "source": [
    "### Step 4. Final evaluation"
   ]
  },
  {
   "cell_type": "code",
   "execution_count": 160,
   "metadata": {
    "ExecuteTime": {
     "end_time": "2024-01-19T10:39:18.655251500Z",
     "start_time": "2024-01-19T10:39:17.442200100Z"
    }
   },
   "outputs": [
    {
     "name": "stdout",
     "output_type": "stream",
     "text": [
      "GradientBoostingClassifier Accuracy: 0.93\n"
     ]
    }
   ],
   "source": [
    "from sklearn.metrics import accuracy_score\n",
    "# Train the classifier on the training set.\n",
    "clf = GradientBoostingClassifier()\n",
    "clf.fit(Xtrain, Ytrain)\n",
    "Yguess = clf.predict(Xtest)\n",
    "print(\"GradientBoostingClassifier Accuracy: %0.2f\" % accuracy_score(Ytest, Yguess))"
   ]
  },
  {
   "cell_type": "markdown",
   "metadata": {},
   "source": [
    "## Task 2: Decision trees for classification"
   ]
  },
  {
   "cell_type": "code",
   "execution_count": 161,
   "metadata": {
    "ExecuteTime": {
     "end_time": "2024-01-19T10:39:18.711936400Z",
     "start_time": "2024-01-19T10:39:18.682795700Z"
    }
   },
   "outputs": [],
   "source": [
    "# Lecture 1 Code\n",
    "\n",
    "from collections import Counter\n",
    "from graphviz import Digraph\n",
    "from sklearn.base import BaseEstimator, ClassifierMixin\n",
    "from abc import ABC, abstractmethod\n",
    "import numpy as np\n",
    "from sklearn.model_selection import StratifiedKFold\n",
    "import matplotlib.pyplot as plt\n",
    "\n",
    "def majority_sum_scorer(n_low, low_distr, n_high, high_distr):\n",
    "    maj_sum_low = low_distr.most_common(1)[0][1]\n",
    "    maj_sum_high = high_distr.most_common(1)[0][1]\n",
    "    return maj_sum_low + maj_sum_high\n",
    "\n",
    "def entropy(distr):\n",
    "    n = sum(distr.values())\n",
    "    ps = [n_i/n for n_i in distr.values()]\n",
    "    return -sum(p*np.log2(p) if p > 0 else 0 for p in ps)\n",
    "\n",
    "def info_gain_scorer(n_low, low_distr, n_high, high_distr):\n",
    "    return -(n_low*entropy(low_distr)+n_high*entropy(high_distr))/(n_low+n_high)\n",
    "\n",
    "def gini_impurity(distr):\n",
    "    n = sum(distr.values())\n",
    "    ps = [n_i/n for n_i in distr.values()]\n",
    "    return 1-sum(p**2 for p in ps)\n",
    "\n",
    "def gini_scorer(n_low, low_distr, n_high, high_distr):\n",
    "    return -(n_low*gini_impurity(low_distr)+n_high*gini_impurity(high_distr))/(n_low+n_high)\n",
    "\n",
    "class DecisionTreeLeaf:\n",
    "\n",
    "    def __init__(self, value):\n",
    "        self.value = value\n",
    "\n",
    "    # This method computes the prediction for this leaf node. This will just return a constant value.\n",
    "    def predict(self, x):\n",
    "        return self.value\n",
    "\n",
    "    # Utility function to draw a tree visually using graphviz.\n",
    "    def draw_tree(self, graph, node_counter, names):\n",
    "        node_id = str(node_counter)\n",
    "        val_str = f'{self.value:.4g}' if isinstance(self.value, float) else str(self.value)\n",
    "        graph.node(node_id, val_str, style='filled')\n",
    "        return node_counter+1, node_id\n",
    "\n",
    "    def __eq__(self, other):\n",
    "        if isinstance(other, DecisionTreeLeaf):\n",
    "            return self.value == other.value\n",
    "        else:\n",
    "            return False\n",
    "\n",
    "class DecisionTreeBranch:\n",
    "\n",
    "    def __init__(self, feature, threshold, low_subtree, high_subtree):\n",
    "        self.feature = feature\n",
    "        self.threshold = threshold\n",
    "        self.low_subtree = low_subtree\n",
    "        self.high_subtree = high_subtree\n",
    "\n",
    "    # For a branch node, we compute the prediction by first considering the feature, and then \n",
    "    # calling the upper or lower subtree, depending on whether the feature is or isn't greater\n",
    "    # than the threshold.\n",
    "    def predict(self, x):\n",
    "        if x[self.feature] <= self.threshold:\n",
    "            return self.low_subtree.predict(x)\n",
    "        else:\n",
    "            return self.high_subtree.predict(x)\n",
    "\n",
    "    # Utility function to draw a tree visually using graphviz.\n",
    "    def draw_tree(self, graph, node_counter, names):\n",
    "        node_counter, low_id = self.low_subtree.draw_tree(graph, node_counter, names)\n",
    "        node_counter, high_id = self.high_subtree.draw_tree(graph, node_counter, names)\n",
    "        node_id = str(node_counter)\n",
    "        fname = f'F{self.feature}' if names is None else names[self.feature]\n",
    "        lbl = f'{fname} > {self.threshold:.4g}?'\n",
    "        graph.node(node_id, lbl, shape='box', fillcolor='yellow', style='filled, rounded')\n",
    "        graph.edge(node_id, low_id, 'False')\n",
    "        graph.edge(node_id, high_id, 'True')\n",
    "        return node_counter+1, node_id\n",
    "\n",
    "class DecisionTree(ABC, BaseEstimator):\n",
    "\n",
    "    def __init__(self, max_depth):\n",
    "        super().__init__()\n",
    "        self.max_depth = max_depth\n",
    "\n",
    "    # As usual in scikit-learn, the training method is called *fit*. We first process the dataset so that\n",
    "    # we're sure that it's represented as a NumPy matrix. Then we call the recursive tree-building method\n",
    "    # called make_tree (see below).\n",
    "    def fit(self, X, Y):\n",
    "        if isinstance(X, pd.DataFrame):\n",
    "            self.names = X.columns\n",
    "            X = X.to_numpy()\n",
    "        elif isinstance(X, list):\n",
    "            self.names = None\n",
    "            X = np.array(X)\n",
    "        else:\n",
    "            self.names = None\n",
    "        Y = np.array(Y)\n",
    "        self.root = self.make_tree(X, Y, self.max_depth)\n",
    "\n",
    "    def draw_tree(self):\n",
    "        graph = Digraph()\n",
    "        self.root.draw_tree(graph, 0, self.names)\n",
    "        return graph\n",
    "\n",
    "    # By scikit-learn convention, the method *predict* computes the classification or regression output\n",
    "    # for a set of instances.\n",
    "    # To implement it, we call a separate method that carries out the prediction for one instance.\n",
    "    def predict(self, X):\n",
    "        if isinstance(X, pd.DataFrame):\n",
    "            X = X.to_numpy()\n",
    "        return [self.predict_one(x) for x in X]\n",
    "\n",
    "    # Predicting the output for one instance.\n",
    "    def predict_one(self, x):\n",
    "        return self.root.predict(x)\n",
    "\n",
    "        # This is the recursive training \n",
    "    def make_tree(self, X, Y, max_depth):\n",
    "\n",
    "        # We start by computing the default value that will be used if we'll return a leaf node.\n",
    "        # For classifiers, this will be the most common value in Y.\n",
    "        default_value = self.get_default_value(Y)\n",
    "\n",
    "        # First the two base cases in the recursion: is the training set completely\n",
    "        # homogeneous, or have we reached the maximum depth? Then we need to return a leaf.\n",
    "\n",
    "        # If we have reached the maximum depth, return a leaf with the majority value.\n",
    "        if max_depth == 0:\n",
    "            return DecisionTreeLeaf(default_value)\n",
    "\n",
    "        # If all the instances in the remaining training set have the same output value,\n",
    "        # return a leaf with this value.\n",
    "        if self.is_homogeneous(Y):\n",
    "            return DecisionTreeLeaf(default_value)\n",
    "\n",
    "        # Select the \"most useful\" feature and split threshold. To rank the \"usefulness\" of features,\n",
    "        # we use one of the classification or regression criteria.\n",
    "        # For each feature, we call best_split (defined in a subclass). We then maximize over the features.\n",
    "        n_features = X.shape[1]\n",
    "        _, best_feature, best_threshold = max(self.best_split(X, Y, feature) for feature in range(n_features))\n",
    "\n",
    "        if best_feature is None:\n",
    "            return DecisionTreeLeaf(default_value)\n",
    "\n",
    "        # Split the training set into subgroups, based on whether the selected feature is greater than\n",
    "        # the threshold or not\n",
    "        X_low, X_high, Y_low, Y_high = self.split_by_feature(X, Y, best_feature, best_threshold)\n",
    "\n",
    "        # Build the subtrees using a recursive call. Each subtree is associated\n",
    "        # with a value of the feature.\n",
    "        low_subtree = self.make_tree(X_low, Y_low, max_depth-1)\n",
    "        high_subtree = self.make_tree(X_high, Y_high, max_depth-1)\n",
    "\n",
    "        if low_subtree == high_subtree:\n",
    "            return low_subtree\n",
    "\n",
    "        # Return a decision tree branch containing the result.\n",
    "        return DecisionTreeBranch(best_feature, best_threshold, low_subtree, high_subtree)\n",
    "\n",
    "    # Utility method that splits the data into the \"upper\" and \"lower\" part, based on a feature\n",
    "    # and a threshold.\n",
    "    def split_by_feature(self, X, Y, feature, threshold):\n",
    "        low = X[:,feature] <= threshold\n",
    "        high = ~low\n",
    "        return X[low], X[high], Y[low], Y[high]\n",
    "\n",
    "    # The following three methods need to be implemented by the classification and regression subclasses.\n",
    "\n",
    "    @abstractmethod\n",
    "    def get_default_value(self, Y):\n",
    "        pass\n",
    "\n",
    "    @abstractmethod\n",
    "    def is_homogeneous(self, Y):\n",
    "        pass\n",
    "\n",
    "    @abstractmethod\n",
    "    def best_split(self, X, Y, feature):\n",
    "        pass\n",
    "\n",
    "class TreeClassifier(DecisionTree, ClassifierMixin):\n",
    "\n",
    "    def __init__(self, max_depth=10, criterion='maj_sum'):\n",
    "        super().__init__(max_depth)\n",
    "        self.criterion = criterion\n",
    "\n",
    "    def fit(self, X, Y):\n",
    "        # For decision tree classifiers, there are some different ways to measure\n",
    "        # the homogeneity of subsets.\n",
    "        if self.criterion == 'maj_sum':\n",
    "            self.criterion_function = majority_sum_scorer\n",
    "        elif self.criterion == 'info_gain':\n",
    "            self.criterion_function = info_gain_scorer\n",
    "        elif self.criterion == 'gini':\n",
    "            self.criterion_function = gini_scorer\n",
    "        else:\n",
    "            raise Exception(f'Unknown criterion: {self.criterion}')\n",
    "        super().fit(X, Y)\n",
    "        self.classes_ = sorted(set(Y))\n",
    "\n",
    "    # Select a default value that is going to be used if we decide to make a leaf.\n",
    "    # We will select the most common value.\n",
    "    def get_default_value(self, Y):\n",
    "        self.class_distribution = Counter(Y)\n",
    "        return self.class_distribution.most_common(1)[0][0]\n",
    "\n",
    "    # Checks whether a set of output values is homogeneous. In the classification case, \n",
    "    # this means that all output values are identical.\n",
    "    # We assume that we called get_default_value just before, so that we can access\n",
    "    # the class_distribution attribute. If the class distribution contains just one item,\n",
    "    # this means that the set is homogeneous.\n",
    "    def is_homogeneous(self, Y):\n",
    "        return len(self.class_distribution) == 1\n",
    "\n",
    "    # Finds the best splitting point for a given feature. We'll keep frequency tables (Counters)\n",
    "    # for the upper and lower parts, and then compute the impurity criterion using these tables.\n",
    "    # In the end, we return a triple consisting of\n",
    "    # - the best score we found, according to the criterion we're using\n",
    "    # - the id of the feature\n",
    "    # - the threshold for the best split\n",
    "    def best_split(self, X, Y, feature):\n",
    "\n",
    "        # Create a list of input-output pairs, where we have sorted\n",
    "        # in ascending order by the input feature we're considering.\n",
    "        sorted_indices = np.argsort(X[:, feature])\n",
    "        X_sorted = list(X[sorted_indices, feature])\n",
    "        Y_sorted = list(Y[sorted_indices])\n",
    "\n",
    "        n = len(Y)\n",
    "\n",
    "        # The frequency tables corresponding to the parts *before and including*\n",
    "        # and *after* the current element.\n",
    "        low_distr = Counter()\n",
    "        high_distr = Counter(Y)\n",
    "\n",
    "        # Keep track of the best result we've seen so far.\n",
    "        max_score = -np.inf\n",
    "        max_i = None\n",
    "\n",
    "        # Go through all the positions (excluding the last position).\n",
    "        for i in range(0, n-1):\n",
    "\n",
    "            # Input and output at the current position.\n",
    "            x_i = X_sorted[i]\n",
    "            y_i = Y_sorted[i]\n",
    "\n",
    "            # Update the frequency tables.\n",
    "            low_distr[y_i] += 1\n",
    "            high_distr[y_i] -= 1\n",
    "\n",
    "            # If the input is equal to the input at the next position, we will\n",
    "            # not consider a split here.\n",
    "            #x_next = XY[i+1][0]\n",
    "            x_next = X_sorted[i+1]\n",
    "            if x_i == x_next:\n",
    "                continue\n",
    "\n",
    "            # Compute the homogeneity criterion for a split at this position.\n",
    "            score = self.criterion_function(i+1, low_distr, n-i-1, high_distr)\n",
    "\n",
    "            # If this is the best split, remember it.\n",
    "            if score > max_score:\n",
    "                max_score = score\n",
    "                max_i = i\n",
    "\n",
    "        # If we didn't find any split (meaning that all inputs are identical), return\n",
    "        # a dummy value.\n",
    "        if max_i is None:\n",
    "            return -np.inf, None, None\n",
    "\n",
    "        # Otherwise, return the best split we found and its score.\n",
    "        split_point = 0.5*(X_sorted[max_i] + X_sorted[max_i+1])\n",
    "        return max_score, feature, split_point"
   ]
  },
  {
   "cell_type": "markdown",
   "source": [
    "### Results without hyperparameter tuning"
   ],
   "metadata": {
    "collapsed": false
   }
  },
  {
   "cell_type": "code",
   "outputs": [
    {
     "name": "stdout",
     "output_type": "stream",
     "text": [
      "TreeClassifier Accuracy: 0.91 (+/- 0.03)\n"
     ]
    }
   ],
   "source": [
    "clf = TreeClassifier()\n",
    "scores = cross_val_score(clf, Xtrain, Ytrain)\n",
    "print(\"TreeClassifier Accuracy: %0.2f (+/- %0.2f)\" % (scores.mean(), scores.std() * 2))"
   ],
   "metadata": {
    "collapsed": false,
    "ExecuteTime": {
     "end_time": "2024-01-19T10:39:20.127145Z",
     "start_time": "2024-01-19T10:39:18.706939800Z"
    }
   },
   "execution_count": 162
  },
  {
   "cell_type": "code",
   "outputs": [
    {
     "data": {
      "image/svg+xml": "<?xml version=\"1.0\" encoding=\"UTF-8\" standalone=\"no\"?>\n<!DOCTYPE svg PUBLIC \"-//W3C//DTD SVG 1.1//EN\"\n \"http://www.w3.org/Graphics/SVG/1.1/DTD/svg11.dtd\">\n<!-- Generated by graphviz version 2.50.0 (0)\n -->\n<!-- Pages: 1 -->\n<svg width=\"1442pt\" height=\"914pt\"\n viewBox=\"0.00 0.00 1441.79 914.00\" xmlns=\"http://www.w3.org/2000/svg\" xmlns:xlink=\"http://www.w3.org/1999/xlink\">\n<g id=\"graph0\" class=\"graph\" transform=\"scale(1 1) rotate(0) translate(4 910)\">\n<polygon fill=\"white\" stroke=\"transparent\" points=\"-4,4 -4,-910 1437.79,-910 1437.79,4 -4,4\"/>\n<!-- 0 -->\n<g id=\"node1\" class=\"node\">\n<title>0</title>\n<ellipse fill=\"lightgrey\" stroke=\"black\" cx=\"36.4\" cy=\"-453\" rx=\"36.29\" ry=\"18\"/>\n<text text-anchor=\"middle\" x=\"36.4\" y=\"-449.3\" font-family=\"Times New Roman,serif\" font-size=\"14.00\">suspect</text>\n</g>\n<!-- 1 -->\n<g id=\"node2\" class=\"node\">\n<title>1</title>\n<ellipse fill=\"lightgrey\" stroke=\"black\" cx=\"127.4\" cy=\"-453\" rx=\"36.29\" ry=\"18\"/>\n<text text-anchor=\"middle\" x=\"127.4\" y=\"-449.3\" font-family=\"Times New Roman,serif\" font-size=\"14.00\">normal</text>\n</g>\n<!-- 2 -->\n<g id=\"node3\" class=\"node\">\n<title>2</title>\n<path fill=\"yellow\" stroke=\"black\" d=\"M157.4,-558C157.4,-558 95.4,-558 95.4,-558 89.4,-558 83.4,-552 83.4,-546 83.4,-546 83.4,-534 83.4,-534 83.4,-528 89.4,-522 95.4,-522 95.4,-522 157.4,-522 157.4,-522 163.4,-522 169.4,-528 169.4,-534 169.4,-534 169.4,-546 169.4,-546 169.4,-552 163.4,-558 157.4,-558\"/>\n<text text-anchor=\"middle\" x=\"126.4\" y=\"-536.3\" font-family=\"Times New Roman,serif\" font-size=\"14.00\">Width &gt; 21?</text>\n</g>\n<!-- 2&#45;&gt;0 -->\n<g id=\"edge1\" class=\"edge\">\n<title>2&#45;&gt;0</title>\n<path fill=\"none\" stroke=\"black\" d=\"M108.18,-521.8C94.27,-508.66 75,-490.46 59.92,-476.22\"/>\n<polygon fill=\"black\" stroke=\"black\" points=\"62.14,-473.5 52.47,-469.18 57.34,-478.59 62.14,-473.5\"/>\n<text text-anchor=\"middle\" x=\"101.9\" y=\"-492.8\" font-family=\"Times New Roman,serif\" font-size=\"14.00\">False</text>\n</g>\n<!-- 2&#45;&gt;1 -->\n<g id=\"edge2\" class=\"edge\">\n<title>2&#45;&gt;1</title>\n<path fill=\"none\" stroke=\"black\" d=\"M126.6,-521.8C126.74,-510.16 126.92,-494.55 127.08,-481.24\"/>\n<polygon fill=\"black\" stroke=\"black\" points=\"130.58,-481.22 127.19,-471.18 123.58,-481.13 130.58,-481.22\"/>\n<text text-anchor=\"middle\" x=\"140.4\" y=\"-492.8\" font-family=\"Times New Roman,serif\" font-size=\"14.00\">True</text>\n</g>\n<!-- 3 -->\n<g id=\"node4\" class=\"node\">\n<title>3</title>\n<ellipse fill=\"lightgrey\" stroke=\"black\" cx=\"151.4\" cy=\"-366\" rx=\"36.29\" ry=\"18\"/>\n<text text-anchor=\"middle\" x=\"151.4\" y=\"-362.3\" font-family=\"Times New Roman,serif\" font-size=\"14.00\">normal</text>\n</g>\n<!-- 4 -->\n<g id=\"node5\" class=\"node\">\n<title>4</title>\n<ellipse fill=\"lightgrey\" stroke=\"black\" cx=\"242.4\" cy=\"-366\" rx=\"36.29\" ry=\"18\"/>\n<text text-anchor=\"middle\" x=\"242.4\" y=\"-362.3\" font-family=\"Times New Roman,serif\" font-size=\"14.00\">suspect</text>\n</g>\n<!-- 5 -->\n<g id=\"node6\" class=\"node\">\n<title>5</title>\n<path fill=\"yellow\" stroke=\"black\" d=\"M272.9,-471C272.9,-471 195.9,-471 195.9,-471 189.9,-471 183.9,-465 183.9,-459 183.9,-459 183.9,-447 183.9,-447 183.9,-441 189.9,-435 195.9,-435 195.9,-435 272.9,-435 272.9,-435 278.9,-435 284.9,-441 284.9,-447 284.9,-447 284.9,-459 284.9,-459 284.9,-465 278.9,-471 272.9,-471\"/>\n<text text-anchor=\"middle\" x=\"234.4\" y=\"-449.3\" font-family=\"Times New Roman,serif\" font-size=\"14.00\">Median &gt; 154?</text>\n</g>\n<!-- 5&#45;&gt;3 -->\n<g id=\"edge3\" class=\"edge\">\n<title>5&#45;&gt;3</title>\n<path fill=\"none\" stroke=\"black\" d=\"M217.6,-434.8C204.97,-421.86 187.54,-404.02 173.74,-389.88\"/>\n<polygon fill=\"black\" stroke=\"black\" points=\"175.98,-387.17 166.49,-382.46 170.98,-392.06 175.98,-387.17\"/>\n<text text-anchor=\"middle\" x=\"212.9\" y=\"-405.8\" font-family=\"Times New Roman,serif\" font-size=\"14.00\">False</text>\n</g>\n<!-- 5&#45;&gt;4 -->\n<g id=\"edge4\" class=\"edge\">\n<title>5&#45;&gt;4</title>\n<path fill=\"none\" stroke=\"black\" d=\"M236.02,-434.8C237.11,-423.16 238.58,-407.55 239.83,-394.24\"/>\n<polygon fill=\"black\" stroke=\"black\" points=\"243.33,-394.46 240.78,-384.18 236.36,-393.8 243.33,-394.46\"/>\n<text text-anchor=\"middle\" x=\"252.4\" y=\"-405.8\" font-family=\"Times New Roman,serif\" font-size=\"14.00\">True</text>\n</g>\n<!-- 6 -->\n<g id=\"node7\" class=\"node\">\n<title>6</title>\n<ellipse fill=\"lightgrey\" stroke=\"black\" cx=\"233.4\" cy=\"-192\" rx=\"36.29\" ry=\"18\"/>\n<text text-anchor=\"middle\" x=\"233.4\" y=\"-188.3\" font-family=\"Times New Roman,serif\" font-size=\"14.00\">suspect</text>\n</g>\n<!-- 7 -->\n<g id=\"node8\" class=\"node\">\n<title>7</title>\n<ellipse fill=\"lightgrey\" stroke=\"black\" cx=\"292.4\" cy=\"-105\" rx=\"48.19\" ry=\"18\"/>\n<text text-anchor=\"middle\" x=\"292.4\" y=\"-101.3\" font-family=\"Times New Roman,serif\" font-size=\"14.00\">pathologic</text>\n</g>\n<!-- 8 -->\n<g id=\"node9\" class=\"node\">\n<title>8</title>\n<ellipse fill=\"lightgrey\" stroke=\"black\" cx=\"394.4\" cy=\"-105\" rx=\"36.29\" ry=\"18\"/>\n<text text-anchor=\"middle\" x=\"394.4\" y=\"-101.3\" font-family=\"Times New Roman,serif\" font-size=\"14.00\">suspect</text>\n</g>\n<!-- 9 -->\n<g id=\"node10\" class=\"node\">\n<title>9</title>\n<path fill=\"yellow\" stroke=\"black\" d=\"M386.9,-210C386.9,-210 299.9,-210 299.9,-210 293.9,-210 287.9,-204 287.9,-198 287.9,-198 287.9,-186 287.9,-186 287.9,-180 293.9,-174 299.9,-174 299.9,-174 386.9,-174 386.9,-174 392.9,-174 398.9,-180 398.9,-186 398.9,-186 398.9,-198 398.9,-198 398.9,-204 392.9,-210 386.9,-210\"/>\n<text text-anchor=\"middle\" x=\"343.4\" y=\"-188.3\" font-family=\"Times New Roman,serif\" font-size=\"14.00\">Median &gt; 123.5?</text>\n</g>\n<!-- 9&#45;&gt;7 -->\n<g id=\"edge5\" class=\"edge\">\n<title>9&#45;&gt;7</title>\n<path fill=\"none\" stroke=\"black\" d=\"M333.08,-173.8C325.84,-161.74 316.04,-145.4 307.87,-131.79\"/>\n<polygon fill=\"black\" stroke=\"black\" points=\"310.67,-129.66 302.53,-122.89 304.67,-133.26 310.67,-129.66\"/>\n<text text-anchor=\"middle\" x=\"335.9\" y=\"-144.8\" font-family=\"Times New Roman,serif\" font-size=\"14.00\">False</text>\n</g>\n<!-- 9&#45;&gt;8 -->\n<g id=\"edge6\" class=\"edge\">\n<title>9&#45;&gt;8</title>\n<path fill=\"none\" stroke=\"black\" d=\"M353.72,-173.8C361,-161.66 370.88,-145.19 379.08,-131.52\"/>\n<polygon fill=\"black\" stroke=\"black\" points=\"382.29,-132.97 384.44,-122.6 376.29,-129.37 382.29,-132.97\"/>\n<text text-anchor=\"middle\" x=\"385.4\" y=\"-144.8\" font-family=\"Times New Roman,serif\" font-size=\"14.00\">True</text>\n</g>\n<!-- 10 -->\n<g id=\"node11\" class=\"node\">\n<title>10</title>\n<path fill=\"yellow\" stroke=\"black\" d=\"M318.9,-297C318.9,-297 229.9,-297 229.9,-297 223.9,-297 217.9,-291 217.9,-285 217.9,-285 217.9,-273 217.9,-273 217.9,-267 223.9,-261 229.9,-261 229.9,-261 318.9,-261 318.9,-261 324.9,-261 330.9,-267 330.9,-273 330.9,-273 330.9,-285 330.9,-285 330.9,-291 324.9,-297 318.9,-297\"/>\n<text text-anchor=\"middle\" x=\"274.4\" y=\"-275.3\" font-family=\"Times New Roman,serif\" font-size=\"14.00\">Tendency &gt; &#45;0.5?</text>\n</g>\n<!-- 10&#45;&gt;6 -->\n<g id=\"edge7\" class=\"edge\">\n<title>10&#45;&gt;6</title>\n<path fill=\"none\" stroke=\"black\" d=\"M266.1,-260.8C260.3,-248.78 252.45,-232.51 245.9,-218.92\"/>\n<polygon fill=\"black\" stroke=\"black\" points=\"248.9,-217.08 241.4,-209.6 242.59,-220.12 248.9,-217.08\"/>\n<text text-anchor=\"middle\" x=\"270.9\" y=\"-231.8\" font-family=\"Times New Roman,serif\" font-size=\"14.00\">False</text>\n</g>\n<!-- 10&#45;&gt;9 -->\n<g id=\"edge8\" class=\"edge\">\n<title>10&#45;&gt;9</title>\n<path fill=\"none\" stroke=\"black\" d=\"M288.36,-260.8C298.27,-248.59 311.74,-231.99 322.88,-218.28\"/>\n<polygon fill=\"black\" stroke=\"black\" points=\"325.87,-220.15 329.45,-210.18 320.43,-215.73 325.87,-220.15\"/>\n<text text-anchor=\"middle\" x=\"326.4\" y=\"-231.8\" font-family=\"Times New Roman,serif\" font-size=\"14.00\">True</text>\n</g>\n<!-- 11 -->\n<g id=\"node12\" class=\"node\">\n<title>11</title>\n<ellipse fill=\"lightgrey\" stroke=\"black\" cx=\"385.4\" cy=\"-279\" rx=\"36.29\" ry=\"18\"/>\n<text text-anchor=\"middle\" x=\"385.4\" y=\"-275.3\" font-family=\"Times New Roman,serif\" font-size=\"14.00\">normal</text>\n</g>\n<!-- 12 -->\n<g id=\"node13\" class=\"node\">\n<title>12</title>\n<path fill=\"yellow\" stroke=\"black\" d=\"M364.4,-384C364.4,-384 324.4,-384 324.4,-384 318.4,-384 312.4,-378 312.4,-372 312.4,-372 312.4,-360 312.4,-360 312.4,-354 318.4,-348 324.4,-348 324.4,-348 364.4,-348 364.4,-348 370.4,-348 376.4,-354 376.4,-360 376.4,-360 376.4,-372 376.4,-372 376.4,-378 370.4,-384 364.4,-384\"/>\n<text text-anchor=\"middle\" x=\"344.4\" y=\"-362.3\" font-family=\"Times New Roman,serif\" font-size=\"14.00\">AC &gt; 2?</text>\n</g>\n<!-- 12&#45;&gt;10 -->\n<g id=\"edge9\" class=\"edge\">\n<title>12&#45;&gt;10</title>\n<path fill=\"none\" stroke=\"black\" d=\"M330.23,-347.8C320.17,-335.59 306.51,-318.99 295.21,-305.28\"/>\n<polygon fill=\"black\" stroke=\"black\" points=\"297.6,-302.67 288.54,-297.18 292.2,-307.12 297.6,-302.67\"/>\n<text text-anchor=\"middle\" x=\"328.9\" y=\"-318.8\" font-family=\"Times New Roman,serif\" font-size=\"14.00\">False</text>\n</g>\n<!-- 12&#45;&gt;11 -->\n<g id=\"edge10\" class=\"edge\">\n<title>12&#45;&gt;11</title>\n<path fill=\"none\" stroke=\"black\" d=\"M352.69,-347.8C358.49,-335.78 366.34,-319.51 372.9,-305.92\"/>\n<polygon fill=\"black\" stroke=\"black\" points=\"376.2,-307.12 377.39,-296.6 369.89,-304.08 376.2,-307.12\"/>\n<text text-anchor=\"middle\" x=\"380.4\" y=\"-318.8\" font-family=\"Times New Roman,serif\" font-size=\"14.00\">True</text>\n</g>\n<!-- 13 -->\n<g id=\"node14\" class=\"node\">\n<title>13</title>\n<ellipse fill=\"lightgrey\" stroke=\"black\" cx=\"430.4\" cy=\"-366\" rx=\"36.29\" ry=\"18\"/>\n<text text-anchor=\"middle\" x=\"430.4\" y=\"-362.3\" font-family=\"Times New Roman,serif\" font-size=\"14.00\">normal</text>\n</g>\n<!-- 14 -->\n<g id=\"node15\" class=\"node\">\n<title>14</title>\n<path fill=\"yellow\" stroke=\"black\" d=\"M391.9,-471C391.9,-471 314.9,-471 314.9,-471 308.9,-471 302.9,-465 302.9,-459 302.9,-459 302.9,-447 302.9,-447 302.9,-441 308.9,-435 314.9,-435 314.9,-435 391.9,-435 391.9,-435 397.9,-435 403.9,-441 403.9,-447 403.9,-447 403.9,-459 403.9,-459 403.9,-465 397.9,-471 391.9,-471\"/>\n<text text-anchor=\"middle\" x=\"353.4\" y=\"-449.3\" font-family=\"Times New Roman,serif\" font-size=\"14.00\">Median &gt; 165?</text>\n</g>\n<!-- 14&#45;&gt;12 -->\n<g id=\"edge11\" class=\"edge\">\n<title>14&#45;&gt;12</title>\n<path fill=\"none\" stroke=\"black\" d=\"M351.58,-434.8C350.34,-423.16 348.69,-407.55 347.28,-394.24\"/>\n<polygon fill=\"black\" stroke=\"black\" points=\"350.75,-393.75 346.22,-384.18 343.79,-394.49 350.75,-393.75\"/>\n<text text-anchor=\"middle\" x=\"364.9\" y=\"-405.8\" font-family=\"Times New Roman,serif\" font-size=\"14.00\">False</text>\n</g>\n<!-- 14&#45;&gt;13 -->\n<g id=\"edge12\" class=\"edge\">\n<title>14&#45;&gt;13</title>\n<path fill=\"none\" stroke=\"black\" d=\"M368.98,-434.8C380.51,-422.07 396.36,-404.57 409.07,-390.54\"/>\n<polygon fill=\"black\" stroke=\"black\" points=\"412.02,-392.5 416.14,-382.74 406.83,-387.8 412.02,-392.5\"/>\n<text text-anchor=\"middle\" x=\"410.4\" y=\"-405.8\" font-family=\"Times New Roman,serif\" font-size=\"14.00\">True</text>\n</g>\n<!-- 15 -->\n<g id=\"node16\" class=\"node\">\n<title>15</title>\n<path fill=\"yellow\" stroke=\"black\" d=\"M273.4,-558C273.4,-558 199.4,-558 199.4,-558 193.4,-558 187.4,-552 187.4,-546 187.4,-546 187.4,-534 187.4,-534 187.4,-528 193.4,-522 199.4,-522 199.4,-522 273.4,-522 273.4,-522 279.4,-522 285.4,-528 285.4,-534 285.4,-534 285.4,-546 285.4,-546 285.4,-552 279.4,-558 273.4,-558\"/>\n<text text-anchor=\"middle\" x=\"236.4\" y=\"-536.3\" font-family=\"Times New Roman,serif\" font-size=\"14.00\">ASTV &gt; 59.5?</text>\n</g>\n<!-- 15&#45;&gt;5 -->\n<g id=\"edge13\" class=\"edge\">\n<title>15&#45;&gt;5</title>\n<path fill=\"none\" stroke=\"black\" d=\"M235.99,-521.8C235.72,-510.16 235.35,-494.55 235.04,-481.24\"/>\n<polygon fill=\"black\" stroke=\"black\" points=\"238.54,-481.09 234.8,-471.18 231.54,-481.26 238.54,-481.09\"/>\n<text text-anchor=\"middle\" x=\"250.9\" y=\"-492.8\" font-family=\"Times New Roman,serif\" font-size=\"14.00\">False</text>\n</g>\n<!-- 15&#45;&gt;14 -->\n<g id=\"edge14\" class=\"edge\">\n<title>15&#45;&gt;14</title>\n<path fill=\"none\" stroke=\"black\" d=\"M260.07,-521.8C277.76,-508.95 302.11,-491.26 321.51,-477.17\"/>\n<polygon fill=\"black\" stroke=\"black\" points=\"323.72,-479.88 329.76,-471.18 319.61,-474.22 323.72,-479.88\"/>\n<text text-anchor=\"middle\" x=\"315.4\" y=\"-492.8\" font-family=\"Times New Roman,serif\" font-size=\"14.00\">True</text>\n</g>\n<!-- 16 -->\n<g id=\"node17\" class=\"node\">\n<title>16</title>\n<path fill=\"yellow\" stroke=\"black\" d=\"M236.4,-645C236.4,-645 180.4,-645 180.4,-645 174.4,-645 168.4,-639 168.4,-633 168.4,-633 168.4,-621 168.4,-621 168.4,-615 174.4,-609 180.4,-609 180.4,-609 236.4,-609 236.4,-609 242.4,-609 248.4,-615 248.4,-621 248.4,-621 248.4,-633 248.4,-633 248.4,-639 242.4,-645 236.4,-645\"/>\n<text text-anchor=\"middle\" x=\"208.4\" y=\"-623.3\" font-family=\"Times New Roman,serif\" font-size=\"14.00\">ALTV &gt; 7?</text>\n</g>\n<!-- 16&#45;&gt;2 -->\n<g id=\"edge15\" class=\"edge\">\n<title>16&#45;&gt;2</title>\n<path fill=\"none\" stroke=\"black\" d=\"M191.8,-608.8C179.8,-596.36 163.41,-579.36 150.04,-565.5\"/>\n<polygon fill=\"black\" stroke=\"black\" points=\"152.43,-562.94 142.97,-558.18 147.39,-567.8 152.43,-562.94\"/>\n<text text-anchor=\"middle\" x=\"186.9\" y=\"-579.8\" font-family=\"Times New Roman,serif\" font-size=\"14.00\">False</text>\n</g>\n<!-- 16&#45;&gt;15 -->\n<g id=\"edge16\" class=\"edge\">\n<title>16&#45;&gt;15</title>\n<path fill=\"none\" stroke=\"black\" d=\"M214.06,-608.8C217.93,-597.05 223.14,-581.24 227.55,-567.84\"/>\n<polygon fill=\"black\" stroke=\"black\" points=\"230.93,-568.77 230.74,-558.18 224.29,-566.58 230.93,-568.77\"/>\n<text text-anchor=\"middle\" x=\"237.4\" y=\"-579.8\" font-family=\"Times New Roman,serif\" font-size=\"14.00\">True</text>\n</g>\n<!-- 17 -->\n<g id=\"node18\" class=\"node\">\n<title>17</title>\n<ellipse fill=\"lightgrey\" stroke=\"black\" cx=\"314.4\" cy=\"-627\" rx=\"48.19\" ry=\"18\"/>\n<text text-anchor=\"middle\" x=\"314.4\" y=\"-623.3\" font-family=\"Times New Roman,serif\" font-size=\"14.00\">pathologic</text>\n</g>\n<!-- 18 -->\n<g id=\"node19\" class=\"node\">\n<title>18</title>\n<path fill=\"yellow\" stroke=\"black\" d=\"M351.4,-732C351.4,-732 277.4,-732 277.4,-732 271.4,-732 265.4,-726 265.4,-720 265.4,-720 265.4,-708 265.4,-708 265.4,-702 271.4,-696 277.4,-696 277.4,-696 351.4,-696 351.4,-696 357.4,-696 363.4,-702 363.4,-708 363.4,-708 363.4,-720 363.4,-720 363.4,-726 357.4,-732 351.4,-732\"/>\n<text text-anchor=\"middle\" x=\"314.4\" y=\"-710.3\" font-family=\"Times New Roman,serif\" font-size=\"14.00\">ASTV &gt; 79.5?</text>\n</g>\n<!-- 18&#45;&gt;16 -->\n<g id=\"edge17\" class=\"edge\">\n<title>18&#45;&gt;16</title>\n<path fill=\"none\" stroke=\"black\" d=\"M292.95,-695.8C277.14,-683.13 255.45,-665.73 238,-651.74\"/>\n<polygon fill=\"black\" stroke=\"black\" points=\"239.81,-648.7 229.82,-645.18 235.43,-654.16 239.81,-648.7\"/>\n<text text-anchor=\"middle\" x=\"282.9\" y=\"-666.8\" font-family=\"Times New Roman,serif\" font-size=\"14.00\">False</text>\n</g>\n<!-- 18&#45;&gt;17 -->\n<g id=\"edge18\" class=\"edge\">\n<title>18&#45;&gt;17</title>\n<path fill=\"none\" stroke=\"black\" d=\"M314.4,-695.8C314.4,-684.16 314.4,-668.55 314.4,-655.24\"/>\n<polygon fill=\"black\" stroke=\"black\" points=\"317.9,-655.18 314.4,-645.18 310.9,-655.18 317.9,-655.18\"/>\n<text text-anchor=\"middle\" x=\"327.4\" y=\"-666.8\" font-family=\"Times New Roman,serif\" font-size=\"14.00\">True</text>\n</g>\n<!-- 19 -->\n<g id=\"node20\" class=\"node\">\n<title>19</title>\n<ellipse fill=\"lightgrey\" stroke=\"black\" cx=\"416.4\" cy=\"-627\" rx=\"36.29\" ry=\"18\"/>\n<text text-anchor=\"middle\" x=\"416.4\" y=\"-623.3\" font-family=\"Times New Roman,serif\" font-size=\"14.00\">normal</text>\n</g>\n<!-- 20 -->\n<g id=\"node21\" class=\"node\">\n<title>20</title>\n<ellipse fill=\"lightgrey\" stroke=\"black\" cx=\"518.4\" cy=\"-627\" rx=\"48.19\" ry=\"18\"/>\n<text text-anchor=\"middle\" x=\"518.4\" y=\"-623.3\" font-family=\"Times New Roman,serif\" font-size=\"14.00\">pathologic</text>\n</g>\n<!-- 21 -->\n<g id=\"node22\" class=\"node\">\n<title>21</title>\n<path fill=\"yellow\" stroke=\"black\" d=\"M558.9,-732C558.9,-732 469.9,-732 469.9,-732 463.9,-732 457.9,-726 457.9,-720 457.9,-720 457.9,-708 457.9,-708 457.9,-702 463.9,-696 469.9,-696 469.9,-696 558.9,-696 558.9,-696 564.9,-696 570.9,-702 570.9,-708 570.9,-708 570.9,-720 570.9,-720 570.9,-726 564.9,-732 558.9,-732\"/>\n<text text-anchor=\"middle\" x=\"514.4\" y=\"-710.3\" font-family=\"Times New Roman,serif\" font-size=\"14.00\">Tendency &gt; &#45;0.5?</text>\n</g>\n<!-- 21&#45;&gt;19 -->\n<g id=\"edge19\" class=\"edge\">\n<title>21&#45;&gt;19</title>\n<path fill=\"none\" stroke=\"black\" d=\"M494.57,-695.8C479.18,-682.46 457.78,-663.89 441.25,-649.56\"/>\n<polygon fill=\"black\" stroke=\"black\" points=\"443.43,-646.81 433.58,-642.9 438.84,-652.1 443.43,-646.81\"/>\n<text text-anchor=\"middle\" x=\"485.9\" y=\"-666.8\" font-family=\"Times New Roman,serif\" font-size=\"14.00\">False</text>\n</g>\n<!-- 21&#45;&gt;20 -->\n<g id=\"edge20\" class=\"edge\">\n<title>21&#45;&gt;20</title>\n<path fill=\"none\" stroke=\"black\" d=\"M515.21,-695.8C515.75,-684.16 516.49,-668.55 517.12,-655.24\"/>\n<polygon fill=\"black\" stroke=\"black\" points=\"520.61,-655.33 517.59,-645.18 513.62,-655 520.61,-655.33\"/>\n<text text-anchor=\"middle\" x=\"530.4\" y=\"-666.8\" font-family=\"Times New Roman,serif\" font-size=\"14.00\">True</text>\n</g>\n<!-- 22 -->\n<g id=\"node23\" class=\"node\">\n<title>22</title>\n<path fill=\"yellow\" stroke=\"black\" d=\"M551.4,-819C551.4,-819 477.4,-819 477.4,-819 471.4,-819 465.4,-813 465.4,-807 465.4,-807 465.4,-795 465.4,-795 465.4,-789 471.4,-783 477.4,-783 477.4,-783 551.4,-783 551.4,-783 557.4,-783 563.4,-789 563.4,-795 563.4,-795 563.4,-807 563.4,-807 563.4,-813 557.4,-819 551.4,-819\"/>\n<text text-anchor=\"middle\" x=\"514.4\" y=\"-797.3\" font-family=\"Times New Roman,serif\" font-size=\"14.00\">ALTV &gt; 68.5?</text>\n</g>\n<!-- 22&#45;&gt;18 -->\n<g id=\"edge21\" class=\"edge\">\n<title>22&#45;&gt;18</title>\n<path fill=\"none\" stroke=\"black\" d=\"M473.92,-782.8C442.1,-769.27 397.64,-750.38 363.73,-735.97\"/>\n<polygon fill=\"black\" stroke=\"black\" points=\"365.04,-732.72 354.47,-732.03 362.3,-739.16 365.04,-732.72\"/>\n<text text-anchor=\"middle\" x=\"440.9\" y=\"-753.8\" font-family=\"Times New Roman,serif\" font-size=\"14.00\">False</text>\n</g>\n<!-- 22&#45;&gt;21 -->\n<g id=\"edge22\" class=\"edge\">\n<title>22&#45;&gt;21</title>\n<path fill=\"none\" stroke=\"black\" d=\"M514.4,-782.8C514.4,-771.16 514.4,-755.55 514.4,-742.24\"/>\n<polygon fill=\"black\" stroke=\"black\" points=\"517.9,-742.18 514.4,-732.18 510.9,-742.18 517.9,-742.18\"/>\n<text text-anchor=\"middle\" x=\"527.4\" y=\"-753.8\" font-family=\"Times New Roman,serif\" font-size=\"14.00\">True</text>\n</g>\n<!-- 23 -->\n<g id=\"node24\" class=\"node\">\n<title>23</title>\n<ellipse fill=\"lightgrey\" stroke=\"black\" cx=\"530.4\" cy=\"-540\" rx=\"36.29\" ry=\"18\"/>\n<text text-anchor=\"middle\" x=\"530.4\" y=\"-536.3\" font-family=\"Times New Roman,serif\" font-size=\"14.00\">suspect</text>\n</g>\n<!-- 24 -->\n<g id=\"node25\" class=\"node\">\n<title>24</title>\n<ellipse fill=\"lightgrey\" stroke=\"black\" cx=\"632.4\" cy=\"-540\" rx=\"48.19\" ry=\"18\"/>\n<text text-anchor=\"middle\" x=\"632.4\" y=\"-536.3\" font-family=\"Times New Roman,serif\" font-size=\"14.00\">pathologic</text>\n</g>\n<!-- 25 -->\n<g id=\"node26\" class=\"node\">\n<title>25</title>\n<path fill=\"yellow\" stroke=\"black\" d=\"M668.4,-645C668.4,-645 596.4,-645 596.4,-645 590.4,-645 584.4,-639 584.4,-633 584.4,-633 584.4,-621 584.4,-621 584.4,-615 590.4,-609 596.4,-609 596.4,-609 668.4,-609 668.4,-609 674.4,-609 680.4,-615 680.4,-621 680.4,-621 680.4,-633 680.4,-633 680.4,-639 674.4,-645 668.4,-645\"/>\n<text text-anchor=\"middle\" x=\"632.4\" y=\"-623.3\" font-family=\"Times New Roman,serif\" font-size=\"14.00\">Width &gt; 72.5?</text>\n</g>\n<!-- 25&#45;&gt;23 -->\n<g id=\"edge23\" class=\"edge\">\n<title>25&#45;&gt;23</title>\n<path fill=\"none\" stroke=\"black\" d=\"M611.76,-608.8C595.75,-595.46 573.46,-576.89 556.27,-562.56\"/>\n<polygon fill=\"black\" stroke=\"black\" points=\"558.2,-559.62 548.28,-555.9 553.72,-564.99 558.2,-559.62\"/>\n<text text-anchor=\"middle\" x=\"602.9\" y=\"-579.8\" font-family=\"Times New Roman,serif\" font-size=\"14.00\">False</text>\n</g>\n<!-- 25&#45;&gt;24 -->\n<g id=\"edge24\" class=\"edge\">\n<title>25&#45;&gt;24</title>\n<path fill=\"none\" stroke=\"black\" d=\"M632.4,-608.8C632.4,-597.16 632.4,-581.55 632.4,-568.24\"/>\n<polygon fill=\"black\" stroke=\"black\" points=\"635.9,-568.18 632.4,-558.18 628.9,-568.18 635.9,-568.18\"/>\n<text text-anchor=\"middle\" x=\"645.4\" y=\"-579.8\" font-family=\"Times New Roman,serif\" font-size=\"14.00\">True</text>\n</g>\n<!-- 26 -->\n<g id=\"node27\" class=\"node\">\n<title>26</title>\n<ellipse fill=\"lightgrey\" stroke=\"black\" cx=\"746.4\" cy=\"-540\" rx=\"48.19\" ry=\"18\"/>\n<text text-anchor=\"middle\" x=\"746.4\" y=\"-536.3\" font-family=\"Times New Roman,serif\" font-size=\"14.00\">pathologic</text>\n</g>\n<!-- 27 -->\n<g id=\"node28\" class=\"node\">\n<title>27</title>\n<ellipse fill=\"lightgrey\" stroke=\"black\" cx=\"848.4\" cy=\"-540\" rx=\"36.29\" ry=\"18\"/>\n<text text-anchor=\"middle\" x=\"848.4\" y=\"-536.3\" font-family=\"Times New Roman,serif\" font-size=\"14.00\">normal</text>\n</g>\n<!-- 28 -->\n<g id=\"node29\" class=\"node\">\n<title>28</title>\n<path fill=\"yellow\" stroke=\"black\" d=\"M796.4,-645C796.4,-645 710.4,-645 710.4,-645 704.4,-645 698.4,-639 698.4,-633 698.4,-633 698.4,-621 698.4,-621 698.4,-615 704.4,-609 710.4,-609 710.4,-609 796.4,-609 796.4,-609 802.4,-609 808.4,-615 808.4,-621 808.4,-621 808.4,-633 808.4,-633 808.4,-639 802.4,-645 796.4,-645\"/>\n<text text-anchor=\"middle\" x=\"753.4\" y=\"-623.3\" font-family=\"Times New Roman,serif\" font-size=\"14.00\">Variance &gt; 23.5?</text>\n</g>\n<!-- 28&#45;&gt;26 -->\n<g id=\"edge25\" class=\"edge\">\n<title>28&#45;&gt;26</title>\n<path fill=\"none\" stroke=\"black\" d=\"M751.98,-608.8C751.02,-597.16 749.74,-581.55 748.64,-568.24\"/>\n<polygon fill=\"black\" stroke=\"black\" points=\"752.12,-567.85 747.81,-558.18 745.14,-568.43 752.12,-567.85\"/>\n<text text-anchor=\"middle\" x=\"764.9\" y=\"-579.8\" font-family=\"Times New Roman,serif\" font-size=\"14.00\">False</text>\n</g>\n<!-- 28&#45;&gt;27 -->\n<g id=\"edge26\" class=\"edge\">\n<title>28&#45;&gt;27</title>\n<path fill=\"none\" stroke=\"black\" d=\"M772.62,-608.8C787.3,-595.66 807.65,-577.46 823.57,-563.22\"/>\n<polygon fill=\"black\" stroke=\"black\" points=\"826.31,-565.46 831.43,-556.18 821.64,-560.24 826.31,-565.46\"/>\n<text text-anchor=\"middle\" x=\"820.4\" y=\"-579.8\" font-family=\"Times New Roman,serif\" font-size=\"14.00\">True</text>\n</g>\n<!-- 29 -->\n<g id=\"node30\" class=\"node\">\n<title>29</title>\n<path fill=\"yellow\" stroke=\"black\" d=\"M729.9,-732C729.9,-732 658.9,-732 658.9,-732 652.9,-732 646.9,-726 646.9,-720 646.9,-720 646.9,-708 646.9,-708 646.9,-702 652.9,-696 658.9,-696 658.9,-696 729.9,-696 729.9,-696 735.9,-696 741.9,-702 741.9,-708 741.9,-708 741.9,-720 741.9,-720 741.9,-726 735.9,-732 729.9,-732\"/>\n<text text-anchor=\"middle\" x=\"694.4\" y=\"-710.3\" font-family=\"Times New Roman,serif\" font-size=\"14.00\">Max &gt; 220.5?</text>\n</g>\n<!-- 29&#45;&gt;25 -->\n<g id=\"edge27\" class=\"edge\">\n<title>29&#45;&gt;25</title>\n<path fill=\"none\" stroke=\"black\" d=\"M681.85,-695.8C672.94,-683.59 660.84,-666.99 650.83,-653.28\"/>\n<polygon fill=\"black\" stroke=\"black\" points=\"653.65,-651.19 644.92,-645.18 647.99,-655.32 653.65,-651.19\"/>\n<text text-anchor=\"middle\" x=\"681.9\" y=\"-666.8\" font-family=\"Times New Roman,serif\" font-size=\"14.00\">False</text>\n</g>\n<!-- 29&#45;&gt;28 -->\n<g id=\"edge28\" class=\"edge\">\n<title>29&#45;&gt;28</title>\n<path fill=\"none\" stroke=\"black\" d=\"M706.34,-695.8C714.73,-683.7 726.11,-667.3 735.58,-653.67\"/>\n<polygon fill=\"black\" stroke=\"black\" points=\"738.65,-655.39 741.47,-645.18 732.9,-651.39 738.65,-655.39\"/>\n<text text-anchor=\"middle\" x=\"741.4\" y=\"-666.8\" font-family=\"Times New Roman,serif\" font-size=\"14.00\">True</text>\n</g>\n<!-- 30 -->\n<g id=\"node31\" class=\"node\">\n<title>30</title>\n<ellipse fill=\"lightgrey\" stroke=\"black\" cx=\"858.4\" cy=\"-453\" rx=\"48.19\" ry=\"18\"/>\n<text text-anchor=\"middle\" x=\"858.4\" y=\"-449.3\" font-family=\"Times New Roman,serif\" font-size=\"14.00\">pathologic</text>\n</g>\n<!-- 31 -->\n<g id=\"node32\" class=\"node\">\n<title>31</title>\n<ellipse fill=\"lightgrey\" stroke=\"black\" cx=\"960.4\" cy=\"-453\" rx=\"36.29\" ry=\"18\"/>\n<text text-anchor=\"middle\" x=\"960.4\" y=\"-449.3\" font-family=\"Times New Roman,serif\" font-size=\"14.00\">suspect</text>\n</g>\n<!-- 32 -->\n<g id=\"node33\" class=\"node\">\n<title>32</title>\n<path fill=\"yellow\" stroke=\"black\" d=\"M991.9,-558C991.9,-558 914.9,-558 914.9,-558 908.9,-558 902.9,-552 902.9,-546 902.9,-546 902.9,-534 902.9,-534 902.9,-528 908.9,-522 914.9,-522 914.9,-522 991.9,-522 991.9,-522 997.9,-522 1003.9,-528 1003.9,-534 1003.9,-534 1003.9,-546 1003.9,-546 1003.9,-552 997.9,-558 991.9,-558\"/>\n<text text-anchor=\"middle\" x=\"953.4\" y=\"-536.3\" font-family=\"Times New Roman,serif\" font-size=\"14.00\">MLTV &gt; 3.95?</text>\n</g>\n<!-- 32&#45;&gt;30 -->\n<g id=\"edge29\" class=\"edge\">\n<title>32&#45;&gt;30</title>\n<path fill=\"none\" stroke=\"black\" d=\"M934.17,-521.8C919.77,-508.91 899.91,-491.14 884.13,-477.03\"/>\n<polygon fill=\"black\" stroke=\"black\" points=\"886.09,-474.08 876.31,-470.03 881.43,-479.3 886.09,-474.08\"/>\n<text text-anchor=\"middle\" x=\"926.9\" y=\"-492.8\" font-family=\"Times New Roman,serif\" font-size=\"14.00\">False</text>\n</g>\n<!-- 32&#45;&gt;31 -->\n<g id=\"edge30\" class=\"edge\">\n<title>32&#45;&gt;31</title>\n<path fill=\"none\" stroke=\"black\" d=\"M954.81,-521.8C955.77,-510.16 957.06,-494.55 958.15,-481.24\"/>\n<polygon fill=\"black\" stroke=\"black\" points=\"961.65,-481.43 958.98,-471.18 954.67,-480.85 961.65,-481.43\"/>\n<text text-anchor=\"middle\" x=\"970.4\" y=\"-492.8\" font-family=\"Times New Roman,serif\" font-size=\"14.00\">True</text>\n</g>\n<!-- 33 -->\n<g id=\"node34\" class=\"node\">\n<title>33</title>\n<ellipse fill=\"lightgrey\" stroke=\"black\" cx=\"720.4\" cy=\"-105\" rx=\"36.29\" ry=\"18\"/>\n<text text-anchor=\"middle\" x=\"720.4\" y=\"-101.3\" font-family=\"Times New Roman,serif\" font-size=\"14.00\">normal</text>\n</g>\n<!-- 34 -->\n<g id=\"node35\" class=\"node\">\n<title>34</title>\n<ellipse fill=\"lightgrey\" stroke=\"black\" cx=\"727.4\" cy=\"-18\" rx=\"36.29\" ry=\"18\"/>\n<text text-anchor=\"middle\" x=\"727.4\" y=\"-14.3\" font-family=\"Times New Roman,serif\" font-size=\"14.00\">suspect</text>\n</g>\n<!-- 35 -->\n<g id=\"node36\" class=\"node\">\n<title>35</title>\n<ellipse fill=\"lightgrey\" stroke=\"black\" cx=\"829.4\" cy=\"-18\" rx=\"48.19\" ry=\"18\"/>\n<text text-anchor=\"middle\" x=\"829.4\" y=\"-14.3\" font-family=\"Times New Roman,serif\" font-size=\"14.00\">pathologic</text>\n</g>\n<!-- 36 -->\n<g id=\"node37\" class=\"node\">\n<title>36</title>\n<path fill=\"yellow\" stroke=\"black\" d=\"M863.9,-123C863.9,-123 786.9,-123 786.9,-123 780.9,-123 774.9,-117 774.9,-111 774.9,-111 774.9,-99 774.9,-99 774.9,-93 780.9,-87 786.9,-87 786.9,-87 863.9,-87 863.9,-87 869.9,-87 875.9,-93 875.9,-99 875.9,-99 875.9,-111 875.9,-111 875.9,-117 869.9,-123 863.9,-123\"/>\n<text text-anchor=\"middle\" x=\"825.4\" y=\"-101.3\" font-family=\"Times New Roman,serif\" font-size=\"14.00\">MLTV &gt; 10.1?</text>\n</g>\n<!-- 36&#45;&gt;34 -->\n<g id=\"edge31\" class=\"edge\">\n<title>36&#45;&gt;34</title>\n<path fill=\"none\" stroke=\"black\" d=\"M805.57,-86.8C790.18,-73.46 768.78,-54.89 752.25,-40.56\"/>\n<polygon fill=\"black\" stroke=\"black\" points=\"754.43,-37.81 744.58,-33.9 749.84,-43.1 754.43,-37.81\"/>\n<text text-anchor=\"middle\" x=\"796.9\" y=\"-57.8\" font-family=\"Times New Roman,serif\" font-size=\"14.00\">False</text>\n</g>\n<!-- 36&#45;&gt;35 -->\n<g id=\"edge32\" class=\"edge\">\n<title>36&#45;&gt;35</title>\n<path fill=\"none\" stroke=\"black\" d=\"M826.21,-86.8C826.75,-75.16 827.49,-59.55 828.12,-46.24\"/>\n<polygon fill=\"black\" stroke=\"black\" points=\"831.61,-46.33 828.59,-36.18 824.62,-46 831.61,-46.33\"/>\n<text text-anchor=\"middle\" x=\"841.4\" y=\"-57.8\" font-family=\"Times New Roman,serif\" font-size=\"14.00\">True</text>\n</g>\n<!-- 37 -->\n<g id=\"node38\" class=\"node\">\n<title>37</title>\n<path fill=\"yellow\" stroke=\"black\" d=\"M868.9,-210C868.9,-210 781.9,-210 781.9,-210 775.9,-210 769.9,-204 769.9,-198 769.9,-198 769.9,-186 769.9,-186 769.9,-180 775.9,-174 781.9,-174 781.9,-174 868.9,-174 868.9,-174 874.9,-174 880.9,-180 880.9,-186 880.9,-186 880.9,-198 880.9,-198 880.9,-204 874.9,-210 868.9,-210\"/>\n<text text-anchor=\"middle\" x=\"825.4\" y=\"-188.3\" font-family=\"Times New Roman,serif\" font-size=\"14.00\">Median &gt; 137.5?</text>\n</g>\n<!-- 37&#45;&gt;33 -->\n<g id=\"edge33\" class=\"edge\">\n<title>37&#45;&gt;33</title>\n<path fill=\"none\" stroke=\"black\" d=\"M804.15,-173.8C787.57,-160.38 764.44,-141.66 746.69,-127.29\"/>\n<polygon fill=\"black\" stroke=\"black\" points=\"748.44,-124.2 738.47,-120.63 744.04,-129.64 748.44,-124.2\"/>\n<text text-anchor=\"middle\" x=\"793.9\" y=\"-144.8\" font-family=\"Times New Roman,serif\" font-size=\"14.00\">False</text>\n</g>\n<!-- 37&#45;&gt;36 -->\n<g id=\"edge34\" class=\"edge\">\n<title>37&#45;&gt;36</title>\n<path fill=\"none\" stroke=\"black\" d=\"M825.4,-173.8C825.4,-162.16 825.4,-146.55 825.4,-133.24\"/>\n<polygon fill=\"black\" stroke=\"black\" points=\"828.9,-133.18 825.4,-123.18 821.9,-133.18 828.9,-133.18\"/>\n<text text-anchor=\"middle\" x=\"838.4\" y=\"-144.8\" font-family=\"Times New Roman,serif\" font-size=\"14.00\">True</text>\n</g>\n<!-- 38 -->\n<g id=\"node39\" class=\"node\">\n<title>38</title>\n<ellipse fill=\"lightgrey\" stroke=\"black\" cx=\"939.4\" cy=\"-18\" rx=\"36.29\" ry=\"18\"/>\n<text text-anchor=\"middle\" x=\"939.4\" y=\"-14.3\" font-family=\"Times New Roman,serif\" font-size=\"14.00\">suspect</text>\n</g>\n<!-- 39 -->\n<g id=\"node40\" class=\"node\">\n<title>39</title>\n<ellipse fill=\"lightgrey\" stroke=\"black\" cx=\"1030.4\" cy=\"-18\" rx=\"36.29\" ry=\"18\"/>\n<text text-anchor=\"middle\" x=\"1030.4\" y=\"-14.3\" font-family=\"Times New Roman,serif\" font-size=\"14.00\">normal</text>\n</g>\n<!-- 40 -->\n<g id=\"node41\" class=\"node\">\n<title>40</title>\n<path fill=\"yellow\" stroke=\"black\" d=\"M980.9,-123C980.9,-123 905.9,-123 905.9,-123 899.9,-123 893.9,-117 893.9,-111 893.9,-111 893.9,-99 893.9,-99 893.9,-93 899.9,-87 905.9,-87 905.9,-87 980.9,-87 980.9,-87 986.9,-87 992.9,-93 992.9,-99 992.9,-99 992.9,-111 992.9,-111 992.9,-117 986.9,-123 980.9,-123\"/>\n<text text-anchor=\"middle\" x=\"943.4\" y=\"-101.3\" font-family=\"Times New Roman,serif\" font-size=\"14.00\">Variance &gt; 21?</text>\n</g>\n<!-- 40&#45;&gt;38 -->\n<g id=\"edge35\" class=\"edge\">\n<title>40&#45;&gt;38</title>\n<path fill=\"none\" stroke=\"black\" d=\"M942.59,-86.8C942.04,-75.16 941.3,-59.55 940.68,-46.24\"/>\n<polygon fill=\"black\" stroke=\"black\" points=\"944.17,-46 940.21,-36.18 937.18,-46.33 944.17,-46\"/>\n<text text-anchor=\"middle\" x=\"956.9\" y=\"-57.8\" font-family=\"Times New Roman,serif\" font-size=\"14.00\">False</text>\n</g>\n<!-- 40&#45;&gt;39 -->\n<g id=\"edge36\" class=\"edge\">\n<title>40&#45;&gt;39</title>\n<path fill=\"none\" stroke=\"black\" d=\"M961,-86.8C974.36,-73.75 992.85,-55.68 1007.38,-41.49\"/>\n<polygon fill=\"black\" stroke=\"black\" points=\"1009.87,-43.95 1014.57,-34.46 1004.97,-38.95 1009.87,-43.95\"/>\n<text text-anchor=\"middle\" x=\"1005.4\" y=\"-57.8\" font-family=\"Times New Roman,serif\" font-size=\"14.00\">True</text>\n</g>\n<!-- 41 -->\n<g id=\"node42\" class=\"node\">\n<title>41</title>\n<ellipse fill=\"lightgrey\" stroke=\"black\" cx=\"1047.4\" cy=\"-105\" rx=\"36.29\" ry=\"18\"/>\n<text text-anchor=\"middle\" x=\"1047.4\" y=\"-101.3\" font-family=\"Times New Roman,serif\" font-size=\"14.00\">normal</text>\n</g>\n<!-- 42 -->\n<g id=\"node43\" class=\"node\">\n<title>42</title>\n<path fill=\"yellow\" stroke=\"black\" d=\"M968.4,-210C968.4,-210 918.4,-210 918.4,-210 912.4,-210 906.4,-204 906.4,-198 906.4,-198 906.4,-186 906.4,-186 906.4,-180 912.4,-174 918.4,-174 918.4,-174 968.4,-174 968.4,-174 974.4,-174 980.4,-180 980.4,-186 980.4,-186 980.4,-198 980.4,-198 980.4,-204 974.4,-210 968.4,-210\"/>\n<text text-anchor=\"middle\" x=\"943.4\" y=\"-188.3\" font-family=\"Times New Roman,serif\" font-size=\"14.00\">UC &gt; 0.5?</text>\n</g>\n<!-- 42&#45;&gt;40 -->\n<g id=\"edge37\" class=\"edge\">\n<title>42&#45;&gt;40</title>\n<path fill=\"none\" stroke=\"black\" d=\"M943.4,-173.8C943.4,-162.16 943.4,-146.55 943.4,-133.24\"/>\n<polygon fill=\"black\" stroke=\"black\" points=\"946.9,-133.18 943.4,-123.18 939.9,-133.18 946.9,-133.18\"/>\n<text text-anchor=\"middle\" x=\"957.9\" y=\"-144.8\" font-family=\"Times New Roman,serif\" font-size=\"14.00\">False</text>\n</g>\n<!-- 42&#45;&gt;41 -->\n<g id=\"edge38\" class=\"edge\">\n<title>42&#45;&gt;41</title>\n<path fill=\"none\" stroke=\"black\" d=\"M964.44,-173.8C980.76,-160.46 1003.48,-141.89 1021.02,-127.56\"/>\n<polygon fill=\"black\" stroke=\"black\" points=\"1023.63,-129.94 1029.16,-120.9 1019.2,-124.52 1023.63,-129.94\"/>\n<text text-anchor=\"middle\" x=\"1015.4\" y=\"-144.8\" font-family=\"Times New Roman,serif\" font-size=\"14.00\">True</text>\n</g>\n<!-- 43 -->\n<g id=\"node44\" class=\"node\">\n<title>43</title>\n<path fill=\"yellow\" stroke=\"black\" d=\"M973.9,-297C973.9,-297 896.9,-297 896.9,-297 890.9,-297 884.9,-291 884.9,-285 884.9,-285 884.9,-273 884.9,-273 884.9,-267 890.9,-261 896.9,-261 896.9,-261 973.9,-261 973.9,-261 979.9,-261 985.9,-267 985.9,-273 985.9,-273 985.9,-285 985.9,-285 985.9,-291 979.9,-297 973.9,-297\"/>\n<text text-anchor=\"middle\" x=\"935.4\" y=\"-275.3\" font-family=\"Times New Roman,serif\" font-size=\"14.00\">MSTV &gt; 0.55?</text>\n</g>\n<!-- 43&#45;&gt;37 -->\n<g id=\"edge39\" class=\"edge\">\n<title>43&#45;&gt;37</title>\n<path fill=\"none\" stroke=\"black\" d=\"M913.14,-260.8C896.59,-248.01 873.82,-230.42 855.62,-216.36\"/>\n<polygon fill=\"black\" stroke=\"black\" points=\"857.68,-213.52 847.62,-210.18 853.4,-219.06 857.68,-213.52\"/>\n<text text-anchor=\"middle\" x=\"901.9\" y=\"-231.8\" font-family=\"Times New Roman,serif\" font-size=\"14.00\">False</text>\n</g>\n<!-- 43&#45;&gt;42 -->\n<g id=\"edge40\" class=\"edge\">\n<title>43&#45;&gt;42</title>\n<path fill=\"none\" stroke=\"black\" d=\"M937.02,-260.8C938.11,-249.16 939.58,-233.55 940.83,-220.24\"/>\n<polygon fill=\"black\" stroke=\"black\" points=\"944.33,-220.46 941.78,-210.18 937.36,-219.8 944.33,-220.46\"/>\n<text text-anchor=\"middle\" x=\"953.4\" y=\"-231.8\" font-family=\"Times New Roman,serif\" font-size=\"14.00\">True</text>\n</g>\n<!-- 44 -->\n<g id=\"node45\" class=\"node\">\n<title>44</title>\n<ellipse fill=\"lightgrey\" stroke=\"black\" cx=\"1047.4\" cy=\"-192\" rx=\"36.29\" ry=\"18\"/>\n<text text-anchor=\"middle\" x=\"1047.4\" y=\"-188.3\" font-family=\"Times New Roman,serif\" font-size=\"14.00\">suspect</text>\n</g>\n<!-- 45 -->\n<g id=\"node46\" class=\"node\">\n<title>45</title>\n<ellipse fill=\"lightgrey\" stroke=\"black\" cx=\"1149.4\" cy=\"-105\" rx=\"36.29\" ry=\"18\"/>\n<text text-anchor=\"middle\" x=\"1149.4\" y=\"-101.3\" font-family=\"Times New Roman,serif\" font-size=\"14.00\">normal</text>\n</g>\n<!-- 46 -->\n<g id=\"node47\" class=\"node\">\n<title>46</title>\n<ellipse fill=\"lightgrey\" stroke=\"black\" cx=\"1209.4\" cy=\"-18\" rx=\"36.29\" ry=\"18\"/>\n<text text-anchor=\"middle\" x=\"1209.4\" y=\"-14.3\" font-family=\"Times New Roman,serif\" font-size=\"14.00\">normal</text>\n</g>\n<!-- 47 -->\n<g id=\"node48\" class=\"node\">\n<title>47</title>\n<ellipse fill=\"lightgrey\" stroke=\"black\" cx=\"1300.4\" cy=\"-18\" rx=\"36.29\" ry=\"18\"/>\n<text text-anchor=\"middle\" x=\"1300.4\" y=\"-14.3\" font-family=\"Times New Roman,serif\" font-size=\"14.00\">suspect</text>\n</g>\n<!-- 48 -->\n<g id=\"node49\" class=\"node\">\n<title>48</title>\n<path fill=\"yellow\" stroke=\"black\" d=\"M1294.9,-123C1294.9,-123 1215.9,-123 1215.9,-123 1209.9,-123 1203.9,-117 1203.9,-111 1203.9,-111 1203.9,-99 1203.9,-99 1203.9,-93 1209.9,-87 1215.9,-87 1215.9,-87 1294.9,-87 1294.9,-87 1300.9,-87 1306.9,-93 1306.9,-99 1306.9,-99 1306.9,-111 1306.9,-111 1306.9,-117 1300.9,-123 1294.9,-123\"/>\n<text text-anchor=\"middle\" x=\"1255.4\" y=\"-101.3\" font-family=\"Times New Roman,serif\" font-size=\"14.00\">Variance &gt; 0.5?</text>\n</g>\n<!-- 48&#45;&gt;46 -->\n<g id=\"edge41\" class=\"edge\">\n<title>48&#45;&gt;46</title>\n<path fill=\"none\" stroke=\"black\" d=\"M1246.09,-86.8C1239.52,-74.66 1230.61,-58.19 1223.21,-44.52\"/>\n<polygon fill=\"black\" stroke=\"black\" points=\"1226.22,-42.73 1218.38,-35.6 1220.06,-46.06 1226.22,-42.73\"/>\n<text text-anchor=\"middle\" x=\"1249.9\" y=\"-57.8\" font-family=\"Times New Roman,serif\" font-size=\"14.00\">False</text>\n</g>\n<!-- 48&#45;&gt;47 -->\n<g id=\"edge42\" class=\"edge\">\n<title>48&#45;&gt;47</title>\n<path fill=\"none\" stroke=\"black\" d=\"M1264.5,-86.8C1270.93,-74.66 1279.65,-58.19 1286.88,-44.52\"/>\n<polygon fill=\"black\" stroke=\"black\" points=\"1290.02,-46.07 1291.61,-35.6 1283.84,-42.8 1290.02,-46.07\"/>\n<text text-anchor=\"middle\" x=\"1294.4\" y=\"-57.8\" font-family=\"Times New Roman,serif\" font-size=\"14.00\">True</text>\n</g>\n<!-- 49 -->\n<g id=\"node50\" class=\"node\">\n<title>49</title>\n<path fill=\"yellow\" stroke=\"black\" d=\"M1187.4,-210C1187.4,-210 1113.4,-210 1113.4,-210 1107.4,-210 1101.4,-204 1101.4,-198 1101.4,-198 1101.4,-186 1101.4,-186 1101.4,-180 1107.4,-174 1113.4,-174 1113.4,-174 1187.4,-174 1187.4,-174 1193.4,-174 1199.4,-180 1199.4,-186 1199.4,-186 1199.4,-198 1199.4,-198 1199.4,-204 1193.4,-210 1187.4,-210\"/>\n<text text-anchor=\"middle\" x=\"1150.4\" y=\"-188.3\" font-family=\"Times New Roman,serif\" font-size=\"14.00\">ALTV &gt; 60.5?</text>\n</g>\n<!-- 49&#45;&gt;45 -->\n<g id=\"edge43\" class=\"edge\">\n<title>49&#45;&gt;45</title>\n<path fill=\"none\" stroke=\"black\" d=\"M1150.19,-173.8C1150.06,-162.16 1149.87,-146.55 1149.72,-133.24\"/>\n<polygon fill=\"black\" stroke=\"black\" points=\"1153.22,-133.13 1149.6,-123.18 1146.22,-133.22 1153.22,-133.13\"/>\n<text text-anchor=\"middle\" x=\"1164.9\" y=\"-144.8\" font-family=\"Times New Roman,serif\" font-size=\"14.00\">False</text>\n</g>\n<!-- 49&#45;&gt;48 -->\n<g id=\"edge44\" class=\"edge\">\n<title>49&#45;&gt;48</title>\n<path fill=\"none\" stroke=\"black\" d=\"M1171.65,-173.8C1187.3,-161.13 1208.78,-143.73 1226.07,-129.74\"/>\n<polygon fill=\"black\" stroke=\"black\" points=\"1228.61,-132.19 1234.18,-123.18 1224.21,-126.75 1228.61,-132.19\"/>\n<text text-anchor=\"middle\" x=\"1222.4\" y=\"-144.8\" font-family=\"Times New Roman,serif\" font-size=\"14.00\">True</text>\n</g>\n<!-- 50 -->\n<g id=\"node51\" class=\"node\">\n<title>50</title>\n<path fill=\"yellow\" stroke=\"black\" d=\"M1082.9,-297C1082.9,-297 1015.9,-297 1015.9,-297 1009.9,-297 1003.9,-291 1003.9,-285 1003.9,-285 1003.9,-273 1003.9,-273 1003.9,-267 1009.9,-261 1015.9,-261 1015.9,-261 1082.9,-261 1082.9,-261 1088.9,-261 1094.9,-267 1094.9,-273 1094.9,-273 1094.9,-285 1094.9,-285 1094.9,-291 1088.9,-297 1082.9,-297\"/>\n<text text-anchor=\"middle\" x=\"1049.4\" y=\"-275.3\" font-family=\"Times New Roman,serif\" font-size=\"14.00\">Mode &gt; 103?</text>\n</g>\n<!-- 50&#45;&gt;44 -->\n<g id=\"edge45\" class=\"edge\">\n<title>50&#45;&gt;44</title>\n<path fill=\"none\" stroke=\"black\" d=\"M1048.99,-260.8C1048.72,-249.16 1048.35,-233.55 1048.04,-220.24\"/>\n<polygon fill=\"black\" stroke=\"black\" points=\"1051.54,-220.09 1047.8,-210.18 1044.54,-220.26 1051.54,-220.09\"/>\n<text text-anchor=\"middle\" x=\"1063.9\" y=\"-231.8\" font-family=\"Times New Roman,serif\" font-size=\"14.00\">False</text>\n</g>\n<!-- 50&#45;&gt;49 -->\n<g id=\"edge46\" class=\"edge\">\n<title>50&#45;&gt;49</title>\n<path fill=\"none\" stroke=\"black\" d=\"M1069.84,-260.8C1084.89,-248.13 1105.56,-230.73 1122.19,-216.74\"/>\n<polygon fill=\"black\" stroke=\"black\" points=\"1124.59,-219.29 1129.99,-210.18 1120.08,-213.94 1124.59,-219.29\"/>\n<text text-anchor=\"middle\" x=\"1119.4\" y=\"-231.8\" font-family=\"Times New Roman,serif\" font-size=\"14.00\">True</text>\n</g>\n<!-- 51 -->\n<g id=\"node52\" class=\"node\">\n<title>51</title>\n<path fill=\"yellow\" stroke=\"black\" d=\"M1029.9,-384C1029.9,-384 940.9,-384 940.9,-384 934.9,-384 928.9,-378 928.9,-372 928.9,-372 928.9,-360 928.9,-360 928.9,-354 934.9,-348 940.9,-348 940.9,-348 1029.9,-348 1029.9,-348 1035.9,-348 1041.9,-354 1041.9,-360 1041.9,-360 1041.9,-372 1041.9,-372 1041.9,-378 1035.9,-384 1029.9,-384\"/>\n<text text-anchor=\"middle\" x=\"985.4\" y=\"-362.3\" font-family=\"Times New Roman,serif\" font-size=\"14.00\">Tendency &gt; &#45;0.5?</text>\n</g>\n<!-- 51&#45;&gt;43 -->\n<g id=\"edge47\" class=\"edge\">\n<title>51&#45;&gt;43</title>\n<path fill=\"none\" stroke=\"black\" d=\"M975.28,-347.8C968.23,-335.82 958.7,-319.62 950.72,-306.06\"/>\n<polygon fill=\"black\" stroke=\"black\" points=\"953.59,-304.02 945.5,-297.18 947.55,-307.57 953.59,-304.02\"/>\n<text text-anchor=\"middle\" x=\"977.9\" y=\"-318.8\" font-family=\"Times New Roman,serif\" font-size=\"14.00\">False</text>\n</g>\n<!-- 51&#45;&gt;50 -->\n<g id=\"edge48\" class=\"edge\">\n<title>51&#45;&gt;50</title>\n<path fill=\"none\" stroke=\"black\" d=\"M998.35,-347.8C1007.54,-335.59 1020.04,-318.99 1030.36,-305.28\"/>\n<polygon fill=\"black\" stroke=\"black\" points=\"1033.25,-307.27 1036.46,-297.18 1027.65,-303.06 1033.25,-307.27\"/>\n<text text-anchor=\"middle\" x=\"1034.4\" y=\"-318.8\" font-family=\"Times New Roman,serif\" font-size=\"14.00\">True</text>\n</g>\n<!-- 52 -->\n<g id=\"node53\" class=\"node\">\n<title>52</title>\n<ellipse fill=\"lightgrey\" stroke=\"black\" cx=\"1108.4\" cy=\"-366\" rx=\"48.19\" ry=\"18\"/>\n<text text-anchor=\"middle\" x=\"1108.4\" y=\"-362.3\" font-family=\"Times New Roman,serif\" font-size=\"14.00\">pathologic</text>\n</g>\n<!-- 53 -->\n<g id=\"node54\" class=\"node\">\n<title>53</title>\n<path fill=\"yellow\" stroke=\"black\" d=\"M1088.9,-471C1088.9,-471 1039.9,-471 1039.9,-471 1033.9,-471 1027.9,-465 1027.9,-459 1027.9,-459 1027.9,-447 1027.9,-447 1027.9,-441 1033.9,-435 1039.9,-435 1039.9,-435 1088.9,-435 1088.9,-435 1094.9,-435 1100.9,-441 1100.9,-447 1100.9,-447 1100.9,-459 1100.9,-459 1100.9,-465 1094.9,-471 1088.9,-471\"/>\n<text text-anchor=\"middle\" x=\"1064.4\" y=\"-449.3\" font-family=\"Times New Roman,serif\" font-size=\"14.00\">DS &gt; 0.5?</text>\n</g>\n<!-- 53&#45;&gt;51 -->\n<g id=\"edge49\" class=\"edge\">\n<title>53&#45;&gt;51</title>\n<path fill=\"none\" stroke=\"black\" d=\"M1048.41,-434.8C1036.85,-422.36 1021.05,-405.36 1008.17,-391.5\"/>\n<polygon fill=\"black\" stroke=\"black\" points=\"1010.73,-389.12 1001.36,-384.18 1005.6,-393.88 1010.73,-389.12\"/>\n<text text-anchor=\"middle\" x=\"1044.9\" y=\"-405.8\" font-family=\"Times New Roman,serif\" font-size=\"14.00\">False</text>\n</g>\n<!-- 53&#45;&gt;52 -->\n<g id=\"edge50\" class=\"edge\">\n<title>53&#45;&gt;52</title>\n<path fill=\"none\" stroke=\"black\" d=\"M1073.3,-434.8C1079.54,-422.74 1088,-406.4 1095.05,-392.79\"/>\n<polygon fill=\"black\" stroke=\"black\" points=\"1098.17,-394.38 1099.66,-383.89 1091.95,-391.16 1098.17,-394.38\"/>\n<text text-anchor=\"middle\" x=\"1102.4\" y=\"-405.8\" font-family=\"Times New Roman,serif\" font-size=\"14.00\">True</text>\n</g>\n<!-- 54 -->\n<g id=\"node55\" class=\"node\">\n<title>54</title>\n<ellipse fill=\"lightgrey\" stroke=\"black\" cx=\"1167.4\" cy=\"-453\" rx=\"48.19\" ry=\"18\"/>\n<text text-anchor=\"middle\" x=\"1167.4\" y=\"-449.3\" font-family=\"Times New Roman,serif\" font-size=\"14.00\">pathologic</text>\n</g>\n<!-- 55 -->\n<g id=\"node56\" class=\"node\">\n<title>55</title>\n<path fill=\"yellow\" stroke=\"black\" d=\"M1108.4,-558C1108.4,-558 1034.4,-558 1034.4,-558 1028.4,-558 1022.4,-552 1022.4,-546 1022.4,-546 1022.4,-534 1022.4,-534 1022.4,-528 1028.4,-522 1034.4,-522 1034.4,-522 1108.4,-522 1108.4,-522 1114.4,-522 1120.4,-528 1120.4,-534 1120.4,-534 1120.4,-546 1120.4,-546 1120.4,-552 1114.4,-558 1108.4,-558\"/>\n<text text-anchor=\"middle\" x=\"1071.4\" y=\"-536.3\" font-family=\"Times New Roman,serif\" font-size=\"14.00\">ASTV &gt; 79.5?</text>\n</g>\n<!-- 55&#45;&gt;53 -->\n<g id=\"edge51\" class=\"edge\">\n<title>55&#45;&gt;53</title>\n<path fill=\"none\" stroke=\"black\" d=\"M1069.98,-521.8C1069.02,-510.16 1067.74,-494.55 1066.64,-481.24\"/>\n<polygon fill=\"black\" stroke=\"black\" points=\"1070.12,-480.85 1065.81,-471.18 1063.14,-481.43 1070.12,-480.85\"/>\n<text text-anchor=\"middle\" x=\"1082.9\" y=\"-492.8\" font-family=\"Times New Roman,serif\" font-size=\"14.00\">False</text>\n</g>\n<!-- 55&#45;&gt;54 -->\n<g id=\"edge52\" class=\"edge\">\n<title>55&#45;&gt;54</title>\n<path fill=\"none\" stroke=\"black\" d=\"M1090.82,-521.8C1105.47,-508.83 1125.71,-490.91 1141.7,-476.76\"/>\n<polygon fill=\"black\" stroke=\"black\" points=\"1144.45,-478.99 1149.62,-469.74 1139.81,-473.75 1144.45,-478.99\"/>\n<text text-anchor=\"middle\" x=\"1138.4\" y=\"-492.8\" font-family=\"Times New Roman,serif\" font-size=\"14.00\">True</text>\n</g>\n<!-- 56 -->\n<g id=\"node57\" class=\"node\">\n<title>56</title>\n<path fill=\"yellow\" stroke=\"black\" d=\"M1054.9,-645C1054.9,-645 999.9,-645 999.9,-645 993.9,-645 987.9,-639 987.9,-633 987.9,-633 987.9,-621 987.9,-621 987.9,-615 993.9,-609 999.9,-609 999.9,-609 1054.9,-609 1054.9,-609 1060.9,-609 1066.9,-615 1066.9,-621 1066.9,-621 1066.9,-633 1066.9,-633 1066.9,-639 1060.9,-645 1054.9,-645\"/>\n<text text-anchor=\"middle\" x=\"1027.4\" y=\"-623.3\" font-family=\"Times New Roman,serif\" font-size=\"14.00\">Width &gt; 9?</text>\n</g>\n<!-- 56&#45;&gt;32 -->\n<g id=\"edge53\" class=\"edge\">\n<title>56&#45;&gt;32</title>\n<path fill=\"none\" stroke=\"black\" d=\"M1012.42,-608.8C1001.69,-596.47 987.07,-579.68 975.07,-565.89\"/>\n<polygon fill=\"black\" stroke=\"black\" points=\"977.56,-563.42 968.35,-558.18 972.28,-568.02 977.56,-563.42\"/>\n<text text-anchor=\"middle\" x=\"1009.9\" y=\"-579.8\" font-family=\"Times New Roman,serif\" font-size=\"14.00\">False</text>\n</g>\n<!-- 56&#45;&gt;55 -->\n<g id=\"edge54\" class=\"edge\">\n<title>56&#45;&gt;55</title>\n<path fill=\"none\" stroke=\"black\" d=\"M1036.3,-608.8C1042.5,-596.82 1050.89,-580.62 1057.91,-567.06\"/>\n<polygon fill=\"black\" stroke=\"black\" points=\"1061.02,-568.67 1062.51,-558.18 1054.8,-565.45 1061.02,-568.67\"/>\n<text text-anchor=\"middle\" x=\"1065.4\" y=\"-579.8\" font-family=\"Times New Roman,serif\" font-size=\"14.00\">True</text>\n</g>\n<!-- 57 -->\n<g id=\"node58\" class=\"node\">\n<title>57</title>\n<ellipse fill=\"lightgrey\" stroke=\"black\" cx=\"1186.4\" cy=\"-540\" rx=\"48.19\" ry=\"18\"/>\n<text text-anchor=\"middle\" x=\"1186.4\" y=\"-536.3\" font-family=\"Times New Roman,serif\" font-size=\"14.00\">pathologic</text>\n</g>\n<!-- 58 -->\n<g id=\"node59\" class=\"node\">\n<title>58</title>\n<ellipse fill=\"lightgrey\" stroke=\"black\" cx=\"1295.4\" cy=\"-453\" rx=\"48.19\" ry=\"18\"/>\n<text text-anchor=\"middle\" x=\"1295.4\" y=\"-449.3\" font-family=\"Times New Roman,serif\" font-size=\"14.00\">pathologic</text>\n</g>\n<!-- 59 -->\n<g id=\"node60\" class=\"node\">\n<title>59</title>\n<ellipse fill=\"lightgrey\" stroke=\"black\" cx=\"1397.4\" cy=\"-453\" rx=\"36.29\" ry=\"18\"/>\n<text text-anchor=\"middle\" x=\"1397.4\" y=\"-449.3\" font-family=\"Times New Roman,serif\" font-size=\"14.00\">suspect</text>\n</g>\n<!-- 60 -->\n<g id=\"node61\" class=\"node\">\n<title>60</title>\n<path fill=\"yellow\" stroke=\"black\" d=\"M1339.9,-558C1339.9,-558 1264.9,-558 1264.9,-558 1258.9,-558 1252.9,-552 1252.9,-546 1252.9,-546 1252.9,-534 1252.9,-534 1252.9,-528 1258.9,-522 1264.9,-522 1264.9,-522 1339.9,-522 1339.9,-522 1345.9,-522 1351.9,-528 1351.9,-534 1351.9,-534 1351.9,-546 1351.9,-546 1351.9,-552 1345.9,-558 1339.9,-558\"/>\n<text text-anchor=\"middle\" x=\"1302.4\" y=\"-536.3\" font-family=\"Times New Roman,serif\" font-size=\"14.00\">Variance &gt; 43?</text>\n</g>\n<!-- 60&#45;&gt;58 -->\n<g id=\"edge55\" class=\"edge\">\n<title>60&#45;&gt;58</title>\n<path fill=\"none\" stroke=\"black\" d=\"M1300.98,-521.8C1300.02,-510.16 1298.74,-494.55 1297.64,-481.24\"/>\n<polygon fill=\"black\" stroke=\"black\" points=\"1301.12,-480.85 1296.81,-471.18 1294.14,-481.43 1301.12,-480.85\"/>\n<text text-anchor=\"middle\" x=\"1313.9\" y=\"-492.8\" font-family=\"Times New Roman,serif\" font-size=\"14.00\">False</text>\n</g>\n<!-- 60&#45;&gt;59 -->\n<g id=\"edge56\" class=\"edge\">\n<title>60&#45;&gt;59</title>\n<path fill=\"none\" stroke=\"black\" d=\"M1321.62,-521.8C1336.3,-508.66 1356.65,-490.46 1372.57,-476.22\"/>\n<polygon fill=\"black\" stroke=\"black\" points=\"1375.31,-478.46 1380.43,-469.18 1370.64,-473.24 1375.31,-478.46\"/>\n<text text-anchor=\"middle\" x=\"1368.4\" y=\"-492.8\" font-family=\"Times New Roman,serif\" font-size=\"14.00\">True</text>\n</g>\n<!-- 61 -->\n<g id=\"node62\" class=\"node\">\n<title>61</title>\n<path fill=\"yellow\" stroke=\"black\" d=\"M1229.9,-645C1229.9,-645 1142.9,-645 1142.9,-645 1136.9,-645 1130.9,-639 1130.9,-633 1130.9,-633 1130.9,-621 1130.9,-621 1130.9,-615 1136.9,-609 1142.9,-609 1142.9,-609 1229.9,-609 1229.9,-609 1235.9,-609 1241.9,-615 1241.9,-621 1241.9,-621 1241.9,-633 1241.9,-633 1241.9,-639 1235.9,-645 1229.9,-645\"/>\n<text text-anchor=\"middle\" x=\"1186.4\" y=\"-623.3\" font-family=\"Times New Roman,serif\" font-size=\"14.00\">Median &gt; 128.5?</text>\n</g>\n<!-- 61&#45;&gt;57 -->\n<g id=\"edge57\" class=\"edge\">\n<title>61&#45;&gt;57</title>\n<path fill=\"none\" stroke=\"black\" d=\"M1186.4,-608.8C1186.4,-597.16 1186.4,-581.55 1186.4,-568.24\"/>\n<polygon fill=\"black\" stroke=\"black\" points=\"1189.9,-568.18 1186.4,-558.18 1182.9,-568.18 1189.9,-568.18\"/>\n<text text-anchor=\"middle\" x=\"1200.9\" y=\"-579.8\" font-family=\"Times New Roman,serif\" font-size=\"14.00\">False</text>\n</g>\n<!-- 61&#45;&gt;60 -->\n<g id=\"edge58\" class=\"edge\">\n<title>61&#45;&gt;60</title>\n<path fill=\"none\" stroke=\"black\" d=\"M1209.87,-608.8C1227.4,-595.95 1251.55,-578.26 1270.78,-564.17\"/>\n<polygon fill=\"black\" stroke=\"black\" points=\"1272.96,-566.91 1278.96,-558.18 1268.82,-561.26 1272.96,-566.91\"/>\n<text text-anchor=\"middle\" x=\"1264.4\" y=\"-579.8\" font-family=\"Times New Roman,serif\" font-size=\"14.00\">True</text>\n</g>\n<!-- 62 -->\n<g id=\"node63\" class=\"node\">\n<title>62</title>\n<path fill=\"yellow\" stroke=\"black\" d=\"M1051.9,-732C1051.9,-732 1002.9,-732 1002.9,-732 996.9,-732 990.9,-726 990.9,-720 990.9,-720 990.9,-708 990.9,-708 990.9,-702 996.9,-696 1002.9,-696 1002.9,-696 1051.9,-696 1051.9,-696 1057.9,-696 1063.9,-702 1063.9,-708 1063.9,-708 1063.9,-720 1063.9,-720 1063.9,-726 1057.9,-732 1051.9,-732\"/>\n<text text-anchor=\"middle\" x=\"1027.4\" y=\"-710.3\" font-family=\"Times New Roman,serif\" font-size=\"14.00\">DP &gt; 1.5?</text>\n</g>\n<!-- 62&#45;&gt;56 -->\n<g id=\"edge59\" class=\"edge\">\n<title>62&#45;&gt;56</title>\n<path fill=\"none\" stroke=\"black\" d=\"M1027.4,-695.8C1027.4,-684.16 1027.4,-668.55 1027.4,-655.24\"/>\n<polygon fill=\"black\" stroke=\"black\" points=\"1030.9,-655.18 1027.4,-645.18 1023.9,-655.18 1030.9,-655.18\"/>\n<text text-anchor=\"middle\" x=\"1041.9\" y=\"-666.8\" font-family=\"Times New Roman,serif\" font-size=\"14.00\">False</text>\n</g>\n<!-- 62&#45;&gt;61 -->\n<g id=\"edge60\" class=\"edge\">\n<title>62&#45;&gt;61</title>\n<path fill=\"none\" stroke=\"black\" d=\"M1059.57,-695.8C1084.33,-682.56 1118.71,-664.18 1145.44,-649.9\"/>\n<polygon fill=\"black\" stroke=\"black\" points=\"1147.37,-652.83 1154.54,-645.03 1144.07,-646.66 1147.37,-652.83\"/>\n<text text-anchor=\"middle\" x=\"1130.4\" y=\"-666.8\" font-family=\"Times New Roman,serif\" font-size=\"14.00\">True</text>\n</g>\n<!-- 63 -->\n<g id=\"node64\" class=\"node\">\n<title>63</title>\n<path fill=\"yellow\" stroke=\"black\" d=\"M732.9,-819C732.9,-819 655.9,-819 655.9,-819 649.9,-819 643.9,-813 643.9,-807 643.9,-807 643.9,-795 643.9,-795 643.9,-789 649.9,-783 655.9,-783 655.9,-783 732.9,-783 732.9,-783 738.9,-783 744.9,-789 744.9,-795 744.9,-795 744.9,-807 744.9,-807 744.9,-813 738.9,-819 732.9,-819\"/>\n<text text-anchor=\"middle\" x=\"694.4\" y=\"-797.3\" font-family=\"Times New Roman,serif\" font-size=\"14.00\">Mean &gt; 107.5?</text>\n</g>\n<!-- 63&#45;&gt;29 -->\n<g id=\"edge61\" class=\"edge\">\n<title>63&#45;&gt;29</title>\n<path fill=\"none\" stroke=\"black\" d=\"M694.4,-782.8C694.4,-771.16 694.4,-755.55 694.4,-742.24\"/>\n<polygon fill=\"black\" stroke=\"black\" points=\"697.9,-742.18 694.4,-732.18 690.9,-742.18 697.9,-742.18\"/>\n<text text-anchor=\"middle\" x=\"708.9\" y=\"-753.8\" font-family=\"Times New Roman,serif\" font-size=\"14.00\">False</text>\n</g>\n<!-- 63&#45;&gt;62 -->\n<g id=\"edge62\" class=\"edge\">\n<title>63&#45;&gt;62</title>\n<path fill=\"none\" stroke=\"black\" d=\"M744.97,-787.09C809.09,-770.72 918.73,-742.74 980.86,-726.88\"/>\n<polygon fill=\"black\" stroke=\"black\" points=\"981.95,-730.21 990.78,-724.35 980.22,-723.43 981.95,-730.21\"/>\n<text text-anchor=\"middle\" x=\"894.4\" y=\"-753.8\" font-family=\"Times New Roman,serif\" font-size=\"14.00\">True</text>\n</g>\n<!-- 64 -->\n<g id=\"node65\" class=\"node\">\n<title>64</title>\n<path fill=\"yellow\" stroke=\"black\" d=\"M613.9,-906C613.9,-906 536.9,-906 536.9,-906 530.9,-906 524.9,-900 524.9,-894 524.9,-894 524.9,-882 524.9,-882 524.9,-876 530.9,-870 536.9,-870 536.9,-870 613.9,-870 613.9,-870 619.9,-870 625.9,-876 625.9,-882 625.9,-882 625.9,-894 625.9,-894 625.9,-900 619.9,-906 613.9,-906\"/>\n<text text-anchor=\"middle\" x=\"575.4\" y=\"-884.3\" font-family=\"Times New Roman,serif\" font-size=\"14.00\">MSTV &gt; 0.45?</text>\n</g>\n<!-- 64&#45;&gt;22 -->\n<g id=\"edge63\" class=\"edge\">\n<title>64&#45;&gt;22</title>\n<path fill=\"none\" stroke=\"black\" d=\"M563.05,-869.8C554.37,-857.7 542.6,-841.3 532.82,-827.67\"/>\n<polygon fill=\"black\" stroke=\"black\" points=\"535.4,-825.26 526.72,-819.18 529.71,-829.34 535.4,-825.26\"/>\n<text text-anchor=\"middle\" x=\"563.9\" y=\"-840.8\" font-family=\"Times New Roman,serif\" font-size=\"14.00\">False</text>\n</g>\n<!-- 64&#45;&gt;63 -->\n<g id=\"edge64\" class=\"edge\">\n<title>64&#45;&gt;63</title>\n<path fill=\"none\" stroke=\"black\" d=\"M599.48,-869.8C617.46,-856.95 642.24,-839.26 661.96,-825.17\"/>\n<polygon fill=\"black\" stroke=\"black\" points=\"664.25,-827.84 670.35,-819.18 660.18,-822.14 664.25,-827.84\"/>\n<text text-anchor=\"middle\" x=\"655.4\" y=\"-840.8\" font-family=\"Times New Roman,serif\" font-size=\"14.00\">True</text>\n</g>\n</g>\n</svg>\n",
      "text/plain": "<graphviz.graphs.Digraph at 0x1729f1f4190>"
     },
     "execution_count": 163,
     "metadata": {},
     "output_type": "execute_result"
    }
   ],
   "source": [
    "clf.fit(Xtrain, Ytrain)\n",
    "clf.draw_tree()"
   ],
   "metadata": {
    "collapsed": false,
    "ExecuteTime": {
     "end_time": "2024-01-19T10:39:20.639342700Z",
     "start_time": "2024-01-19T10:39:20.127145Z"
    }
   },
   "execution_count": 163
  },
  {
   "cell_type": "markdown",
   "source": [
    "### Adding hyperparameter tuning"
   ],
   "metadata": {
    "collapsed": false
   }
  },
  {
   "cell_type": "code",
   "outputs": [
    {
     "name": "stdout",
     "output_type": "stream",
     "text": [
      "Best max_depth: 5 with average CV score: 0.9152941176470588\n"
     ]
    }
   ],
   "source": [
    "# Testing different values for max_depth\n",
    "max_depth_range = range(1, 20)\n",
    "\n",
    "# Dictionary to store the average cross-validation scores for each depth\n",
    "cv_scores = {}\n",
    "\n",
    "# Perform cross-validation for each value of max_depth\n",
    "for depth in max_depth_range:\n",
    "    tree_clf = TreeClassifier(max_depth=depth)\n",
    "    # Using StratifiedKFold for balanced splits\n",
    "    strat_k_fold = StratifiedKFold(n_splits=5, shuffle=True, random_state=0)\n",
    "    scores = cross_val_score(tree_clf, Xtrain, Ytrain, cv=strat_k_fold, scoring='accuracy')\n",
    "    cv_scores[depth] = scores.mean()\n",
    "\n",
    "# Find the depth with the highest average score\n",
    "best_depth = max(cv_scores, key=cv_scores.get)\n",
    "print(f\"Best max_depth: {best_depth} with average CV score: {cv_scores[best_depth]}\")"
   ],
   "metadata": {
    "collapsed": false,
    "ExecuteTime": {
     "end_time": "2024-01-19T10:39:47.021671300Z",
     "start_time": "2024-01-19T10:39:20.642343600Z"
    }
   },
   "execution_count": 164
  },
  {
   "cell_type": "code",
   "outputs": [
    {
     "data": {
      "text/plain": "<Figure size 1000x600 with 1 Axes>",
      "image/png": "[encoded data removed]"
     },
     "metadata": {},
     "output_type": "display_data"
    }
   ],
   "source": [
    "# Create a plot of max_depth values against their corresponding cross-validation scores\n",
    "plt.figure(figsize=(10, 6))\n",
    "plt.plot(list(max_depth_range), list(cv_scores.values()), marker='o', linestyle='-', color='b')\n",
    "plt.title(\"Cross-Validation Scores for Different max_depth Values\")\n",
    "plt.xlabel(\"max_depth\")\n",
    "plt.ylabel(\"Average CV Score (Accuracy)\")\n",
    "plt.xticks(list(max_depth_range))\n",
    "plt.grid(True)\n",
    "plt.show()"
   ],
   "metadata": {
    "collapsed": false,
    "ExecuteTime": {
     "end_time": "2024-01-19T10:39:47.237178800Z",
     "start_time": "2024-01-19T10:39:47.034671200Z"
    }
   },
   "execution_count": 165
  },
  {
   "cell_type": "code",
   "outputs": [
    {
     "name": "stdout",
     "output_type": "stream",
     "text": [
      "Test set accuracy: 0.8896713615023474\n"
     ]
    },
    {
     "data": {
      "image/svg+xml": "<?xml version=\"1.0\" encoding=\"UTF-8\" standalone=\"no\"?>\n<!DOCTYPE svg PUBLIC \"-//W3C//DTD SVG 1.1//EN\"\n \"http://www.w3.org/Graphics/SVG/1.1/DTD/svg11.dtd\">\n<!-- Generated by graphviz version 2.50.0 (0)\n -->\n<!-- Pages: 1 -->\n<svg width=\"1437pt\" height=\"479pt\"\n viewBox=\"0.00 0.00 1436.79 479.00\" xmlns=\"http://www.w3.org/2000/svg\" xmlns:xlink=\"http://www.w3.org/1999/xlink\">\n<g id=\"graph0\" class=\"graph\" transform=\"scale(1 1) rotate(0) translate(4 475)\">\n<polygon fill=\"white\" stroke=\"transparent\" points=\"-4,4 -4,-475 1432.79,-475 1432.79,4 -4,4\"/>\n<!-- 0 -->\n<g id=\"node1\" class=\"node\">\n<title>0</title>\n<ellipse fill=\"lightgrey\" stroke=\"black\" cx=\"36.4\" cy=\"-18\" rx=\"36.29\" ry=\"18\"/>\n<text text-anchor=\"middle\" x=\"36.4\" y=\"-14.3\" font-family=\"Times New Roman,serif\" font-size=\"14.00\">suspect</text>\n</g>\n<!-- 1 -->\n<g id=\"node2\" class=\"node\">\n<title>1</title>\n<ellipse fill=\"lightgrey\" stroke=\"black\" cx=\"127.4\" cy=\"-18\" rx=\"36.29\" ry=\"18\"/>\n<text text-anchor=\"middle\" x=\"127.4\" y=\"-14.3\" font-family=\"Times New Roman,serif\" font-size=\"14.00\">normal</text>\n</g>\n<!-- 2 -->\n<g id=\"node3\" class=\"node\">\n<title>2</title>\n<path fill=\"yellow\" stroke=\"black\" d=\"M153.4,-123C153.4,-123 91.4,-123 91.4,-123 85.4,-123 79.4,-117 79.4,-111 79.4,-111 79.4,-99 79.4,-99 79.4,-93 85.4,-87 91.4,-87 91.4,-87 153.4,-87 153.4,-87 159.4,-87 165.4,-93 165.4,-99 165.4,-99 165.4,-111 165.4,-111 165.4,-117 159.4,-123 153.4,-123\"/>\n<text text-anchor=\"middle\" x=\"122.4\" y=\"-101.3\" font-family=\"Times New Roman,serif\" font-size=\"14.00\">Width &gt; 21?</text>\n</g>\n<!-- 2&#45;&gt;0 -->\n<g id=\"edge1\" class=\"edge\">\n<title>2&#45;&gt;0</title>\n<path fill=\"none\" stroke=\"black\" d=\"M104.99,-86.8C91.91,-73.86 73.85,-56.02 59.54,-41.88\"/>\n<polygon fill=\"black\" stroke=\"black\" points=\"61.61,-39 52.04,-34.46 56.69,-43.98 61.61,-39\"/>\n<text text-anchor=\"middle\" x=\"99.9\" y=\"-57.8\" font-family=\"Times New Roman,serif\" font-size=\"14.00\">False</text>\n</g>\n<!-- 2&#45;&gt;1 -->\n<g id=\"edge2\" class=\"edge\">\n<title>2&#45;&gt;1</title>\n<path fill=\"none\" stroke=\"black\" d=\"M123.41,-86.8C124.09,-75.16 125.01,-59.55 125.79,-46.24\"/>\n<polygon fill=\"black\" stroke=\"black\" points=\"129.29,-46.36 126.39,-36.18 122.31,-45.95 129.29,-46.36\"/>\n<text text-anchor=\"middle\" x=\"138.4\" y=\"-57.8\" font-family=\"Times New Roman,serif\" font-size=\"14.00\">True</text>\n</g>\n<!-- 3 -->\n<g id=\"node4\" class=\"node\">\n<title>3</title>\n<ellipse fill=\"lightgrey\" stroke=\"black\" cx=\"227.4\" cy=\"-18\" rx=\"36.29\" ry=\"18\"/>\n<text text-anchor=\"middle\" x=\"227.4\" y=\"-14.3\" font-family=\"Times New Roman,serif\" font-size=\"14.00\">normal</text>\n</g>\n<!-- 4 -->\n<g id=\"node5\" class=\"node\">\n<title>4</title>\n<ellipse fill=\"lightgrey\" stroke=\"black\" cx=\"318.4\" cy=\"-18\" rx=\"36.29\" ry=\"18\"/>\n<text text-anchor=\"middle\" x=\"318.4\" y=\"-14.3\" font-family=\"Times New Roman,serif\" font-size=\"14.00\">suspect</text>\n</g>\n<!-- 5 -->\n<g id=\"node6\" class=\"node\">\n<title>5</title>\n<path fill=\"yellow\" stroke=\"black\" d=\"M269.4,-123C269.4,-123 195.4,-123 195.4,-123 189.4,-123 183.4,-117 183.4,-111 183.4,-111 183.4,-99 183.4,-99 183.4,-93 189.4,-87 195.4,-87 195.4,-87 269.4,-87 269.4,-87 275.4,-87 281.4,-93 281.4,-99 281.4,-99 281.4,-111 281.4,-111 281.4,-117 275.4,-123 269.4,-123\"/>\n<text text-anchor=\"middle\" x=\"232.4\" y=\"-101.3\" font-family=\"Times New Roman,serif\" font-size=\"14.00\">ASTV &gt; 59.5?</text>\n</g>\n<!-- 5&#45;&gt;3 -->\n<g id=\"edge3\" class=\"edge\">\n<title>5&#45;&gt;3</title>\n<path fill=\"none\" stroke=\"black\" d=\"M231.38,-86.8C230.7,-75.16 229.78,-59.55 229,-46.24\"/>\n<polygon fill=\"black\" stroke=\"black\" points=\"232.49,-45.95 228.41,-36.18 225.5,-46.36 232.49,-45.95\"/>\n<text text-anchor=\"middle\" x=\"244.9\" y=\"-57.8\" font-family=\"Times New Roman,serif\" font-size=\"14.00\">False</text>\n</g>\n<!-- 5&#45;&gt;4 -->\n<g id=\"edge4\" class=\"edge\">\n<title>5&#45;&gt;4</title>\n<path fill=\"none\" stroke=\"black\" d=\"M249.8,-86.8C262.89,-73.86 280.95,-56.02 295.25,-41.88\"/>\n<polygon fill=\"black\" stroke=\"black\" points=\"298.1,-43.98 302.75,-34.46 293.18,-39 298.1,-43.98\"/>\n<text text-anchor=\"middle\" x=\"294.4\" y=\"-57.8\" font-family=\"Times New Roman,serif\" font-size=\"14.00\">True</text>\n</g>\n<!-- 6 -->\n<g id=\"node7\" class=\"node\">\n<title>6</title>\n<path fill=\"yellow\" stroke=\"black\" d=\"M232.4,-210C232.4,-210 176.4,-210 176.4,-210 170.4,-210 164.4,-204 164.4,-198 164.4,-198 164.4,-186 164.4,-186 164.4,-180 170.4,-174 176.4,-174 176.4,-174 232.4,-174 232.4,-174 238.4,-174 244.4,-180 244.4,-186 244.4,-186 244.4,-198 244.4,-198 244.4,-204 238.4,-210 232.4,-210\"/>\n<text text-anchor=\"middle\" x=\"204.4\" y=\"-188.3\" font-family=\"Times New Roman,serif\" font-size=\"14.00\">ALTV &gt; 7?</text>\n</g>\n<!-- 6&#45;&gt;2 -->\n<g id=\"edge5\" class=\"edge\">\n<title>6&#45;&gt;2</title>\n<path fill=\"none\" stroke=\"black\" d=\"M187.8,-173.8C175.8,-161.36 159.41,-144.36 146.04,-130.5\"/>\n<polygon fill=\"black\" stroke=\"black\" points=\"148.43,-127.94 138.97,-123.18 143.39,-132.8 148.43,-127.94\"/>\n<text text-anchor=\"middle\" x=\"182.9\" y=\"-144.8\" font-family=\"Times New Roman,serif\" font-size=\"14.00\">False</text>\n</g>\n<!-- 6&#45;&gt;5 -->\n<g id=\"edge6\" class=\"edge\">\n<title>6&#45;&gt;5</title>\n<path fill=\"none\" stroke=\"black\" d=\"M210.06,-173.8C213.93,-162.05 219.14,-146.24 223.55,-132.84\"/>\n<polygon fill=\"black\" stroke=\"black\" points=\"226.93,-133.77 226.74,-123.18 220.29,-131.58 226.93,-133.77\"/>\n<text text-anchor=\"middle\" x=\"233.4\" y=\"-144.8\" font-family=\"Times New Roman,serif\" font-size=\"14.00\">True</text>\n</g>\n<!-- 7 -->\n<g id=\"node8\" class=\"node\">\n<title>7</title>\n<ellipse fill=\"lightgrey\" stroke=\"black\" cx=\"310.4\" cy=\"-192\" rx=\"48.19\" ry=\"18\"/>\n<text text-anchor=\"middle\" x=\"310.4\" y=\"-188.3\" font-family=\"Times New Roman,serif\" font-size=\"14.00\">pathologic</text>\n</g>\n<!-- 8 -->\n<g id=\"node9\" class=\"node\">\n<title>8</title>\n<path fill=\"yellow\" stroke=\"black\" d=\"M347.4,-297C347.4,-297 273.4,-297 273.4,-297 267.4,-297 261.4,-291 261.4,-285 261.4,-285 261.4,-273 261.4,-273 261.4,-267 267.4,-261 273.4,-261 273.4,-261 347.4,-261 347.4,-261 353.4,-261 359.4,-267 359.4,-273 359.4,-273 359.4,-285 359.4,-285 359.4,-291 353.4,-297 347.4,-297\"/>\n<text text-anchor=\"middle\" x=\"310.4\" y=\"-275.3\" font-family=\"Times New Roman,serif\" font-size=\"14.00\">ASTV &gt; 79.5?</text>\n</g>\n<!-- 8&#45;&gt;6 -->\n<g id=\"edge7\" class=\"edge\">\n<title>8&#45;&gt;6</title>\n<path fill=\"none\" stroke=\"black\" d=\"M288.95,-260.8C273.14,-248.13 251.45,-230.73 234,-216.74\"/>\n<polygon fill=\"black\" stroke=\"black\" points=\"235.81,-213.7 225.82,-210.18 231.43,-219.16 235.81,-213.7\"/>\n<text text-anchor=\"middle\" x=\"278.9\" y=\"-231.8\" font-family=\"Times New Roman,serif\" font-size=\"14.00\">False</text>\n</g>\n<!-- 8&#45;&gt;7 -->\n<g id=\"edge8\" class=\"edge\">\n<title>8&#45;&gt;7</title>\n<path fill=\"none\" stroke=\"black\" d=\"M310.4,-260.8C310.4,-249.16 310.4,-233.55 310.4,-220.24\"/>\n<polygon fill=\"black\" stroke=\"black\" points=\"313.9,-220.18 310.4,-210.18 306.9,-220.18 313.9,-220.18\"/>\n<text text-anchor=\"middle\" x=\"323.4\" y=\"-231.8\" font-family=\"Times New Roman,serif\" font-size=\"14.00\">True</text>\n</g>\n<!-- 9 -->\n<g id=\"node10\" class=\"node\">\n<title>9</title>\n<ellipse fill=\"lightgrey\" stroke=\"black\" cx=\"412.4\" cy=\"-192\" rx=\"36.29\" ry=\"18\"/>\n<text text-anchor=\"middle\" x=\"412.4\" y=\"-188.3\" font-family=\"Times New Roman,serif\" font-size=\"14.00\">normal</text>\n</g>\n<!-- 10 -->\n<g id=\"node11\" class=\"node\">\n<title>10</title>\n<ellipse fill=\"lightgrey\" stroke=\"black\" cx=\"514.4\" cy=\"-192\" rx=\"48.19\" ry=\"18\"/>\n<text text-anchor=\"middle\" x=\"514.4\" y=\"-188.3\" font-family=\"Times New Roman,serif\" font-size=\"14.00\">pathologic</text>\n</g>\n<!-- 11 -->\n<g id=\"node12\" class=\"node\">\n<title>11</title>\n<path fill=\"yellow\" stroke=\"black\" d=\"M554.9,-297C554.9,-297 465.9,-297 465.9,-297 459.9,-297 453.9,-291 453.9,-285 453.9,-285 453.9,-273 453.9,-273 453.9,-267 459.9,-261 465.9,-261 465.9,-261 554.9,-261 554.9,-261 560.9,-261 566.9,-267 566.9,-273 566.9,-273 566.9,-285 566.9,-285 566.9,-291 560.9,-297 554.9,-297\"/>\n<text text-anchor=\"middle\" x=\"510.4\" y=\"-275.3\" font-family=\"Times New Roman,serif\" font-size=\"14.00\">Tendency &gt; &#45;0.5?</text>\n</g>\n<!-- 11&#45;&gt;9 -->\n<g id=\"edge9\" class=\"edge\">\n<title>11&#45;&gt;9</title>\n<path fill=\"none\" stroke=\"black\" d=\"M490.57,-260.8C475.18,-247.46 453.78,-228.89 437.25,-214.56\"/>\n<polygon fill=\"black\" stroke=\"black\" points=\"439.43,-211.81 429.58,-207.9 434.84,-217.1 439.43,-211.81\"/>\n<text text-anchor=\"middle\" x=\"481.9\" y=\"-231.8\" font-family=\"Times New Roman,serif\" font-size=\"14.00\">False</text>\n</g>\n<!-- 11&#45;&gt;10 -->\n<g id=\"edge10\" class=\"edge\">\n<title>11&#45;&gt;10</title>\n<path fill=\"none\" stroke=\"black\" d=\"M511.21,-260.8C511.75,-249.16 512.49,-233.55 513.12,-220.24\"/>\n<polygon fill=\"black\" stroke=\"black\" points=\"516.61,-220.33 513.59,-210.18 509.62,-220 516.61,-220.33\"/>\n<text text-anchor=\"middle\" x=\"526.4\" y=\"-231.8\" font-family=\"Times New Roman,serif\" font-size=\"14.00\">True</text>\n</g>\n<!-- 12 -->\n<g id=\"node13\" class=\"node\">\n<title>12</title>\n<path fill=\"yellow\" stroke=\"black\" d=\"M547.4,-384C547.4,-384 473.4,-384 473.4,-384 467.4,-384 461.4,-378 461.4,-372 461.4,-372 461.4,-360 461.4,-360 461.4,-354 467.4,-348 473.4,-348 473.4,-348 547.4,-348 547.4,-348 553.4,-348 559.4,-354 559.4,-360 559.4,-360 559.4,-372 559.4,-372 559.4,-378 553.4,-384 547.4,-384\"/>\n<text text-anchor=\"middle\" x=\"510.4\" y=\"-362.3\" font-family=\"Times New Roman,serif\" font-size=\"14.00\">ALTV &gt; 68.5?</text>\n</g>\n<!-- 12&#45;&gt;8 -->\n<g id=\"edge11\" class=\"edge\">\n<title>12&#45;&gt;8</title>\n<path fill=\"none\" stroke=\"black\" d=\"M469.92,-347.8C438.1,-334.27 393.64,-315.38 359.73,-300.97\"/>\n<polygon fill=\"black\" stroke=\"black\" points=\"361.04,-297.72 350.47,-297.03 358.3,-304.16 361.04,-297.72\"/>\n<text text-anchor=\"middle\" x=\"436.9\" y=\"-318.8\" font-family=\"Times New Roman,serif\" font-size=\"14.00\">False</text>\n</g>\n<!-- 12&#45;&gt;11 -->\n<g id=\"edge12\" class=\"edge\">\n<title>12&#45;&gt;11</title>\n<path fill=\"none\" stroke=\"black\" d=\"M510.4,-347.8C510.4,-336.16 510.4,-320.55 510.4,-307.24\"/>\n<polygon fill=\"black\" stroke=\"black\" points=\"513.9,-307.18 510.4,-297.18 506.9,-307.18 513.9,-307.18\"/>\n<text text-anchor=\"middle\" x=\"523.4\" y=\"-318.8\" font-family=\"Times New Roman,serif\" font-size=\"14.00\">True</text>\n</g>\n<!-- 13 -->\n<g id=\"node14\" class=\"node\">\n<title>13</title>\n<ellipse fill=\"lightgrey\" stroke=\"black\" cx=\"526.4\" cy=\"-105\" rx=\"36.29\" ry=\"18\"/>\n<text text-anchor=\"middle\" x=\"526.4\" y=\"-101.3\" font-family=\"Times New Roman,serif\" font-size=\"14.00\">suspect</text>\n</g>\n<!-- 14 -->\n<g id=\"node15\" class=\"node\">\n<title>14</title>\n<ellipse fill=\"lightgrey\" stroke=\"black\" cx=\"628.4\" cy=\"-105\" rx=\"48.19\" ry=\"18\"/>\n<text text-anchor=\"middle\" x=\"628.4\" y=\"-101.3\" font-family=\"Times New Roman,serif\" font-size=\"14.00\">pathologic</text>\n</g>\n<!-- 15 -->\n<g id=\"node16\" class=\"node\">\n<title>15</title>\n<path fill=\"yellow\" stroke=\"black\" d=\"M664.4,-210C664.4,-210 592.4,-210 592.4,-210 586.4,-210 580.4,-204 580.4,-198 580.4,-198 580.4,-186 580.4,-186 580.4,-180 586.4,-174 592.4,-174 592.4,-174 664.4,-174 664.4,-174 670.4,-174 676.4,-180 676.4,-186 676.4,-186 676.4,-198 676.4,-198 676.4,-204 670.4,-210 664.4,-210\"/>\n<text text-anchor=\"middle\" x=\"628.4\" y=\"-188.3\" font-family=\"Times New Roman,serif\" font-size=\"14.00\">Width &gt; 72.5?</text>\n</g>\n<!-- 15&#45;&gt;13 -->\n<g id=\"edge13\" class=\"edge\">\n<title>15&#45;&gt;13</title>\n<path fill=\"none\" stroke=\"black\" d=\"M607.76,-173.8C591.75,-160.46 569.46,-141.89 552.27,-127.56\"/>\n<polygon fill=\"black\" stroke=\"black\" points=\"554.2,-124.62 544.28,-120.9 549.72,-129.99 554.2,-124.62\"/>\n<text text-anchor=\"middle\" x=\"598.9\" y=\"-144.8\" font-family=\"Times New Roman,serif\" font-size=\"14.00\">False</text>\n</g>\n<!-- 15&#45;&gt;14 -->\n<g id=\"edge14\" class=\"edge\">\n<title>15&#45;&gt;14</title>\n<path fill=\"none\" stroke=\"black\" d=\"M628.4,-173.8C628.4,-162.16 628.4,-146.55 628.4,-133.24\"/>\n<polygon fill=\"black\" stroke=\"black\" points=\"631.9,-133.18 628.4,-123.18 624.9,-133.18 631.9,-133.18\"/>\n<text text-anchor=\"middle\" x=\"641.4\" y=\"-144.8\" font-family=\"Times New Roman,serif\" font-size=\"14.00\">True</text>\n</g>\n<!-- 16 -->\n<g id=\"node17\" class=\"node\">\n<title>16</title>\n<ellipse fill=\"lightgrey\" stroke=\"black\" cx=\"742.4\" cy=\"-105\" rx=\"48.19\" ry=\"18\"/>\n<text text-anchor=\"middle\" x=\"742.4\" y=\"-101.3\" font-family=\"Times New Roman,serif\" font-size=\"14.00\">pathologic</text>\n</g>\n<!-- 17 -->\n<g id=\"node18\" class=\"node\">\n<title>17</title>\n<ellipse fill=\"lightgrey\" stroke=\"black\" cx=\"844.4\" cy=\"-105\" rx=\"36.29\" ry=\"18\"/>\n<text text-anchor=\"middle\" x=\"844.4\" y=\"-101.3\" font-family=\"Times New Roman,serif\" font-size=\"14.00\">normal</text>\n</g>\n<!-- 18 -->\n<g id=\"node19\" class=\"node\">\n<title>18</title>\n<path fill=\"yellow\" stroke=\"black\" d=\"M792.4,-210C792.4,-210 706.4,-210 706.4,-210 700.4,-210 694.4,-204 694.4,-198 694.4,-198 694.4,-186 694.4,-186 694.4,-180 700.4,-174 706.4,-174 706.4,-174 792.4,-174 792.4,-174 798.4,-174 804.4,-180 804.4,-186 804.4,-186 804.4,-198 804.4,-198 804.4,-204 798.4,-210 792.4,-210\"/>\n<text text-anchor=\"middle\" x=\"749.4\" y=\"-188.3\" font-family=\"Times New Roman,serif\" font-size=\"14.00\">Variance &gt; 23.5?</text>\n</g>\n<!-- 18&#45;&gt;16 -->\n<g id=\"edge15\" class=\"edge\">\n<title>18&#45;&gt;16</title>\n<path fill=\"none\" stroke=\"black\" d=\"M747.98,-173.8C747.02,-162.16 745.74,-146.55 744.64,-133.24\"/>\n<polygon fill=\"black\" stroke=\"black\" points=\"748.12,-132.85 743.81,-123.18 741.14,-133.43 748.12,-132.85\"/>\n<text text-anchor=\"middle\" x=\"760.9\" y=\"-144.8\" font-family=\"Times New Roman,serif\" font-size=\"14.00\">False</text>\n</g>\n<!-- 18&#45;&gt;17 -->\n<g id=\"edge16\" class=\"edge\">\n<title>18&#45;&gt;17</title>\n<path fill=\"none\" stroke=\"black\" d=\"M768.62,-173.8C783.3,-160.66 803.65,-142.46 819.57,-128.22\"/>\n<polygon fill=\"black\" stroke=\"black\" points=\"822.31,-130.46 827.43,-121.18 817.64,-125.24 822.31,-130.46\"/>\n<text text-anchor=\"middle\" x=\"816.4\" y=\"-144.8\" font-family=\"Times New Roman,serif\" font-size=\"14.00\">True</text>\n</g>\n<!-- 19 -->\n<g id=\"node20\" class=\"node\">\n<title>19</title>\n<path fill=\"yellow\" stroke=\"black\" d=\"M725.9,-297C725.9,-297 654.9,-297 654.9,-297 648.9,-297 642.9,-291 642.9,-285 642.9,-285 642.9,-273 642.9,-273 642.9,-267 648.9,-261 654.9,-261 654.9,-261 725.9,-261 725.9,-261 731.9,-261 737.9,-267 737.9,-273 737.9,-273 737.9,-285 737.9,-285 737.9,-291 731.9,-297 725.9,-297\"/>\n<text text-anchor=\"middle\" x=\"690.4\" y=\"-275.3\" font-family=\"Times New Roman,serif\" font-size=\"14.00\">Max &gt; 220.5?</text>\n</g>\n<!-- 19&#45;&gt;15 -->\n<g id=\"edge17\" class=\"edge\">\n<title>19&#45;&gt;15</title>\n<path fill=\"none\" stroke=\"black\" d=\"M677.85,-260.8C668.94,-248.59 656.84,-231.99 646.83,-218.28\"/>\n<polygon fill=\"black\" stroke=\"black\" points=\"649.65,-216.19 640.92,-210.18 643.99,-220.32 649.65,-216.19\"/>\n<text text-anchor=\"middle\" x=\"677.9\" y=\"-231.8\" font-family=\"Times New Roman,serif\" font-size=\"14.00\">False</text>\n</g>\n<!-- 19&#45;&gt;18 -->\n<g id=\"edge18\" class=\"edge\">\n<title>19&#45;&gt;18</title>\n<path fill=\"none\" stroke=\"black\" d=\"M702.34,-260.8C710.73,-248.7 722.11,-232.3 731.58,-218.67\"/>\n<polygon fill=\"black\" stroke=\"black\" points=\"734.65,-220.39 737.47,-210.18 728.9,-216.39 734.65,-220.39\"/>\n<text text-anchor=\"middle\" x=\"737.4\" y=\"-231.8\" font-family=\"Times New Roman,serif\" font-size=\"14.00\">True</text>\n</g>\n<!-- 20 -->\n<g id=\"node21\" class=\"node\">\n<title>20</title>\n<ellipse fill=\"lightgrey\" stroke=\"black\" cx=\"854.4\" cy=\"-18\" rx=\"48.19\" ry=\"18\"/>\n<text text-anchor=\"middle\" x=\"854.4\" y=\"-14.3\" font-family=\"Times New Roman,serif\" font-size=\"14.00\">pathologic</text>\n</g>\n<!-- 21 -->\n<g id=\"node22\" class=\"node\">\n<title>21</title>\n<ellipse fill=\"lightgrey\" stroke=\"black\" cx=\"956.4\" cy=\"-18\" rx=\"36.29\" ry=\"18\"/>\n<text text-anchor=\"middle\" x=\"956.4\" y=\"-14.3\" font-family=\"Times New Roman,serif\" font-size=\"14.00\">suspect</text>\n</g>\n<!-- 22 -->\n<g id=\"node23\" class=\"node\">\n<title>22</title>\n<path fill=\"yellow\" stroke=\"black\" d=\"M987.9,-123C987.9,-123 910.9,-123 910.9,-123 904.9,-123 898.9,-117 898.9,-111 898.9,-111 898.9,-99 898.9,-99 898.9,-93 904.9,-87 910.9,-87 910.9,-87 987.9,-87 987.9,-87 993.9,-87 999.9,-93 999.9,-99 999.9,-99 999.9,-111 999.9,-111 999.9,-117 993.9,-123 987.9,-123\"/>\n<text text-anchor=\"middle\" x=\"949.4\" y=\"-101.3\" font-family=\"Times New Roman,serif\" font-size=\"14.00\">MLTV &gt; 3.95?</text>\n</g>\n<!-- 22&#45;&gt;20 -->\n<g id=\"edge19\" class=\"edge\">\n<title>22&#45;&gt;20</title>\n<path fill=\"none\" stroke=\"black\" d=\"M930.17,-86.8C915.77,-73.91 895.91,-56.14 880.13,-42.03\"/>\n<polygon fill=\"black\" stroke=\"black\" points=\"882.09,-39.08 872.31,-35.03 877.43,-44.3 882.09,-39.08\"/>\n<text text-anchor=\"middle\" x=\"922.9\" y=\"-57.8\" font-family=\"Times New Roman,serif\" font-size=\"14.00\">False</text>\n</g>\n<!-- 22&#45;&gt;21 -->\n<g id=\"edge20\" class=\"edge\">\n<title>22&#45;&gt;21</title>\n<path fill=\"none\" stroke=\"black\" d=\"M950.81,-86.8C951.77,-75.16 953.06,-59.55 954.15,-46.24\"/>\n<polygon fill=\"black\" stroke=\"black\" points=\"957.65,-46.43 954.98,-36.18 950.67,-45.85 957.65,-46.43\"/>\n<text text-anchor=\"middle\" x=\"966.4\" y=\"-57.8\" font-family=\"Times New Roman,serif\" font-size=\"14.00\">True</text>\n</g>\n<!-- 23 -->\n<g id=\"node24\" class=\"node\">\n<title>23</title>\n<ellipse fill=\"lightgrey\" stroke=\"black\" cx=\"1060.4\" cy=\"-18\" rx=\"36.29\" ry=\"18\"/>\n<text text-anchor=\"middle\" x=\"1060.4\" y=\"-14.3\" font-family=\"Times New Roman,serif\" font-size=\"14.00\">normal</text>\n</g>\n<!-- 24 -->\n<g id=\"node25\" class=\"node\">\n<title>24</title>\n<ellipse fill=\"lightgrey\" stroke=\"black\" cx=\"1162.4\" cy=\"-18\" rx=\"48.19\" ry=\"18\"/>\n<text text-anchor=\"middle\" x=\"1162.4\" y=\"-14.3\" font-family=\"Times New Roman,serif\" font-size=\"14.00\">pathologic</text>\n</g>\n<!-- 25 -->\n<g id=\"node26\" class=\"node\">\n<title>25</title>\n<path fill=\"yellow\" stroke=\"black\" d=\"M1104.4,-123C1104.4,-123 1030.4,-123 1030.4,-123 1024.4,-123 1018.4,-117 1018.4,-111 1018.4,-111 1018.4,-99 1018.4,-99 1018.4,-93 1024.4,-87 1030.4,-87 1030.4,-87 1104.4,-87 1104.4,-87 1110.4,-87 1116.4,-93 1116.4,-99 1116.4,-99 1116.4,-111 1116.4,-111 1116.4,-117 1110.4,-123 1104.4,-123\"/>\n<text text-anchor=\"middle\" x=\"1067.4\" y=\"-101.3\" font-family=\"Times New Roman,serif\" font-size=\"14.00\">ASTV &gt; 79.5?</text>\n</g>\n<!-- 25&#45;&gt;23 -->\n<g id=\"edge21\" class=\"edge\">\n<title>25&#45;&gt;23</title>\n<path fill=\"none\" stroke=\"black\" d=\"M1065.98,-86.8C1065.02,-75.16 1063.74,-59.55 1062.64,-46.24\"/>\n<polygon fill=\"black\" stroke=\"black\" points=\"1066.12,-45.85 1061.81,-36.18 1059.14,-46.43 1066.12,-45.85\"/>\n<text text-anchor=\"middle\" x=\"1078.9\" y=\"-57.8\" font-family=\"Times New Roman,serif\" font-size=\"14.00\">False</text>\n</g>\n<!-- 25&#45;&gt;24 -->\n<g id=\"edge22\" class=\"edge\">\n<title>25&#45;&gt;24</title>\n<path fill=\"none\" stroke=\"black\" d=\"M1086.62,-86.8C1101.03,-73.91 1120.89,-56.14 1136.66,-42.03\"/>\n<polygon fill=\"black\" stroke=\"black\" points=\"1139.37,-44.3 1144.49,-35.03 1134.7,-39.08 1139.37,-44.3\"/>\n<text text-anchor=\"middle\" x=\"1134.4\" y=\"-57.8\" font-family=\"Times New Roman,serif\" font-size=\"14.00\">True</text>\n</g>\n<!-- 26 -->\n<g id=\"node27\" class=\"node\">\n<title>26</title>\n<path fill=\"yellow\" stroke=\"black\" d=\"M1034.9,-210C1034.9,-210 979.9,-210 979.9,-210 973.9,-210 967.9,-204 967.9,-198 967.9,-198 967.9,-186 967.9,-186 967.9,-180 973.9,-174 979.9,-174 979.9,-174 1034.9,-174 1034.9,-174 1040.9,-174 1046.9,-180 1046.9,-186 1046.9,-186 1046.9,-198 1046.9,-198 1046.9,-204 1040.9,-210 1034.9,-210\"/>\n<text text-anchor=\"middle\" x=\"1007.4\" y=\"-188.3\" font-family=\"Times New Roman,serif\" font-size=\"14.00\">Width &gt; 9?</text>\n</g>\n<!-- 26&#45;&gt;22 -->\n<g id=\"edge23\" class=\"edge\">\n<title>26&#45;&gt;22</title>\n<path fill=\"none\" stroke=\"black\" d=\"M995.66,-173.92C991.76,-168.22 987.39,-161.84 983.4,-156 977.98,-148.06 972.09,-139.41 966.75,-131.57\"/>\n<polygon fill=\"black\" stroke=\"black\" points=\"969.54,-129.44 961.02,-123.14 963.75,-133.37 969.54,-129.44\"/>\n<text text-anchor=\"middle\" x=\"997.9\" y=\"-144.8\" font-family=\"Times New Roman,serif\" font-size=\"14.00\">False</text>\n</g>\n<!-- 26&#45;&gt;25 -->\n<g id=\"edge24\" class=\"edge\">\n<title>26&#45;&gt;25</title>\n<path fill=\"none\" stroke=\"black\" d=\"M1019.54,-173.8C1028.08,-161.7 1039.65,-145.3 1049.28,-131.67\"/>\n<polygon fill=\"black\" stroke=\"black\" points=\"1052.37,-133.36 1055.27,-123.18 1046.65,-129.33 1052.37,-133.36\"/>\n<text text-anchor=\"middle\" x=\"1054.4\" y=\"-144.8\" font-family=\"Times New Roman,serif\" font-size=\"14.00\">True</text>\n</g>\n<!-- 27 -->\n<g id=\"node28\" class=\"node\">\n<title>27</title>\n<ellipse fill=\"lightgrey\" stroke=\"black\" cx=\"1182.4\" cy=\"-105\" rx=\"48.19\" ry=\"18\"/>\n<text text-anchor=\"middle\" x=\"1182.4\" y=\"-101.3\" font-family=\"Times New Roman,serif\" font-size=\"14.00\">pathologic</text>\n</g>\n<!-- 28 -->\n<g id=\"node29\" class=\"node\">\n<title>28</title>\n<ellipse fill=\"lightgrey\" stroke=\"black\" cx=\"1290.4\" cy=\"-18\" rx=\"48.19\" ry=\"18\"/>\n<text text-anchor=\"middle\" x=\"1290.4\" y=\"-14.3\" font-family=\"Times New Roman,serif\" font-size=\"14.00\">pathologic</text>\n</g>\n<!-- 29 -->\n<g id=\"node30\" class=\"node\">\n<title>29</title>\n<ellipse fill=\"lightgrey\" stroke=\"black\" cx=\"1392.4\" cy=\"-18\" rx=\"36.29\" ry=\"18\"/>\n<text text-anchor=\"middle\" x=\"1392.4\" y=\"-14.3\" font-family=\"Times New Roman,serif\" font-size=\"14.00\">suspect</text>\n</g>\n<!-- 30 -->\n<g id=\"node31\" class=\"node\">\n<title>30</title>\n<path fill=\"yellow\" stroke=\"black\" d=\"M1335.9,-123C1335.9,-123 1260.9,-123 1260.9,-123 1254.9,-123 1248.9,-117 1248.9,-111 1248.9,-111 1248.9,-99 1248.9,-99 1248.9,-93 1254.9,-87 1260.9,-87 1260.9,-87 1335.9,-87 1335.9,-87 1341.9,-87 1347.9,-93 1347.9,-99 1347.9,-99 1347.9,-111 1347.9,-111 1347.9,-117 1341.9,-123 1335.9,-123\"/>\n<text text-anchor=\"middle\" x=\"1298.4\" y=\"-101.3\" font-family=\"Times New Roman,serif\" font-size=\"14.00\">Variance &gt; 43?</text>\n</g>\n<!-- 30&#45;&gt;28 -->\n<g id=\"edge25\" class=\"edge\">\n<title>30&#45;&gt;28</title>\n<path fill=\"none\" stroke=\"black\" d=\"M1296.78,-86.8C1295.68,-75.16 1294.21,-59.55 1292.96,-46.24\"/>\n<polygon fill=\"black\" stroke=\"black\" points=\"1296.44,-45.8 1292.01,-36.18 1289.47,-46.46 1296.44,-45.8\"/>\n<text text-anchor=\"middle\" x=\"1309.9\" y=\"-57.8\" font-family=\"Times New Roman,serif\" font-size=\"14.00\">False</text>\n</g>\n<!-- 30&#45;&gt;29 -->\n<g id=\"edge26\" class=\"edge\">\n<title>30&#45;&gt;29</title>\n<path fill=\"none\" stroke=\"black\" d=\"M1317.42,-86.8C1331.95,-73.66 1352.08,-55.46 1367.83,-41.22\"/>\n<polygon fill=\"black\" stroke=\"black\" points=\"1370.54,-43.48 1375.61,-34.18 1365.84,-38.29 1370.54,-43.48\"/>\n<text text-anchor=\"middle\" x=\"1363.4\" y=\"-57.8\" font-family=\"Times New Roman,serif\" font-size=\"14.00\">True</text>\n</g>\n<!-- 31 -->\n<g id=\"node32\" class=\"node\">\n<title>31</title>\n<path fill=\"yellow\" stroke=\"black\" d=\"M1225.9,-210C1225.9,-210 1138.9,-210 1138.9,-210 1132.9,-210 1126.9,-204 1126.9,-198 1126.9,-198 1126.9,-186 1126.9,-186 1126.9,-180 1132.9,-174 1138.9,-174 1138.9,-174 1225.9,-174 1225.9,-174 1231.9,-174 1237.9,-180 1237.9,-186 1237.9,-186 1237.9,-198 1237.9,-198 1237.9,-204 1231.9,-210 1225.9,-210\"/>\n<text text-anchor=\"middle\" x=\"1182.4\" y=\"-188.3\" font-family=\"Times New Roman,serif\" font-size=\"14.00\">Median &gt; 128.5?</text>\n</g>\n<!-- 31&#45;&gt;27 -->\n<g id=\"edge27\" class=\"edge\">\n<title>31&#45;&gt;27</title>\n<path fill=\"none\" stroke=\"black\" d=\"M1182.4,-173.8C1182.4,-162.16 1182.4,-146.55 1182.4,-133.24\"/>\n<polygon fill=\"black\" stroke=\"black\" points=\"1185.9,-133.18 1182.4,-123.18 1178.9,-133.18 1185.9,-133.18\"/>\n<text text-anchor=\"middle\" x=\"1196.9\" y=\"-144.8\" font-family=\"Times New Roman,serif\" font-size=\"14.00\">False</text>\n</g>\n<!-- 31&#45;&gt;30 -->\n<g id=\"edge28\" class=\"edge\">\n<title>31&#45;&gt;30</title>\n<path fill=\"none\" stroke=\"black\" d=\"M1205.87,-173.8C1223.4,-160.95 1247.55,-143.26 1266.78,-129.17\"/>\n<polygon fill=\"black\" stroke=\"black\" points=\"1268.96,-131.91 1274.96,-123.18 1264.82,-126.26 1268.96,-131.91\"/>\n<text text-anchor=\"middle\" x=\"1260.4\" y=\"-144.8\" font-family=\"Times New Roman,serif\" font-size=\"14.00\">True</text>\n</g>\n<!-- 32 -->\n<g id=\"node33\" class=\"node\">\n<title>32</title>\n<path fill=\"yellow\" stroke=\"black\" d=\"M1031.9,-297C1031.9,-297 982.9,-297 982.9,-297 976.9,-297 970.9,-291 970.9,-285 970.9,-285 970.9,-273 970.9,-273 970.9,-267 976.9,-261 982.9,-261 982.9,-261 1031.9,-261 1031.9,-261 1037.9,-261 1043.9,-267 1043.9,-273 1043.9,-273 1043.9,-285 1043.9,-285 1043.9,-291 1037.9,-297 1031.9,-297\"/>\n<text text-anchor=\"middle\" x=\"1007.4\" y=\"-275.3\" font-family=\"Times New Roman,serif\" font-size=\"14.00\">DP &gt; 1.5?</text>\n</g>\n<!-- 32&#45;&gt;26 -->\n<g id=\"edge29\" class=\"edge\">\n<title>32&#45;&gt;26</title>\n<path fill=\"none\" stroke=\"black\" d=\"M1007.4,-260.8C1007.4,-249.16 1007.4,-233.55 1007.4,-220.24\"/>\n<polygon fill=\"black\" stroke=\"black\" points=\"1010.9,-220.18 1007.4,-210.18 1003.9,-220.18 1010.9,-220.18\"/>\n<text text-anchor=\"middle\" x=\"1021.9\" y=\"-231.8\" font-family=\"Times New Roman,serif\" font-size=\"14.00\">False</text>\n</g>\n<!-- 32&#45;&gt;31 -->\n<g id=\"edge30\" class=\"edge\">\n<title>32&#45;&gt;31</title>\n<path fill=\"none\" stroke=\"black\" d=\"M1042.81,-260.8C1070.3,-247.45 1108.57,-228.86 1138.08,-214.52\"/>\n<polygon fill=\"black\" stroke=\"black\" points=\"1139.87,-217.55 1147.33,-210.03 1136.81,-211.25 1139.87,-217.55\"/>\n<text text-anchor=\"middle\" x=\"1118.4\" y=\"-231.8\" font-family=\"Times New Roman,serif\" font-size=\"14.00\">True</text>\n</g>\n<!-- 33 -->\n<g id=\"node34\" class=\"node\">\n<title>33</title>\n<path fill=\"yellow\" stroke=\"black\" d=\"M728.9,-384C728.9,-384 651.9,-384 651.9,-384 645.9,-384 639.9,-378 639.9,-372 639.9,-372 639.9,-360 639.9,-360 639.9,-354 645.9,-348 651.9,-348 651.9,-348 728.9,-348 728.9,-348 734.9,-348 740.9,-354 740.9,-360 740.9,-360 740.9,-372 740.9,-372 740.9,-378 734.9,-384 728.9,-384\"/>\n<text text-anchor=\"middle\" x=\"690.4\" y=\"-362.3\" font-family=\"Times New Roman,serif\" font-size=\"14.00\">Mean &gt; 107.5?</text>\n</g>\n<!-- 33&#45;&gt;19 -->\n<g id=\"edge31\" class=\"edge\">\n<title>33&#45;&gt;19</title>\n<path fill=\"none\" stroke=\"black\" d=\"M690.4,-347.8C690.4,-336.16 690.4,-320.55 690.4,-307.24\"/>\n<polygon fill=\"black\" stroke=\"black\" points=\"693.9,-307.18 690.4,-297.18 686.9,-307.18 693.9,-307.18\"/>\n<text text-anchor=\"middle\" x=\"704.9\" y=\"-318.8\" font-family=\"Times New Roman,serif\" font-size=\"14.00\">False</text>\n</g>\n<!-- 33&#45;&gt;32 -->\n<g id=\"edge32\" class=\"edge\">\n<title>33&#45;&gt;32</title>\n<path fill=\"none\" stroke=\"black\" d=\"M740.98,-351.44C801.62,-335.18 902.4,-308.15 961.09,-292.42\"/>\n<polygon fill=\"black\" stroke=\"black\" points=\"962.08,-295.78 970.83,-289.8 960.27,-289.01 962.08,-295.78\"/>\n<text text-anchor=\"middle\" x=\"881.4\" y=\"-318.8\" font-family=\"Times New Roman,serif\" font-size=\"14.00\">True</text>\n</g>\n<!-- 34 -->\n<g id=\"node35\" class=\"node\">\n<title>34</title>\n<path fill=\"yellow\" stroke=\"black\" d=\"M609.9,-471C609.9,-471 532.9,-471 532.9,-471 526.9,-471 520.9,-465 520.9,-459 520.9,-459 520.9,-447 520.9,-447 520.9,-441 526.9,-435 532.9,-435 532.9,-435 609.9,-435 609.9,-435 615.9,-435 621.9,-441 621.9,-447 621.9,-447 621.9,-459 621.9,-459 621.9,-465 615.9,-471 609.9,-471\"/>\n<text text-anchor=\"middle\" x=\"571.4\" y=\"-449.3\" font-family=\"Times New Roman,serif\" font-size=\"14.00\">MSTV &gt; 0.45?</text>\n</g>\n<!-- 34&#45;&gt;12 -->\n<g id=\"edge33\" class=\"edge\">\n<title>34&#45;&gt;12</title>\n<path fill=\"none\" stroke=\"black\" d=\"M559.05,-434.8C550.37,-422.7 538.6,-406.3 528.82,-392.67\"/>\n<polygon fill=\"black\" stroke=\"black\" points=\"531.4,-390.26 522.72,-384.18 525.71,-394.34 531.4,-390.26\"/>\n<text text-anchor=\"middle\" x=\"559.9\" y=\"-405.8\" font-family=\"Times New Roman,serif\" font-size=\"14.00\">False</text>\n</g>\n<!-- 34&#45;&gt;33 -->\n<g id=\"edge34\" class=\"edge\">\n<title>34&#45;&gt;33</title>\n<path fill=\"none\" stroke=\"black\" d=\"M595.48,-434.8C613.46,-421.95 638.24,-404.26 657.96,-390.17\"/>\n<polygon fill=\"black\" stroke=\"black\" points=\"660.25,-392.84 666.35,-384.18 656.18,-387.14 660.25,-392.84\"/>\n<text text-anchor=\"middle\" x=\"651.4\" y=\"-405.8\" font-family=\"Times New Roman,serif\" font-size=\"14.00\">True</text>\n</g>\n</g>\n</svg>\n",
      "text/plain": "<graphviz.graphs.Digraph at 0x172a295c820>"
     },
     "execution_count": 166,
     "metadata": {},
     "output_type": "execute_result"
    }
   ],
   "source": [
    "# Initialize the classifier with the best max_depth\n",
    "best_tree_clf = TreeClassifier(max_depth=best_depth)\n",
    "\n",
    "# Train on the entire training set\n",
    "best_tree_clf.fit(Xtrain, Ytrain)\n",
    "\n",
    "# Predict on the test set\n",
    "Ypred = best_tree_clf.predict(Xtest)\n",
    "\n",
    "# Evaluate the performance\n",
    "test_accuracy = accuracy_score(Ytest, Ypred)\n",
    "print(f\"Test set accuracy: {test_accuracy}\")\n",
    "\n",
    "# Draw the tree\n",
    "best_tree_clf.draw_tree()"
   ],
   "metadata": {
    "collapsed": false,
    "ExecuteTime": {
     "end_time": "2024-01-19T10:39:47.476265600Z",
     "start_time": "2024-01-19T10:39:47.242172400Z"
    }
   },
   "execution_count": 166
  },
  {
   "cell_type": "markdown",
   "source": [
    "## Task 3: A regression example: predicting apartment prices"
   ],
   "metadata": {
    "collapsed": false
   }
  },
  {
   "cell_type": "code",
   "outputs": [],
   "source": [
    "# Import libraries\n",
    "from sklearn.model_selection import train_test_split, cross_validate\n",
    "from sklearn.dummy import DummyRegressor\n",
    "from sklearn.linear_model import LinearRegression, Ridge, Lasso\n",
    "from sklearn.tree import DecisionTreeRegressor\n",
    "from sklearn.ensemble import RandomForestRegressor, GradientBoostingRegressor\n",
    "from sklearn.neural_network import MLPRegressor\n",
    "from sklearn.preprocessing import StandardScaler\n",
    "from sklearn.pipeline import make_pipeline\n",
    "from sklearn.metrics import mean_squared_error\n",
    "\n",
    "# Read the CSV file using Pandas.\n",
    "alldata = pd.read_csv('sberbank.csv')\n",
    "\n",
    "# Convert the timestamp string to an integer representing the year.\n",
    "def get_year(timestamp):\n",
    "    return int(timestamp[:4])\n",
    "alldata['year'] = alldata.timestamp.apply(get_year)\n",
    "\n",
    "# Select the 7 input columns and the output column.\n",
    "selected_columns = ['price_doc', 'year', 'full_sq', 'life_sq', 'floor', 'full_all']\n",
    "alldata = alldata[selected_columns]\n",
    "alldata = alldata.dropna()\n",
    "\n",
    "# Shuffle.\n",
    "alldata_shuffled = alldata.sample(frac=1.0, random_state=0)\n",
    "\n",
    "# Separate the input and output columns.\n",
    "X = alldata_shuffled.drop('price_doc', axis=1)\n",
    "# For the output, we'll use the log of the sales price.\n",
    "Y = alldata_shuffled['price_doc'].apply(np.log)\n",
    "\n",
    "# Split into training and test sets.\n",
    "Xtrain, Xtest, Ytrain, Ytest = train_test_split(X, Y, test_size=0.2, random_state=0)"
   ],
   "metadata": {
    "collapsed": false,
    "ExecuteTime": {
     "end_time": "2024-01-19T10:39:47.555280Z",
     "start_time": "2024-01-19T10:39:47.480265300Z"
    }
   },
   "execution_count": 167
  },
  {
   "cell_type": "markdown",
   "source": [
    "### Note:\n",
    "We noticed that the values num_room and kitch_sq only consisted of NaN values. Therefore, we decided to exclude these columns so we did not drop all the rows containing NaN values. Resulting in an empty dataframe."
   ],
   "metadata": {
    "collapsed": false
   }
  },
  {
   "cell_type": "code",
   "outputs": [],
   "source": [
    "def evaluate_model(model, X, y):\n",
    "    scores = cross_validate(model, X, y, scoring='neg_mean_squared_error')\n",
    "    mean_score = scores['test_score'].mean()\n",
    "    std_score = scores['test_score'].std() * 2  # 95% confidence interval\n",
    "    print(f\"{model.__class__.__name__} Accuracy: {mean_score:.2f} (+/- {std_score:.2f})\")"
   ],
   "metadata": {
    "collapsed": false,
    "ExecuteTime": {
     "end_time": "2024-01-19T10:39:47.574274900Z",
     "start_time": "2024-01-19T10:39:47.559268300Z"
    }
   },
   "execution_count": 168
  },
  {
   "cell_type": "code",
   "outputs": [
    {
     "name": "stdout",
     "output_type": "stream",
     "text": [
      "DummyRegressor Accuracy: -0.56 (+/- 0.16)\n",
      "LinearRegression Accuracy: -0.53 (+/- 0.24)\n",
      "Ridge Accuracy: -0.53 (+/- 0.24)\n",
      "Lasso Accuracy: -0.53 (+/- 0.20)\n",
      "DecisionTreeRegressor Accuracy: -0.97 (+/- 0.19)\n",
      "RandomForestRegressor Accuracy: -0.55 (+/- 0.15)\n",
      "GradientBoostingRegressor Accuracy: -0.52 (+/- 0.15)\n",
      "MLPRegressor Accuracy: -39.33 (+/- 56.16)\n"
     ]
    }
   ],
   "source": [
    "# Evaluate each model\n",
    "evaluate_model(DummyRegressor(), Xtrain, Ytrain)\n",
    "evaluate_model(LinearRegression(), Xtrain, Ytrain)\n",
    "evaluate_model(Ridge(), Xtrain, Ytrain)\n",
    "evaluate_model(Lasso(), Xtrain, Ytrain)\n",
    "evaluate_model(DecisionTreeRegressor(), Xtrain, Ytrain)\n",
    "evaluate_model(RandomForestRegressor(), Xtrain, Ytrain)\n",
    "evaluate_model(GradientBoostingRegressor(), Xtrain, Ytrain)\n",
    "\n",
    "# Create a pipeline that limits the number of iterations for the MLPRegressor\n",
    "mlp_model = make_pipeline(StandardScaler(), MLPRegressor(max_iter=200))\n",
    "evaluate_model(MLPRegressor(), Xtrain, Ytrain)"
   ],
   "metadata": {
    "collapsed": false,
    "ExecuteTime": {
     "end_time": "2024-01-19T10:40:03.847777300Z",
     "start_time": "2024-01-19T10:39:59.402173800Z"
    }
   },
   "execution_count": 171
  },
  {
   "cell_type": "code",
   "outputs": [
    {
     "name": "stdout",
     "output_type": "stream",
     "text": [
      "Mean Squared Error: 0.510194572520033\n"
     ]
    }
   ],
   "source": [
    "# Initialize the GradientBoostingRegressor\n",
    "regr = GradientBoostingRegressor()\n",
    "\n",
    "# Fit the model to the training data\n",
    "regr.fit(Xtrain, Ytrain)\n",
    "\n",
    "# Predict on the test set\n",
    "Ypred = regr.predict(Xtest)\n",
    "\n",
    "# Calculate the mean squared error on the test set\n",
    "mse = mean_squared_error(Ytest, Ypred)\n",
    "\n",
    "print(f\"Mean Squared Error: {mse}\")"
   ],
   "metadata": {
    "collapsed": false,
    "ExecuteTime": {
     "end_time": "2024-01-19T10:39:51.899382300Z",
     "start_time": "2024-01-19T10:39:51.759197700Z"
    }
   },
   "execution_count": 170
  }
 ],
 "metadata": {
  "kernelspec": {
   "display_name": "general",
   "language": "python",
   "name": "python3"
  },
  "language_info": {
   "codemirror_mode": {
    "name": "ipython",
    "version": 3
   },
   "file_extension": ".py",
   "mimetype": "text/x-python",
   "name": "python",
   "nbconvert_exporter": "python",
   "pygments_lexer": "ipython3",
   "version": "3.11.5"
  }
 },
 "nbformat": 4,
 "nbformat_minor": 2
}
