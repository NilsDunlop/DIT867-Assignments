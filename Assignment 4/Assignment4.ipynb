{
 "cells": [
  {
   "cell_type": "markdown",
   "source": [
    "# Assignment 4\n",
    "## Group Members:\n",
    "### Nils Dunlop, e-mail: gusdunlni@student.gu.se\n",
    "### Francisco Alejandro Erazo Piza, e-mail: guserafr@student.gu.se\n",
    "### Chukwudumebi Ubogu, e-mail: gusuboch@student.gu.se\n",
    "***"
   ],
   "metadata": {
    "collapsed": false
   },
   "id": "e02c6b96b85df5a1"
  },
  {
   "cell_type": "markdown",
   "source": [
    "### Software for neural network training\n",
    "***"
   ],
   "metadata": {
    "collapsed": false
   },
   "id": "7d86d47ab6dab10b"
  },
  {
   "cell_type": "code",
   "outputs": [],
   "source": [],
   "metadata": {
    "collapsed": false
   },
   "id": "c27312703ea6f271"
  }
 ],
 "metadata": {
  "kernelspec": {
   "display_name": "Python 3",
   "language": "python",
   "name": "python3"
  },
  "language_info": {
   "codemirror_mode": {
    "name": "ipython",
    "version": 2
   },
   "file_extension": ".py",
   "mimetype": "text/x-python",
   "name": "python",
   "nbconvert_exporter": "python",
   "pygments_lexer": "ipython2",
   "version": "2.7.6"
  }
 },
 "nbformat": 4,
 "nbformat_minor": 5
}
