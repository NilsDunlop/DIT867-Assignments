{
 "cells": [
  {
   "cell_type": "code",
   "execution_count": 2,
   "metadata": {},
   "outputs": [],
   "source": [
    "import sklearn \n",
    "import pandas as pd \n",
    "from sklearn.model_selection import train_test_split\n",
    "\n",
    "#Read CSV file \n",
    "data = pd.read_csv(\"CTG.csv\", skiprows= 1)\n",
    "\n",
    "# Select the relevant numerical columns \n",
    "selected_cols = ['LB', 'AC', 'FM', 'UC', 'DL', 'DS', 'DP', 'ASTV', \n",
    "                 'MSTV', 'ALTV', 'MLTV', 'Width', 'Min', 'Max', \n",
    "                 'Nmax', 'Nzeros', 'Mode', 'Mean', 'Median', \n",
    "                 'Variance', 'Tendency', 'NSP']\n",
    "data = data[selected_cols].dropna()\n",
    "\n",
    "# Shuffle the dataset. \n",
    "data_shuffled = data.sample(frac=1.0, random_state=0)\n",
    "\n",
    "# Split into input part X and output part Y.\n",
    "X = data_shuffled.drop('NSP', axis=1)\n",
    "\n",
    "# Map the diagnosis code to a human-readable label.\n",
    "def to_label(y): \n",
    "    return [None, 'normal', 'suspect', 'pathologic'][(int(y))]\n",
    "Y = data_shuffled['NSP'].apply(to_label)\n",
    "\n",
    "# Partition the data into training and test sets.\n",
    "Xtrain, Xtest, Ytrain, Ytest = train_test_split(X, Y, test_size=0.2, random_state=0)"
   ]
  },
  {
   "cell_type": "code",
   "execution_count": null,
   "metadata": {},
   "outputs": [],
   "source": [
    "X.head()"
   ]
  },
  {
   "cell_type": "code",
   "execution_count": null,
   "metadata": {},
   "outputs": [],
   "source": [
    "Y.head()"
   ]
  },
  {
   "cell_type": "code",
   "execution_count": 3,
   "metadata": {},
   "outputs": [
    {
     "data": {
      "text/plain": [
       "array([0.78235294, 0.78235294, 0.77941176, 0.77941176, 0.77941176])"
      ]
     },
     "execution_count": 3,
     "metadata": {},
     "output_type": "execute_result"
    }
   ],
   "source": [
    "from sklearn.dummy import DummyClassifier\n",
    "from sklearn.model_selection import cross_val_score\n",
    "clf = DummyClassifier(strategy='most_frequent')\n",
    "cross_val_score(clf,Xtrain,Ytrain)"
   ]
  },
  {
   "cell_type": "code",
   "execution_count": 4,
   "metadata": {},
   "outputs": [
    {
     "name": "stdout",
     "output_type": "stream",
     "text": [
      "0.7699530516431925\n"
     ]
    }
   ],
   "source": [
    "from sklearn.metrics import accuracy_score \n",
    "clf.fit(Xtrain, Ytrain)\n",
    "Yguess = clf.predict(Xtest)\n",
    "print(accuracy_score(Ytest, Yguess))"
   ]
  },
  {
   "cell_type": "code",
   "execution_count": 5,
   "metadata": {},
   "outputs": [
    {
     "name": "stdout",
     "output_type": "stream",
     "text": [
      "0.8943661971830986\n"
     ]
    }
   ],
   "source": [
    "#Different Examples of Classifiers: Decision Tree Classifier \n",
    "from sklearn.tree import DecisionTreeClassifier\n",
    "dt_classifer = DecisionTreeClassifier() \n",
    "dt_classifer.fit(Xtrain,Ytrain)\n",
    "Yguess_dt = dt_classifer.predict(Xtest)\n",
    "print(accuracy_score(Ytest, Yguess_dt))\n",
    "\n",
    "#Hyperparameter tuniung - usually play with the Max Depth. "
   ]
  },
  {
   "cell_type": "code",
   "execution_count": 9,
   "metadata": {},
   "outputs": [
    {
     "name": "stdout",
     "output_type": "stream",
     "text": [
      "Random Forest Classifier accuracy is: 0.9248826291079812\n",
      "Gradient Boosting Classifer accuracy is: 0.9295774647887324\n"
     ]
    }
   ],
   "source": [
    "#Different Examples of Classifiers: Tree Based Classifiers \n",
    "from sklearn.ensemble import RandomForestClassifier\n",
    "from sklearn.ensemble import GradientBoostingClassifier\n",
    "\n",
    "rfc_classifer = RandomForestClassifier() \n",
    "gbc_classifer = GradientBoostingClassifier() \n",
    "\n",
    "#Training the rfc classifer \n",
    "rfc_classifer.fit(Xtrain,Ytrain)\n",
    "Yguess_rfc = rfc_classifer.predict(Xtest)\n",
    "print('Random Forest Classifier accuracy is:', accuracy_score(Ytest, Yguess_rfc))\n",
    "\n",
    "#Train the GBC classifer \n",
    "gbc_classifer.fit(Xtrain,Ytrain) \n",
    "Yguess_gbc = gbc_classifer.predict(Xtest)\n",
    "print('Gradient Boosting Classifer accuracy is:', accuracy_score(Ytest, Yguess_gbc))"
   ]
  },
  {
   "cell_type": "code",
   "execution_count": 12,
   "metadata": {},
   "outputs": [
    {
     "name": "stdout",
     "output_type": "stream",
     "text": [
      "Perceptron: 0.8145539906103286\n",
      "Logistic Regression: 0.8685446009389671\n",
      "LinearSVC Regression: 0.784037558685446\n"
     ]
    },
    {
     "name": "stderr",
     "output_type": "stream",
     "text": [
      "c:\\Users\\3742\\AppData\\Local\\Programs\\Python\\Python311\\Lib\\site-packages\\sklearn\\linear_model\\_logistic.py:460: ConvergenceWarning: lbfgs failed to converge (status=1):\n",
      "STOP: TOTAL NO. of ITERATIONS REACHED LIMIT.\n",
      "\n",
      "Increase the number of iterations (max_iter) or scale the data as shown in:\n",
      "    https://scikit-learn.org/stable/modules/preprocessing.html\n",
      "Please also refer to the documentation for alternative solver options:\n",
      "    https://scikit-learn.org/stable/modules/linear_model.html#logistic-regression\n",
      "  n_iter_i = _check_optimize_result(\n",
      "c:\\Users\\3742\\AppData\\Local\\Programs\\Python\\Python311\\Lib\\site-packages\\sklearn\\svm\\_classes.py:32: FutureWarning: The default value of `dual` will change from `True` to `'auto'` in 1.5. Set the value of `dual` explicitly to suppress the warning.\n",
      "  warnings.warn(\n",
      "c:\\Users\\3742\\AppData\\Local\\Programs\\Python\\Python311\\Lib\\site-packages\\sklearn\\svm\\_base.py:1250: ConvergenceWarning: Liblinear failed to converge, increase the number of iterations.\n",
      "  warnings.warn(\n"
     ]
    }
   ],
   "source": [
    "#Different Examples of Classifiers: Linear Classifies \n",
    "from sklearn.linear_model import Perceptron\n",
    "from sklearn.linear_model import LogisticRegression\n",
    "from sklearn.svm import LinearSVC\n",
    "\n",
    "pCP_classifer = Perceptron() \n",
    "lR_classifer = LogisticRegression() \n",
    "lSVC_classifer = LinearSVC() \n",
    "\n",
    "#Training the Percenptron classifer \n",
    "pCP_classifer.fit(Xtrain,Ytrain)\n",
    "Yguess_pCP = pCP_classifer.predict(Xtest)\n",
    "print('Perceptron:', accuracy_score(Ytest, Yguess_pCP))\n",
    "\n",
    "#Train the Logistic Regression classifer \n",
    "lR_classifer.fit(Xtrain,Ytrain)\n",
    "Yguess_lR = lR_classifer.predict(Xtest)\n",
    "print('Logistic Regression:', accuracy_score(Ytest, Yguess_lR))\n",
    "\n",
    "lSVC_classifer.fit(Xtrain,Ytrain)\n",
    "Yguess_lSVC = lSVC_classifer.predict(Xtest)\n",
    "print('LinearSVC Regression:', accuracy_score(Ytest, Yguess_lSVC))"
   ]
  },
  {
   "cell_type": "code",
   "execution_count": 14,
   "metadata": {},
   "outputs": [
    {
     "name": "stdout",
     "output_type": "stream",
     "text": [
      "MLP Classifier accuracy is: 0.8544600938967136\n"
     ]
    }
   ],
   "source": [
    "#Different Examples of Classifiers: Neural network classifiers\n",
    "from sklearn.neural_network import MLPClassifier\n",
    "\n",
    "mLP_classifer = MLPClassifier() \n",
    "mLP_classifer.fit(Xtrain,Ytrain)\n",
    "Yguess_mLP = mLP_classifer.predict(Xtest)\n",
    "print('MLP Classifier accuracy is:', accuracy_score(Ytest, Yguess_mLP))"
   ]
  },
  {
   "cell_type": "code",
   "execution_count": 23,
   "metadata": {},
   "outputs": [],
   "source": [
    "# TASK 3: A regression example: predicting apartment prices\n",
    "# Read the CSV file using Pandas.\n",
    "import numpy as np \n",
    "\n",
    "alldata = pd.read_csv('sberbank.csv')\n",
    "# Convert the timestamp string to an integer representing the year.\n",
    "def get_year(timestamp): \n",
    "    return int(timestamp[:4])\n",
    "alldata['year'] = alldata.timestamp.apply(get_year)\n",
    "# Select the 9 input columns and the output column.\n",
    "selected_columns = ['price_doc', 'year', 'full_sq', 'life_sq', 'floor', 'num_room', 'kitch_sq', 'full_all']\n",
    "alldata = alldata[selected_columns]\n",
    "alldata = alldata.dropna()\n",
    "\n",
    "# Shuffle.\n",
    "alldata_shuffled = alldata.sample(frac=1.0, random_state=0)\n",
    "# Separate the input and output columns.\n",
    "X = alldata_shuffled.drop('price_doc', axis=1)\n",
    "# For the output, we'll use the log of the sales price.\n",
    "Y = alldata_shuffled['price_doc'].apply(np.log)\n",
    "# Split into training and test sets.\n",
    "Xtrain, Xtest, Ytrain, Ytest = train_test_split(X, Y, test_size=0.2, random_state=0)"
   ]
  },
  {
   "cell_type": "code",
   "execution_count": null,
   "metadata": {},
   "outputs": [],
   "source": [
    "from sklearn.dummy import DummyRegressor\n",
    "from sklearn.model_selection import cross_validate\n",
    "m1 = DummyRegressor()\n",
    "cross_validate(m1, Xtrain, Ytrain, scoring='neg_mean_squared_error')"
   ]
  },
  {
   "cell_type": "code",
   "execution_count": null,
   "metadata": {},
   "outputs": [],
   "source": [
    "from sklearn.metrics import mean_squared_error \n",
    "regr.fit(Xtrain, Ytrain)\n",
    "mean_squared_error(Ytest, regr.predict(Xtest))"
   ]
  },
  {
   "cell_type": "code",
   "execution_count": null,
   "metadata": {},
   "outputs": [],
   "source": [
    "## TASK 4: FOR HIGHER GRADE\n",
    "#STEP 1\n",
    "#STEP 2 \n",
    "#STEP 3\n",
    "#STEP 4\n",
    "\n",
    "\n"
   ]
  }
 ],
 "metadata": {
  "kernelspec": {
   "display_name": "Python 3",
   "language": "python",
   "name": "python3"
  },
  "language_info": {
   "codemirror_mode": {
    "name": "ipython",
    "version": 3
   },
   "file_extension": ".py",
   "mimetype": "text/x-python",
   "name": "python",
   "nbconvert_exporter": "python",
   "pygments_lexer": "ipython3",
   "version": "3.11.5"
  }
 },
 "nbformat": 4,
 "nbformat_minor": 2
}
