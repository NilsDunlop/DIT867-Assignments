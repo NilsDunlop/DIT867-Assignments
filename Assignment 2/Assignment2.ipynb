{
 "cells": [
  {
   "cell_type": "markdown",
   "source": [
    "# Assignment 2\n",
    "## Group Members:\n",
    "### Nils Dunlop, e-mail: gusdunlni@student.gu.se\n",
    "### Francisco Alejandro Erazo Piza, e-mail: guserafr@student.gu.se\n",
    "### Chukwudumebi Ubogu, e-mail: gusuboch@student.gu.se\n",
    "***"
   ],
   "metadata": {
    "collapsed": false
   },
   "id": "27c5c1988ec13d78"
  },
  {
   "cell_type": "markdown",
   "source": [
    "## Task 1: Working with a dataset with categorical features\n",
    "***"
   ],
   "metadata": {
    "collapsed": false
   },
   "id": "7ccaa36943de1c77"
  },
  {
   "cell_type": "markdown",
   "source": [
    "### Step 1. Reading the data"
   ],
   "metadata": {
    "collapsed": false
   },
   "id": "35e9481609ae2c50"
  },
  {
   "cell_type": "code",
   "outputs": [],
   "source": [
    "import pandas as pd\n",
    "import numpy as np\n",
    "from sklearn.feature_extraction import DictVectorizer\n",
    "from sklearn.linear_model import LogisticRegression\n",
    "from sklearn.model_selection import cross_val_score\n",
    "from sklearn.preprocessing import StandardScaler\n",
    "from sklearn.pipeline import make_pipeline\n",
    "\n",
    "train_data = pd.read_csv('adult_train.csv')\n",
    "test_data = pd.read_csv('adult_test.csv')\n",
    "\n",
    "# Splitting the train and test data into X (input) and Y (output)\n",
    "X_train = train_data.drop('target', axis=1)\n",
    "X_test = test_data.drop('target', axis=1)\n",
    "Y_train = train_data['target']\n",
    "Y_test = test_data['target']"
   ],
   "metadata": {
    "collapsed": false,
    "ExecuteTime": {
     "end_time": "2024-01-23T08:03:20.170181700Z",
     "start_time": "2024-01-23T08:03:20.074710700Z"
    }
   },
   "id": "660669c699b57e3e",
   "execution_count": 40
  },
  {
   "cell_type": "code",
   "outputs": [
    {
     "data": {
      "text/plain": "   age workclass     education  education-num      marital-status  \\\n0   27   Private  Some-college             10            Divorced   \n1   27   Private     Bachelors             13       Never-married   \n2   25   Private    Assoc-acdm             12  Married-civ-spouse   \n3   46   Private       5th-6th              3  Married-civ-spouse   \n4   45   Private          11th              7            Divorced   \n\n         occupation   relationship                race     sex  capital-gain  \\\n0      Adm-clerical      Unmarried               White  Female             0   \n1    Prof-specialty  Not-in-family               White  Female             0   \n2             Sales        Husband               White    Male             0   \n3  Transport-moving        Husband  Amer-Indian-Eskimo    Male             0   \n4  Transport-moving  Not-in-family               White    Male             0   \n\n   capital-loss  hours-per-week native-country  \n0             0              44  United-States  \n1             0              40  United-States  \n2             0              40  United-States  \n3          1902              40  United-States  \n4          2824              76  United-States  ",
      "text/html": "<div>\n<style scoped>\n    .dataframe tbody tr th:only-of-type {\n        vertical-align: middle;\n    }\n\n    .dataframe tbody tr th {\n        vertical-align: top;\n    }\n\n    .dataframe thead th {\n        text-align: right;\n    }\n</style>\n<table border=\"1\" class=\"dataframe\">\n  <thead>\n    <tr style=\"text-align: right;\">\n      <th></th>\n      <th>age</th>\n      <th>workclass</th>\n      <th>education</th>\n      <th>education-num</th>\n      <th>marital-status</th>\n      <th>occupation</th>\n      <th>relationship</th>\n      <th>race</th>\n      <th>sex</th>\n      <th>capital-gain</th>\n      <th>capital-loss</th>\n      <th>hours-per-week</th>\n      <th>native-country</th>\n    </tr>\n  </thead>\n  <tbody>\n    <tr>\n      <th>0</th>\n      <td>27</td>\n      <td>Private</td>\n      <td>Some-college</td>\n      <td>10</td>\n      <td>Divorced</td>\n      <td>Adm-clerical</td>\n      <td>Unmarried</td>\n      <td>White</td>\n      <td>Female</td>\n      <td>0</td>\n      <td>0</td>\n      <td>44</td>\n      <td>United-States</td>\n    </tr>\n    <tr>\n      <th>1</th>\n      <td>27</td>\n      <td>Private</td>\n      <td>Bachelors</td>\n      <td>13</td>\n      <td>Never-married</td>\n      <td>Prof-specialty</td>\n      <td>Not-in-family</td>\n      <td>White</td>\n      <td>Female</td>\n      <td>0</td>\n      <td>0</td>\n      <td>40</td>\n      <td>United-States</td>\n    </tr>\n    <tr>\n      <th>2</th>\n      <td>25</td>\n      <td>Private</td>\n      <td>Assoc-acdm</td>\n      <td>12</td>\n      <td>Married-civ-spouse</td>\n      <td>Sales</td>\n      <td>Husband</td>\n      <td>White</td>\n      <td>Male</td>\n      <td>0</td>\n      <td>0</td>\n      <td>40</td>\n      <td>United-States</td>\n    </tr>\n    <tr>\n      <th>3</th>\n      <td>46</td>\n      <td>Private</td>\n      <td>5th-6th</td>\n      <td>3</td>\n      <td>Married-civ-spouse</td>\n      <td>Transport-moving</td>\n      <td>Husband</td>\n      <td>Amer-Indian-Eskimo</td>\n      <td>Male</td>\n      <td>0</td>\n      <td>1902</td>\n      <td>40</td>\n      <td>United-States</td>\n    </tr>\n    <tr>\n      <th>4</th>\n      <td>45</td>\n      <td>Private</td>\n      <td>11th</td>\n      <td>7</td>\n      <td>Divorced</td>\n      <td>Transport-moving</td>\n      <td>Not-in-family</td>\n      <td>White</td>\n      <td>Male</td>\n      <td>0</td>\n      <td>2824</td>\n      <td>76</td>\n      <td>United-States</td>\n    </tr>\n  </tbody>\n</table>\n</div>"
     },
     "execution_count": 41,
     "metadata": {},
     "output_type": "execute_result"
    }
   ],
   "source": [
    "# Checking the data\n",
    "X_train.head()"
   ],
   "metadata": {
    "collapsed": false,
    "ExecuteTime": {
     "end_time": "2024-01-23T08:03:20.273635900Z",
     "start_time": "2024-01-23T08:03:20.176513600Z"
    }
   },
   "id": "93a4b4754e83745c",
   "execution_count": 41
  },
  {
   "cell_type": "code",
   "outputs": [
    {
     "data": {
      "text/plain": "   age  workclass     education  education-num      marital-status  \\\n0   25    Private          11th              7       Never-married   \n1   38    Private       HS-grad              9  Married-civ-spouse   \n2   28  Local-gov    Assoc-acdm             12  Married-civ-spouse   \n3   44    Private  Some-college             10  Married-civ-spouse   \n4   18          ?  Some-college             10       Never-married   \n\n          occupation relationship   race     sex  capital-gain  capital-loss  \\\n0  Machine-op-inspct    Own-child  Black    Male             0             0   \n1    Farming-fishing      Husband  White    Male             0             0   \n2    Protective-serv      Husband  White    Male             0             0   \n3  Machine-op-inspct      Husband  Black    Male          7688             0   \n4                  ?    Own-child  White  Female             0             0   \n\n   hours-per-week native-country  \n0              40  United-States  \n1              50  United-States  \n2              40  United-States  \n3              40  United-States  \n4              30  United-States  ",
      "text/html": "<div>\n<style scoped>\n    .dataframe tbody tr th:only-of-type {\n        vertical-align: middle;\n    }\n\n    .dataframe tbody tr th {\n        vertical-align: top;\n    }\n\n    .dataframe thead th {\n        text-align: right;\n    }\n</style>\n<table border=\"1\" class=\"dataframe\">\n  <thead>\n    <tr style=\"text-align: right;\">\n      <th></th>\n      <th>age</th>\n      <th>workclass</th>\n      <th>education</th>\n      <th>education-num</th>\n      <th>marital-status</th>\n      <th>occupation</th>\n      <th>relationship</th>\n      <th>race</th>\n      <th>sex</th>\n      <th>capital-gain</th>\n      <th>capital-loss</th>\n      <th>hours-per-week</th>\n      <th>native-country</th>\n    </tr>\n  </thead>\n  <tbody>\n    <tr>\n      <th>0</th>\n      <td>25</td>\n      <td>Private</td>\n      <td>11th</td>\n      <td>7</td>\n      <td>Never-married</td>\n      <td>Machine-op-inspct</td>\n      <td>Own-child</td>\n      <td>Black</td>\n      <td>Male</td>\n      <td>0</td>\n      <td>0</td>\n      <td>40</td>\n      <td>United-States</td>\n    </tr>\n    <tr>\n      <th>1</th>\n      <td>38</td>\n      <td>Private</td>\n      <td>HS-grad</td>\n      <td>9</td>\n      <td>Married-civ-spouse</td>\n      <td>Farming-fishing</td>\n      <td>Husband</td>\n      <td>White</td>\n      <td>Male</td>\n      <td>0</td>\n      <td>0</td>\n      <td>50</td>\n      <td>United-States</td>\n    </tr>\n    <tr>\n      <th>2</th>\n      <td>28</td>\n      <td>Local-gov</td>\n      <td>Assoc-acdm</td>\n      <td>12</td>\n      <td>Married-civ-spouse</td>\n      <td>Protective-serv</td>\n      <td>Husband</td>\n      <td>White</td>\n      <td>Male</td>\n      <td>0</td>\n      <td>0</td>\n      <td>40</td>\n      <td>United-States</td>\n    </tr>\n    <tr>\n      <th>3</th>\n      <td>44</td>\n      <td>Private</td>\n      <td>Some-college</td>\n      <td>10</td>\n      <td>Married-civ-spouse</td>\n      <td>Machine-op-inspct</td>\n      <td>Husband</td>\n      <td>Black</td>\n      <td>Male</td>\n      <td>7688</td>\n      <td>0</td>\n      <td>40</td>\n      <td>United-States</td>\n    </tr>\n    <tr>\n      <th>4</th>\n      <td>18</td>\n      <td>?</td>\n      <td>Some-college</td>\n      <td>10</td>\n      <td>Never-married</td>\n      <td>?</td>\n      <td>Own-child</td>\n      <td>White</td>\n      <td>Female</td>\n      <td>0</td>\n      <td>0</td>\n      <td>30</td>\n      <td>United-States</td>\n    </tr>\n  </tbody>\n</table>\n</div>"
     },
     "execution_count": 42,
     "metadata": {},
     "output_type": "execute_result"
    }
   ],
   "source": [
    "X_test.head()"
   ],
   "metadata": {
    "collapsed": false,
    "ExecuteTime": {
     "end_time": "2024-01-23T08:03:20.275636300Z",
     "start_time": "2024-01-23T08:03:20.192031800Z"
    }
   },
   "id": "a805b00310a8239c",
   "execution_count": 42
  },
  {
   "cell_type": "code",
   "outputs": [
    {
     "data": {
      "text/plain": "0    <=50K\n1    <=50K\n2    <=50K\n3    <=50K\n4     >50K\nName: target, dtype: object"
     },
     "execution_count": 43,
     "metadata": {},
     "output_type": "execute_result"
    }
   ],
   "source": [
    "Y_train.head()"
   ],
   "metadata": {
    "collapsed": false,
    "ExecuteTime": {
     "end_time": "2024-01-23T08:03:20.277626900Z",
     "start_time": "2024-01-23T08:03:20.201073300Z"
    }
   },
   "id": "8c7f0348185b5858",
   "execution_count": 43
  },
  {
   "cell_type": "code",
   "outputs": [
    {
     "data": {
      "text/plain": "0    <=50K\n1    <=50K\n2     >50K\n3     >50K\n4    <=50K\nName: target, dtype: object"
     },
     "execution_count": 44,
     "metadata": {},
     "output_type": "execute_result"
    }
   ],
   "source": [
    "Y_test.head()"
   ],
   "metadata": {
    "collapsed": false,
    "ExecuteTime": {
     "end_time": "2024-01-23T08:03:20.313390100Z",
     "start_time": "2024-01-23T08:03:20.218138600Z"
    }
   },
   "id": "c68a9cdb13719b0b",
   "execution_count": 44
  },
  {
   "cell_type": "markdown",
   "source": [
    "### Step 2: Encoding the features as numbers."
   ],
   "metadata": {
    "collapsed": false
   },
   "id": "cb59ce8c569b0d0a"
  },
  {
   "cell_type": "code",
   "outputs": [
    {
     "data": {
      "text/plain": "((32561, 107), (16281, 107))"
     },
     "execution_count": 45,
     "metadata": {},
     "output_type": "execute_result"
    }
   ],
   "source": [
    "# Initialize the DictVectorizer\n",
    "vec = DictVectorizer(sparse=False)\n",
    "\n",
    "# Convert the training and test data into a list of dictionaries\n",
    "X_train_dict = X_train.to_dict(orient='records')\n",
    "X_test_dict = X_test.to_dict(orient='records')\n",
    "\n",
    "# Apply DictVectorizer to the training and test data\n",
    "X_train_encoded = vec.fit_transform(X_train_dict)\n",
    "X_test_encoded = vec.transform(X_test_dict)\n",
    "\n",
    "# Check the shape of the encoded data\n",
    "X_train_encoded.shape, X_test_encoded.shape"
   ],
   "metadata": {
    "collapsed": false,
    "ExecuteTime": {
     "end_time": "2024-01-23T08:03:21.552415400Z",
     "start_time": "2024-01-23T08:03:20.231687400Z"
    }
   },
   "id": "aba017e0aec0efbd",
   "execution_count": 45
  },
  {
   "cell_type": "code",
   "outputs": [],
   "source": [
    "# Scale the training and test data\n",
    "scaler = StandardScaler()\n",
    "X_train_scaled = scaler.fit_transform(X_train_encoded)\n",
    "X_test_scaled = scaler.transform(X_test_encoded)"
   ],
   "metadata": {
    "collapsed": false,
    "ExecuteTime": {
     "end_time": "2024-01-23T08:03:21.628426400Z",
     "start_time": "2024-01-23T08:03:21.555396400Z"
    }
   },
   "id": "d4ad57d468334698",
   "execution_count": 46
  },
  {
   "cell_type": "code",
   "outputs": [
    {
     "data": {
      "text/plain": "0.8513560197691934"
     },
     "execution_count": 47,
     "metadata": {},
     "output_type": "execute_result"
    }
   ],
   "source": [
    "# Initialize the Logistic Regression classifier\n",
    "logistic_regression_classifier = LogisticRegression(max_iter=5000)\n",
    "\n",
    "# Perform cross-validation on the training set\n",
    "cross_val_scores = cross_val_score(logistic_regression_classifier, X_train_scaled, Y_train, cv=5)\n",
    "\n",
    "# Calculate the mean accuracy from the cross-validation\n",
    "mean_cv_accuracy = np.mean(cross_val_scores)\n",
    "\n",
    "mean_cv_accuracy"
   ],
   "metadata": {
    "collapsed": false,
    "ExecuteTime": {
     "end_time": "2024-01-23T08:03:23.901027400Z",
     "start_time": "2024-01-23T08:03:21.632401Z"
    }
   },
   "id": "413d5bc49d2b08c",
   "execution_count": 47
  },
  {
   "cell_type": "markdown",
   "source": [
    "### Step 3. Combining the steps."
   ],
   "metadata": {
    "collapsed": false
   },
   "id": "4c3c97c23805a896"
  },
  {
   "cell_type": "code",
   "outputs": [
    {
     "data": {
      "text/plain": "(0.8513253072384808, 0.8517904305632332)"
     },
     "execution_count": 48,
     "metadata": {},
     "output_type": "execute_result"
    }
   ],
   "source": [
    "# Create the pipeline\n",
    "pipeline = make_pipeline(\n",
    "    DictVectorizer(sparse=False),\n",
    "    StandardScaler(),\n",
    "    LogisticRegression(max_iter=5000)\n",
    ")\n",
    "\n",
    "# Train the pipeline\n",
    "pipeline.fit(X_train_dict, Y_train)\n",
    "\n",
    "# Perform cross-validation on the pipeline\n",
    "cross_val_scores = cross_val_score(pipeline, X_train_dict, Y_train, cv=5)\n",
    "\n",
    "# Calculate the mean accuracy from the cross-validation\n",
    "mean_cv_accuracy = np.mean(cross_val_scores)\n",
    "\n",
    "# Evaluate on test data\n",
    "test_accuracy = pipeline.score(X_test_dict, Y_test)\n",
    "\n",
    "mean_cv_accuracy, test_accuracy"
   ],
   "metadata": {
    "collapsed": false,
    "ExecuteTime": {
     "end_time": "2024-01-23T08:03:29.948001500Z",
     "start_time": "2024-01-23T08:03:23.904309900Z"
    }
   },
   "id": "601172f7d271601a",
   "execution_count": 48
  },
  {
   "cell_type": "markdown",
   "source": [
    "## Task 2: Decision trees and random forests\n",
    "***"
   ],
   "metadata": {
    "collapsed": false
   },
   "id": "cc196bd133e44206"
  },
  {
   "cell_type": "code",
   "outputs": [],
   "source": [],
   "metadata": {
    "collapsed": false
   },
   "id": "7959914124e6022a"
  }
 ],
 "metadata": {
  "kernelspec": {
   "display_name": "Python 3",
   "language": "python",
   "name": "python3"
  },
  "language_info": {
   "codemirror_mode": {
    "name": "ipython",
    "version": 2
   },
   "file_extension": ".py",
   "mimetype": "text/x-python",
   "name": "python",
   "nbconvert_exporter": "python",
   "pygments_lexer": "ipython2",
   "version": "2.7.6"
  }
 },
 "nbformat": 4,
 "nbformat_minor": 5
}
